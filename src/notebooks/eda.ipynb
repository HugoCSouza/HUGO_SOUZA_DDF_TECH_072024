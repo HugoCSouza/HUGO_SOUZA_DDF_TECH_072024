{
 "cells": [
  {
   "cell_type": "markdown",
   "metadata": {},
   "source": [
    "# Importações de bibliotecas"
   ]
  },
  {
   "cell_type": "code",
   "execution_count": 1,
   "metadata": {},
   "outputs": [],
   "source": [
    "\n",
    "import great_expectations as gx\n",
    "import pandas as pd\n",
    "import numpy as np\n",
    "import matplotlib as plt\n",
    "import matplotlib.pyplot as pyploy"
   ]
  },
  {
   "cell_type": "markdown",
   "metadata": {},
   "source": [
    "# Importação de arquivos"
   ]
  },
  {
   "cell_type": "code",
   "execution_count": 2,
   "metadata": {},
   "outputs": [],
   "source": [
    "bd = pd.read_csv('../dataset/payroll/payroll.csv')"
   ]
  },
  {
   "cell_type": "markdown",
   "metadata": {},
   "source": [
    "# EDA"
   ]
  },
  {
   "cell_type": "markdown",
   "metadata": {},
   "source": [
    "## Colunas Nulas"
   ]
  },
  {
   "cell_type": "markdown",
   "metadata": {},
   "source": [
    "### Verificação de colunas nulas"
   ]
  },
  {
   "cell_type": "code",
   "execution_count": 3,
   "metadata": {},
   "outputs": [
    {
     "name": "stdout",
     "output_type": "stream",
     "text": [
      "<class 'pandas.core.frame.DataFrame'>\n",
      "RangeIndex: 685461 entries, 0 to 685460\n",
      "Data columns (total 18 columns):\n",
      " #   Column                         Non-Null Count   Dtype  \n",
      "---  ------                         --------------   -----  \n",
      " 0   RECORD_NBR                     685461 non-null  object \n",
      " 1   PAY_YEAR                       685461 non-null  int64  \n",
      " 2   DEPARTMENT_NO                  685461 non-null  int64  \n",
      " 3   DEPARTMENT_TITLE               685461 non-null  object \n",
      " 4   JOB_CLASS_PGRADE               684919 non-null  object \n",
      " 5   JOB_TITLE                      684919 non-null  object \n",
      " 6   EMPLOYMENT_TYPE                685461 non-null  object \n",
      " 7   JOB_STATUS                     685461 non-null  object \n",
      " 8   MOU                            684777 non-null  object \n",
      " 9   MOU_TITLE                      684712 non-null  object \n",
      " 10  REGULAR_PAY                    685461 non-null  float64\n",
      " 11  OVERTIME_PAY                   685027 non-null  float64\n",
      " 12  ALL_OTHER_PAY                  685027 non-null  float64\n",
      " 13  TOTAL_PAY                      685461 non-null  float64\n",
      " 14  CITY_RETIREMENT_CONTRIBUTIONS  685461 non-null  float64\n",
      " 15  BENEFIT_PAY                    685461 non-null  float64\n",
      " 16  GENDER                         681600 non-null  object \n",
      " 17  ETHNICITY                      681249 non-null  object \n",
      "dtypes: float64(6), int64(2), object(10)\n",
      "memory usage: 94.1+ MB\n"
     ]
    }
   ],
   "source": [
    "bd.info()"
   ]
  },
  {
   "cell_type": "code",
   "execution_count": 4,
   "metadata": {},
   "outputs": [
    {
     "data": {
      "text/plain": [
       "RECORD_NBR                          0\n",
       "PAY_YEAR                            0\n",
       "DEPARTMENT_NO                       0\n",
       "DEPARTMENT_TITLE                    0\n",
       "JOB_CLASS_PGRADE                  542\n",
       "JOB_TITLE                         542\n",
       "EMPLOYMENT_TYPE                     0\n",
       "JOB_STATUS                          0\n",
       "MOU                               684\n",
       "MOU_TITLE                         749\n",
       "REGULAR_PAY                         0\n",
       "OVERTIME_PAY                      434\n",
       "ALL_OTHER_PAY                     434\n",
       "TOTAL_PAY                           0\n",
       "CITY_RETIREMENT_CONTRIBUTIONS       0\n",
       "BENEFIT_PAY                         0\n",
       "GENDER                           3861\n",
       "ETHNICITY                        4212\n",
       "dtype: int64"
      ]
     },
     "execution_count": 4,
     "metadata": {},
     "output_type": "execute_result"
    }
   ],
   "source": [
    "bd.isna().sum()"
   ]
  },
  {
   "cell_type": "markdown",
   "metadata": {},
   "source": [
    "### Análise das colunas nulas"
   ]
  },
  {
   "cell_type": "markdown",
   "metadata": {},
   "source": [
    "#### Coluna \"JOB_CLASS_PGRADE\""
   ]
  },
  {
   "cell_type": "code",
   "execution_count": 5,
   "metadata": {},
   "outputs": [
    {
     "data": {
      "text/plain": [
       "EMPLOYMENT_TYPE\n",
       "PER_EVENT    542\n",
       "Name: count, dtype: int64"
      ]
     },
     "execution_count": 5,
     "metadata": {},
     "output_type": "execute_result"
    }
   ],
   "source": [
    "job_class_nulas = bd[bd['JOB_CLASS_PGRADE'].isna()]\n",
    "job_class_nulas['EMPLOYMENT_TYPE'].value_counts()"
   ]
  },
  {
   "cell_type": "markdown",
   "metadata": {},
   "source": [
    "Vemos que a informação que estão nulas na coluna de nivel de cargo são apenas referentes aos cargos contratados por evento. Ou seja, nos cargos referentes a contratado por um tempo"
   ]
  },
  {
   "cell_type": "markdown",
   "metadata": {},
   "source": [
    "#### Coluna \"JOB_TITLE\""
   ]
  },
  {
   "cell_type": "code",
   "execution_count": 6,
   "metadata": {},
   "outputs": [
    {
     "data": {
      "text/plain": [
       "EMPLOYMENT_TYPE\n",
       "PER_EVENT    542\n",
       "Name: count, dtype: int64"
      ]
     },
     "execution_count": 6,
     "metadata": {},
     "output_type": "execute_result"
    }
   ],
   "source": [
    "job_title_nulas = bd[bd['JOB_TITLE'].isna()]\n",
    "job_title_nulas['EMPLOYMENT_TYPE'].value_counts()"
   ]
  },
  {
   "cell_type": "markdown",
   "metadata": {},
   "source": [
    "Esssa coluna do nome do cargo sofre do mesmo problema da \"JOB_CLASS_PGRADE\", sendo o titulo do cargo (provavelmente o nome de carreira do cargo, ex: analista I,II,III) inexistente apenas nos registros de trabalhadores contratados por evento, ou seja, durante um tempo determinado."
   ]
  },
  {
   "cell_type": "markdown",
   "metadata": {},
   "source": [
    "#### Coluna \"MOU\""
   ]
  },
  {
   "cell_type": "code",
   "execution_count": 7,
   "metadata": {},
   "outputs": [
    {
     "data": {
      "text/plain": [
       "EMPLOYMENT_TYPE\n",
       "PER_EVENT    542\n",
       "FULL_TIME    141\n",
       "PART_TIME      1\n",
       "Name: count, dtype: int64"
      ]
     },
     "execution_count": 7,
     "metadata": {},
     "output_type": "execute_result"
    }
   ],
   "source": [
    "mou_nulas = bd[bd['MOU'].isna()]\n",
    "mou_nulas['EMPLOYMENT_TYPE'].value_counts()"
   ]
  },
  {
   "cell_type": "code",
   "execution_count": 8,
   "metadata": {},
   "outputs": [
    {
     "data": {
      "text/plain": [
       "DEPARTMENT_NO\n",
       "98    141\n",
       "Name: count, dtype: int64"
      ]
     },
     "execution_count": 8,
     "metadata": {},
     "output_type": "execute_result"
    }
   ],
   "source": [
    "mou_nulas_full = mou_nulas[mou_nulas[\"EMPLOYMENT_TYPE\"] == \"FULL_TIME\"]\n",
    "mou_nulas_full[\"DEPARTMENT_NO\"].value_counts()"
   ]
  },
  {
   "cell_type": "code",
   "execution_count": 9,
   "metadata": {},
   "outputs": [
    {
     "data": {
      "text/html": [
       "<div>\n",
       "<style scoped>\n",
       "    .dataframe tbody tr th:only-of-type {\n",
       "        vertical-align: middle;\n",
       "    }\n",
       "\n",
       "    .dataframe tbody tr th {\n",
       "        vertical-align: top;\n",
       "    }\n",
       "\n",
       "    .dataframe thead th {\n",
       "        text-align: right;\n",
       "    }\n",
       "</style>\n",
       "<table border=\"1\" class=\"dataframe\">\n",
       "  <thead>\n",
       "    <tr style=\"text-align: right;\">\n",
       "      <th></th>\n",
       "      <th>RECORD_NBR</th>\n",
       "      <th>PAY_YEAR</th>\n",
       "      <th>DEPARTMENT_NO</th>\n",
       "      <th>DEPARTMENT_TITLE</th>\n",
       "      <th>JOB_CLASS_PGRADE</th>\n",
       "      <th>JOB_TITLE</th>\n",
       "      <th>EMPLOYMENT_TYPE</th>\n",
       "      <th>JOB_STATUS</th>\n",
       "      <th>MOU</th>\n",
       "      <th>MOU_TITLE</th>\n",
       "      <th>REGULAR_PAY</th>\n",
       "      <th>OVERTIME_PAY</th>\n",
       "      <th>ALL_OTHER_PAY</th>\n",
       "      <th>TOTAL_PAY</th>\n",
       "      <th>CITY_RETIREMENT_CONTRIBUTIONS</th>\n",
       "      <th>BENEFIT_PAY</th>\n",
       "      <th>GENDER</th>\n",
       "      <th>ETHNICITY</th>\n",
       "    </tr>\n",
       "  </thead>\n",
       "  <tbody>\n",
       "    <tr>\n",
       "      <th>248344</th>\n",
       "      <td>X956177629</td>\n",
       "      <td>2013</td>\n",
       "      <td>98</td>\n",
       "      <td>WATER AND POWER</td>\n",
       "      <td>1535</td>\n",
       "      <td>ADMINISTRATIVE INTERN</td>\n",
       "      <td>PART_TIME</td>\n",
       "      <td>NOT_ACTIVE</td>\n",
       "      <td>NaN</td>\n",
       "      <td>NaN</td>\n",
       "      <td>11452.45</td>\n",
       "      <td>NaN</td>\n",
       "      <td>NaN</td>\n",
       "      <td>11452.45</td>\n",
       "      <td>0.0</td>\n",
       "      <td>0.0</td>\n",
       "      <td>NaN</td>\n",
       "      <td>NaN</td>\n",
       "    </tr>\n",
       "  </tbody>\n",
       "</table>\n",
       "</div>"
      ],
      "text/plain": [
       "        RECORD_NBR  PAY_YEAR  DEPARTMENT_NO DEPARTMENT_TITLE JOB_CLASS_PGRADE  \\\n",
       "248344  X956177629      2013             98  WATER AND POWER             1535   \n",
       "\n",
       "                    JOB_TITLE EMPLOYMENT_TYPE  JOB_STATUS  MOU MOU_TITLE  \\\n",
       "248344  ADMINISTRATIVE INTERN       PART_TIME  NOT_ACTIVE  NaN       NaN   \n",
       "\n",
       "        REGULAR_PAY  OVERTIME_PAY  ALL_OTHER_PAY  TOTAL_PAY  \\\n",
       "248344     11452.45           NaN            NaN   11452.45   \n",
       "\n",
       "        CITY_RETIREMENT_CONTRIBUTIONS  BENEFIT_PAY GENDER ETHNICITY  \n",
       "248344                            0.0          0.0    NaN       NaN  "
      ]
     },
     "execution_count": 9,
     "metadata": {},
     "output_type": "execute_result"
    }
   ],
   "source": [
    "mou_nulas_part = mou_nulas[mou_nulas[\"EMPLOYMENT_TYPE\"] == \"PART_TIME\"]\n",
    "mou_nulas_part"
   ]
  },
  {
   "cell_type": "code",
   "execution_count": 10,
   "metadata": {},
   "outputs": [
    {
     "data": {
      "text/plain": [
       "PAY_YEAR\n",
       "2013    67\n",
       "2014    40\n",
       "2015    35\n",
       "Name: count, dtype: int64"
      ]
     },
     "execution_count": 10,
     "metadata": {},
     "output_type": "execute_result"
    }
   ],
   "source": [
    "both_type = (mou_nulas[\"EMPLOYMENT_TYPE\"] == \"FULL_TIME\") | (mou_nulas[\"EMPLOYMENT_TYPE\"] == \"PART_TIME\")\n",
    "\n",
    "mou_nulas_both = mou_nulas[both_type]\n",
    "mou_nulas_both[\"PAY_YEAR\"].value_counts()"
   ]
  },
  {
   "cell_type": "code",
   "execution_count": 11,
   "metadata": {},
   "outputs": [
    {
     "data": {
      "text/plain": [
       "0"
      ]
     },
     "execution_count": 11,
     "metadata": {},
     "output_type": "execute_result"
    }
   ],
   "source": [
    "bd_more_2015 = bd[(bd[\"PAY_YEAR\"] > 2015) & (bd[\"DEPARTMENT_NO\"] == 98)]\n",
    "bd_more_2015[\"MOU\"].isna().sum()"
   ]
  },
  {
   "cell_type": "markdown",
   "metadata": {},
   "source": [
    "Há algumas análises a entender para o MOU. Como já explicado, MOU é uma espécie de acordo trabalhista entre as partes. Em relações temporárias, este acordo trabalhista pode não existir sendo que pode ser uma prestação de serviço sendo de pessoa juridica para pessoa juridica, o que bastante comum. Em todos os outros casos, a inexistencia do MOU se concentra no departamento 98 entre os anos de 2013 á 2015. Podemos pressupor que durante este tempo, houve uma movimentação dos trabalhadores deste departamento para se criar uma convenção de como seriam regidos os contratos de trabalho dos trabalhadores daquela área. Ou mesmo, pode ser um movimento da prefeitura em formalizar este acordo."
   ]
  },
  {
   "cell_type": "markdown",
   "metadata": {},
   "source": [
    "#### Coluna \"MOU_TITLE\""
   ]
  },
  {
   "cell_type": "code",
   "execution_count": 12,
   "metadata": {},
   "outputs": [
    {
     "data": {
      "text/plain": [
       "EMPLOYMENT_TYPE\n",
       "PER_EVENT    542\n",
       "FULL_TIME    206\n",
       "PART_TIME      1\n",
       "Name: count, dtype: int64"
      ]
     },
     "execution_count": 12,
     "metadata": {},
     "output_type": "execute_result"
    }
   ],
   "source": [
    "mou_title_nulas = bd[bd['MOU_TITLE'].isna()]\n",
    "mou_title_nulas['EMPLOYMENT_TYPE'].value_counts()"
   ]
  },
  {
   "cell_type": "code",
   "execution_count": 13,
   "metadata": {},
   "outputs": [
    {
     "data": {
      "text/plain": [
       "65"
      ]
     },
     "execution_count": 13,
     "metadata": {},
     "output_type": "execute_result"
    }
   ],
   "source": [
    "not_dep_98 = (mou_title_nulas['DEPARTMENT_NO'] == 98) | (mou_title_nulas['EMPLOYMENT_TYPE'] == \"PER_EVENT\")\n",
    "mou_title_filtered = mou_title_nulas[~not_dep_98]\n",
    "\n",
    "mou_title_filtered[~not_dep_98].shape[0]"
   ]
  },
  {
   "cell_type": "code",
   "execution_count": 14,
   "metadata": {},
   "outputs": [
    {
     "data": {
      "text/plain": [
       "MOU\n",
       "65.0    45\n",
       "65      20\n",
       "Name: count, dtype: int64"
      ]
     },
     "execution_count": 14,
     "metadata": {},
     "output_type": "execute_result"
    }
   ],
   "source": [
    "mou_title_filtered['MOU'].value_counts()"
   ]
  },
  {
   "cell_type": "markdown",
   "metadata": {},
   "source": [
    "Retirando todos os registros em que o MOU não existe, os quais já discutimos no tópico anterior, é possível verificar que o MOU que não possue título é do mesmo MOU (65). Isso não causa inconsistência nos dados, visto que a ausência ou presenca afeterá todos os registro similares."
   ]
  },
  {
   "cell_type": "markdown",
   "metadata": {},
   "source": [
    "#### Coluna \"OVERTIME_PAY\""
   ]
  },
  {
   "cell_type": "code",
   "execution_count": 15,
   "metadata": {},
   "outputs": [
    {
     "data": {
      "text/plain": [
       "EMPLOYMENT_TYPE\n",
       "PART_TIME    434\n",
       "Name: count, dtype: int64"
      ]
     },
     "execution_count": 15,
     "metadata": {},
     "output_type": "execute_result"
    }
   ],
   "source": [
    "over_pay_nulas = bd[bd['OVERTIME_PAY'].isna()]\n",
    "over_pay_nulas['EMPLOYMENT_TYPE'].value_counts()"
   ]
  },
  {
   "cell_type": "code",
   "execution_count": 16,
   "metadata": {},
   "outputs": [
    {
     "data": {
      "text/plain": [
       "DEPARTMENT_NO\n",
       "98    434\n",
       "Name: count, dtype: int64"
      ]
     },
     "execution_count": 16,
     "metadata": {},
     "output_type": "execute_result"
    }
   ],
   "source": [
    "over_pay_nulas[\"DEPARTMENT_NO\"].value_counts()"
   ]
  },
  {
   "cell_type": "code",
   "execution_count": 17,
   "metadata": {},
   "outputs": [
    {
     "data": {
      "text/plain": [
       "PAY_YEAR\n",
       "2015    158\n",
       "2014    154\n",
       "2013    122\n",
       "Name: count, dtype: int64"
      ]
     },
     "execution_count": 17,
     "metadata": {},
     "output_type": "execute_result"
    }
   ],
   "source": [
    "over_pay_nulas[\"PAY_YEAR\"].value_counts()"
   ]
  },
  {
   "cell_type": "markdown",
   "metadata": {},
   "source": [
    "A análise desta coluna se complementa as outras já analisadas. Partindo do pressuposto inferido nas análise das colunas \"MOU\" e \"MOU_TITLE\", é possivel enxergar que todos os pagamentos sobre horas extras encaem sobre os trabalhadores meio periodo que trabalhavam no departamento que durante o periodo que não possue registros de uma regulamentação trabalhista. Sendo assim, é possivel pressupor que não se existia pagamento de horas extras para trabalhadores meio periodo justamente pela ausência de regulamentação. Essa hipóteses carece de validação factual. "
   ]
  },
  {
   "cell_type": "markdown",
   "metadata": {},
   "source": [
    "#### Coluna \"ALL_OTHER_PAY\""
   ]
  },
  {
   "cell_type": "code",
   "execution_count": 18,
   "metadata": {},
   "outputs": [
    {
     "data": {
      "text/plain": [
       "EMPLOYMENT_TYPE\n",
       "PART_TIME    434\n",
       "Name: count, dtype: int64"
      ]
     },
     "execution_count": 18,
     "metadata": {},
     "output_type": "execute_result"
    }
   ],
   "source": [
    "other_pay_nulas = bd[bd['ALL_OTHER_PAY'].isna()]\n",
    "other_pay_nulas['EMPLOYMENT_TYPE'].value_counts()"
   ]
  },
  {
   "cell_type": "code",
   "execution_count": 19,
   "metadata": {},
   "outputs": [
    {
     "data": {
      "text/plain": [
       "DEPARTMENT_NO\n",
       "98    434\n",
       "Name: count, dtype: int64"
      ]
     },
     "execution_count": 19,
     "metadata": {},
     "output_type": "execute_result"
    }
   ],
   "source": [
    "other_pay_nulas[\"DEPARTMENT_NO\"].value_counts()"
   ]
  },
  {
   "cell_type": "code",
   "execution_count": 20,
   "metadata": {},
   "outputs": [
    {
     "data": {
      "text/plain": [
       "PAY_YEAR\n",
       "2015    158\n",
       "2014    154\n",
       "2013    122\n",
       "Name: count, dtype: int64"
      ]
     },
     "execution_count": 20,
     "metadata": {},
     "output_type": "execute_result"
    }
   ],
   "source": [
    "other_pay_nulas[\"PAY_YEAR\"].value_counts()"
   ]
  },
  {
   "cell_type": "code",
   "execution_count": 21,
   "metadata": {},
   "outputs": [
    {
     "data": {
      "text/plain": [
       "434"
      ]
     },
     "execution_count": 21,
     "metadata": {},
     "output_type": "execute_result"
    }
   ],
   "source": [
    "both_pay = (bd['ALL_OTHER_PAY'].isna() |  bd['ALL_OTHER_PAY'].isna())\n",
    "bd[both_pay].shape[0]"
   ]
  },
  {
   "cell_type": "markdown",
   "metadata": {},
   "source": [
    "Esta analise complementa a anterior, verificando que, para os trabalhadores meio periodo do departamento 98, antes de se regulamentar a MOU, não era feito nenhum pagamento adicional. Todos os funcionarios que carecem de informações sobre pagamentos adicionais (possuem valores das colunas) são os mesmos quando se realiza uma mascara booleana."
   ]
  },
  {
   "cell_type": "markdown",
   "metadata": {},
   "source": [
    "#### Coluna \"GENDER\""
   ]
  },
  {
   "cell_type": "code",
   "execution_count": 22,
   "metadata": {},
   "outputs": [
    {
     "data": {
      "text/plain": [
       "PAY_YEAR\n",
       "2013    1679\n",
       "2014    1383\n",
       "2015     798\n",
       "2016       1\n",
       "Name: count, dtype: int64"
      ]
     },
     "execution_count": 22,
     "metadata": {},
     "output_type": "execute_result"
    }
   ],
   "source": [
    "gender_nulas = bd[bd['GENDER'].isna()]\n",
    "gender_nulas['PAY_YEAR'].value_counts()"
   ]
  },
  {
   "cell_type": "code",
   "execution_count": 23,
   "metadata": {},
   "outputs": [
    {
     "data": {
      "text/plain": [
       "DEPARTMENT_NO\n",
       "98    3857\n",
       "17       4\n",
       "Name: count, dtype: int64"
      ]
     },
     "execution_count": 23,
     "metadata": {},
     "output_type": "execute_result"
    }
   ],
   "source": [
    "gender_nulas[\"DEPARTMENT_NO\"].value_counts()"
   ]
  },
  {
   "cell_type": "code",
   "execution_count": 24,
   "metadata": {},
   "outputs": [
    {
     "data": {
      "text/html": [
       "<div>\n",
       "<style scoped>\n",
       "    .dataframe tbody tr th:only-of-type {\n",
       "        vertical-align: middle;\n",
       "    }\n",
       "\n",
       "    .dataframe tbody tr th {\n",
       "        vertical-align: top;\n",
       "    }\n",
       "\n",
       "    .dataframe thead th {\n",
       "        text-align: right;\n",
       "    }\n",
       "</style>\n",
       "<table border=\"1\" class=\"dataframe\">\n",
       "  <thead>\n",
       "    <tr style=\"text-align: right;\">\n",
       "      <th></th>\n",
       "      <th>RECORD_NBR</th>\n",
       "      <th>PAY_YEAR</th>\n",
       "      <th>DEPARTMENT_NO</th>\n",
       "      <th>DEPARTMENT_TITLE</th>\n",
       "      <th>JOB_CLASS_PGRADE</th>\n",
       "      <th>JOB_TITLE</th>\n",
       "      <th>EMPLOYMENT_TYPE</th>\n",
       "      <th>JOB_STATUS</th>\n",
       "      <th>MOU</th>\n",
       "      <th>MOU_TITLE</th>\n",
       "      <th>REGULAR_PAY</th>\n",
       "      <th>OVERTIME_PAY</th>\n",
       "      <th>ALL_OTHER_PAY</th>\n",
       "      <th>TOTAL_PAY</th>\n",
       "      <th>CITY_RETIREMENT_CONTRIBUTIONS</th>\n",
       "      <th>BENEFIT_PAY</th>\n",
       "      <th>GENDER</th>\n",
       "      <th>ETHNICITY</th>\n",
       "    </tr>\n",
       "  </thead>\n",
       "  <tbody>\n",
       "    <tr>\n",
       "      <th>63196</th>\n",
       "      <td>303435303832</td>\n",
       "      <td>2013</td>\n",
       "      <td>17</td>\n",
       "      <td>CITY ETHICS COMMISSION</td>\n",
       "      <td>0015-0</td>\n",
       "      <td>ETHICS OFFICER I</td>\n",
       "      <td>FULL_TIME</td>\n",
       "      <td>NOT_ACTIVE</td>\n",
       "      <td>36</td>\n",
       "      <td>MANAGEMENT EMPLOYEES</td>\n",
       "      <td>102954.00</td>\n",
       "      <td>0.00</td>\n",
       "      <td>40.00</td>\n",
       "      <td>102994.00</td>\n",
       "      <td>30536.16</td>\n",
       "      <td>7925.00</td>\n",
       "      <td>NaN</td>\n",
       "      <td>NaN</td>\n",
       "    </tr>\n",
       "    <tr>\n",
       "      <th>116901</th>\n",
       "      <td>303435303832</td>\n",
       "      <td>2014</td>\n",
       "      <td>17</td>\n",
       "      <td>CITY ETHICS COMMISSION</td>\n",
       "      <td>0015-0</td>\n",
       "      <td>ETHICS OFFICER I</td>\n",
       "      <td>FULL_TIME</td>\n",
       "      <td>NOT_ACTIVE</td>\n",
       "      <td>36</td>\n",
       "      <td>MANAGEMENT EMPLOYEES</td>\n",
       "      <td>106998.57</td>\n",
       "      <td>0.00</td>\n",
       "      <td>2047.22</td>\n",
       "      <td>109045.79</td>\n",
       "      <td>31735.78</td>\n",
       "      <td>8429.76</td>\n",
       "      <td>NaN</td>\n",
       "      <td>NaN</td>\n",
       "    </tr>\n",
       "    <tr>\n",
       "      <th>170647</th>\n",
       "      <td>303435303832</td>\n",
       "      <td>2015</td>\n",
       "      <td>17</td>\n",
       "      <td>CITY ETHICS COMMISSION</td>\n",
       "      <td>0015-0</td>\n",
       "      <td>ETHICS OFFICER I</td>\n",
       "      <td>FULL_TIME</td>\n",
       "      <td>NOT_ACTIVE</td>\n",
       "      <td>36</td>\n",
       "      <td>MANAGEMENT EMPLOYEES</td>\n",
       "      <td>110868.28</td>\n",
       "      <td>0.00</td>\n",
       "      <td>447.48</td>\n",
       "      <td>111315.76</td>\n",
       "      <td>32883.53</td>\n",
       "      <td>9191.76</td>\n",
       "      <td>NaN</td>\n",
       "      <td>NaN</td>\n",
       "    </tr>\n",
       "    <tr>\n",
       "      <th>475052</th>\n",
       "      <td>303435303832</td>\n",
       "      <td>2016</td>\n",
       "      <td>17</td>\n",
       "      <td>CITY ETHICS COMMISSION</td>\n",
       "      <td>0015-0</td>\n",
       "      <td>ETHICS OFFICER I</td>\n",
       "      <td>FULL_TIME</td>\n",
       "      <td>NOT_ACTIVE</td>\n",
       "      <td>36.0</td>\n",
       "      <td>MANAGEMENT EMPLOYEES</td>\n",
       "      <td>43312.80</td>\n",
       "      <td>13.79</td>\n",
       "      <td>4854.76</td>\n",
       "      <td>48181.35</td>\n",
       "      <td>12846.58</td>\n",
       "      <td>3831.48</td>\n",
       "      <td>NaN</td>\n",
       "      <td>NaN</td>\n",
       "    </tr>\n",
       "  </tbody>\n",
       "</table>\n",
       "</div>"
      ],
      "text/plain": [
       "          RECORD_NBR  PAY_YEAR  DEPARTMENT_NO        DEPARTMENT_TITLE  \\\n",
       "63196   303435303832      2013             17  CITY ETHICS COMMISSION   \n",
       "116901  303435303832      2014             17  CITY ETHICS COMMISSION   \n",
       "170647  303435303832      2015             17  CITY ETHICS COMMISSION   \n",
       "475052  303435303832      2016             17  CITY ETHICS COMMISSION   \n",
       "\n",
       "       JOB_CLASS_PGRADE         JOB_TITLE EMPLOYMENT_TYPE  JOB_STATUS   MOU  \\\n",
       "63196            0015-0  ETHICS OFFICER I       FULL_TIME  NOT_ACTIVE    36   \n",
       "116901           0015-0  ETHICS OFFICER I       FULL_TIME  NOT_ACTIVE    36   \n",
       "170647           0015-0  ETHICS OFFICER I       FULL_TIME  NOT_ACTIVE    36   \n",
       "475052           0015-0  ETHICS OFFICER I       FULL_TIME  NOT_ACTIVE  36.0   \n",
       "\n",
       "                   MOU_TITLE  REGULAR_PAY  OVERTIME_PAY  ALL_OTHER_PAY  \\\n",
       "63196   MANAGEMENT EMPLOYEES    102954.00          0.00          40.00   \n",
       "116901  MANAGEMENT EMPLOYEES    106998.57          0.00        2047.22   \n",
       "170647  MANAGEMENT EMPLOYEES    110868.28          0.00         447.48   \n",
       "475052  MANAGEMENT EMPLOYEES     43312.80         13.79        4854.76   \n",
       "\n",
       "        TOTAL_PAY  CITY_RETIREMENT_CONTRIBUTIONS  BENEFIT_PAY GENDER ETHNICITY  \n",
       "63196   102994.00                       30536.16      7925.00    NaN       NaN  \n",
       "116901  109045.79                       31735.78      8429.76    NaN       NaN  \n",
       "170647  111315.76                       32883.53      9191.76    NaN       NaN  \n",
       "475052   48181.35                       12846.58      3831.48    NaN       NaN  "
      ]
     },
     "execution_count": 24,
     "metadata": {},
     "output_type": "execute_result"
    }
   ],
   "source": [
    "gn_dp17 = gender_nulas[gender_nulas['DEPARTMENT_NO'] == 17]\n",
    "gn_dp17"
   ]
  },
  {
   "cell_type": "code",
   "execution_count": 25,
   "metadata": {},
   "outputs": [
    {
     "data": {
      "text/plain": [
       "JOB_STATUS\n",
       "ACTIVE        2103\n",
       "NOT_ACTIVE    1754\n",
       "Name: count, dtype: int64"
      ]
     },
     "execution_count": 25,
     "metadata": {},
     "output_type": "execute_result"
    }
   ],
   "source": [
    "mask_dp = (gender_nulas['DEPARTMENT_NO'] == 98)\n",
    "\n",
    "gn_dp98 = gender_nulas[mask_dp]\n",
    "gn_dp98[\"JOB_STATUS\"].value_counts()"
   ]
  },
  {
   "cell_type": "code",
   "execution_count": 26,
   "metadata": {},
   "outputs": [
    {
     "data": {
      "text/plain": [
       "JOB_STATUS\n",
       "NOT_ACTIVE    1635\n",
       "ACTIVE         543\n",
       "Name: count, dtype: int64"
      ]
     },
     "execution_count": 26,
     "metadata": {},
     "output_type": "execute_result"
    }
   ],
   "source": [
    "gn_dp98_order = gn_dp98.sort_values(by=[\"PAY_YEAR\", \"RECORD_NBR\"],ascending=[False, True])\n",
    "last_recorded = gn_dp98_order.groupby(\"RECORD_NBR\").first().reset_index()\n",
    "last_recorded[\"JOB_STATUS\"].value_counts()"
   ]
  },
  {
   "cell_type": "code",
   "execution_count": 27,
   "metadata": {},
   "outputs": [],
   "source": [
    "only_actives = last_recorded[last_recorded[\"JOB_STATUS\"] == \"ACTIVE\"]"
   ]
  },
  {
   "cell_type": "code",
   "execution_count": 28,
   "metadata": {},
   "outputs": [
    {
     "name": "stdout",
     "output_type": "stream",
     "text": [
      "270\n"
     ]
    }
   ],
   "source": [
    "employees = list(only_actives[\"RECORD_NBR\"])\n",
    "more_than_1 = []\n",
    "for employee in employees:\n",
    "    records = bd[bd[\"RECORD_NBR\"] == employee]\n",
    "    number_records = records.shape[0]\n",
    "    if number_records > 1:\n",
    "        more_than_1.append(employee)\n",
    "print(len(more_than_1))"
   ]
  },
  {
   "cell_type": "markdown",
   "metadata": {},
   "source": [
    "Ao analisarmos os membros sem o registro do gênero, encontramos um unico empregado que foi desligado em 2017 no departamento 17, e varios outros, registrados no departamento 98, que possuem vácuo de registros, não apresentando dentro da base de dados quando ou se, o seu desligamento ocorreu. Novamente, todas os valores faltantes se encontram no departamento 98 antes do ano de 2016, mas não são os mesmo que possuem ausencia de MOU. Estes dados devem ser tratados mais cautelosamente."
   ]
  },
  {
   "cell_type": "markdown",
   "metadata": {},
   "source": [
    "#### Coluna \"ETHNICITY\""
   ]
  },
  {
   "cell_type": "code",
   "execution_count": 29,
   "metadata": {},
   "outputs": [
    {
     "data": {
      "text/plain": [
       "PAY_YEAR\n",
       "2013    1743\n",
       "2014    1455\n",
       "2015     885\n",
       "2022     126\n",
       "2016       2\n",
       "2018       1\n",
       "Name: count, dtype: int64"
      ]
     },
     "execution_count": 29,
     "metadata": {},
     "output_type": "execute_result"
    }
   ],
   "source": [
    "eth_nulas = bd[bd['ETHNICITY'].isna()]\n",
    "eth_nulas['PAY_YEAR'].value_counts()"
   ]
  },
  {
   "cell_type": "code",
   "execution_count": 30,
   "metadata": {},
   "outputs": [
    {
     "data": {
      "text/plain": [
       "JOB_STATUS\n",
       "ACTIVE        2447\n",
       "NOT_ACTIVE    1765\n",
       "Name: count, dtype: int64"
      ]
     },
     "execution_count": 30,
     "metadata": {},
     "output_type": "execute_result"
    }
   ],
   "source": [
    "eth_nulas[\"JOB_STATUS\"].value_counts()"
   ]
  },
  {
   "cell_type": "code",
   "execution_count": 31,
   "metadata": {},
   "outputs": [
    {
     "data": {
      "text/plain": [
       "JOB_STATUS\n",
       "NOT_ACTIVE    1640\n",
       "ACTIVE         755\n",
       "Name: count, dtype: int64"
      ]
     },
     "execution_count": 31,
     "metadata": {},
     "output_type": "execute_result"
    }
   ],
   "source": [
    "eth_nulas_filter = eth_nulas.sort_values(by=[\"RECORD_NBR\", \"PAY_YEAR\"],ascending=[True, False])\n",
    "eth_last_recorded = eth_nulas_filter.groupby(\"RECORD_NBR\").first().reset_index()\n",
    "eth_last_recorded[\"JOB_STATUS\"].value_counts()"
   ]
  },
  {
   "cell_type": "code",
   "execution_count": 32,
   "metadata": {},
   "outputs": [
    {
     "data": {
      "text/html": [
       "<div>\n",
       "<style scoped>\n",
       "    .dataframe tbody tr th:only-of-type {\n",
       "        vertical-align: middle;\n",
       "    }\n",
       "\n",
       "    .dataframe tbody tr th {\n",
       "        vertical-align: top;\n",
       "    }\n",
       "\n",
       "    .dataframe thead th {\n",
       "        text-align: right;\n",
       "    }\n",
       "</style>\n",
       "<table border=\"1\" class=\"dataframe\">\n",
       "  <thead>\n",
       "    <tr style=\"text-align: right;\">\n",
       "      <th></th>\n",
       "      <th>RECORD_NBR</th>\n",
       "      <th>PAY_YEAR</th>\n",
       "      <th>DEPARTMENT_NO</th>\n",
       "      <th>DEPARTMENT_TITLE</th>\n",
       "      <th>JOB_CLASS_PGRADE</th>\n",
       "      <th>JOB_TITLE</th>\n",
       "      <th>EMPLOYMENT_TYPE</th>\n",
       "      <th>JOB_STATUS</th>\n",
       "      <th>MOU</th>\n",
       "      <th>MOU_TITLE</th>\n",
       "      <th>REGULAR_PAY</th>\n",
       "      <th>OVERTIME_PAY</th>\n",
       "      <th>ALL_OTHER_PAY</th>\n",
       "      <th>TOTAL_PAY</th>\n",
       "      <th>CITY_RETIREMENT_CONTRIBUTIONS</th>\n",
       "      <th>BENEFIT_PAY</th>\n",
       "      <th>GENDER</th>\n",
       "      <th>ETHNICITY</th>\n",
       "    </tr>\n",
       "  </thead>\n",
       "  <tbody>\n",
       "    <tr>\n",
       "      <th>481259</th>\n",
       "      <td>3134373339</td>\n",
       "      <td>2016</td>\n",
       "      <td>94</td>\n",
       "      <td>TRANSPORTATION</td>\n",
       "      <td>3180-2</td>\n",
       "      <td>CROSSING GUARD</td>\n",
       "      <td>PART_TIME</td>\n",
       "      <td>NOT_ACTIVE</td>\n",
       "      <td>34.0</td>\n",
       "      <td>CROSSING GUARDS</td>\n",
       "      <td>0.00</td>\n",
       "      <td>0.00</td>\n",
       "      <td>28.48</td>\n",
       "      <td>28.48</td>\n",
       "      <td>0.00</td>\n",
       "      <td>0.00</td>\n",
       "      <td>FEMALE</td>\n",
       "      <td>NaN</td>\n",
       "    </tr>\n",
       "    <tr>\n",
       "      <th>68681</th>\n",
       "      <td>3134373339</td>\n",
       "      <td>2013</td>\n",
       "      <td>94</td>\n",
       "      <td>TRANSPORTATION</td>\n",
       "      <td>3180-2</td>\n",
       "      <td>CROSSING GUARD</td>\n",
       "      <td>PART_TIME</td>\n",
       "      <td>NOT_ACTIVE</td>\n",
       "      <td>34.0</td>\n",
       "      <td>CROSSING GUARDS</td>\n",
       "      <td>4416.30</td>\n",
       "      <td>0.00</td>\n",
       "      <td>2676.99</td>\n",
       "      <td>7093.29</td>\n",
       "      <td>0.00</td>\n",
       "      <td>0.00</td>\n",
       "      <td>FEMALE</td>\n",
       "      <td>NaN</td>\n",
       "    </tr>\n",
       "    <tr>\n",
       "      <th>653262</th>\n",
       "      <td>3234373331</td>\n",
       "      <td>2022</td>\n",
       "      <td>12</td>\n",
       "      <td>CITY ATTORNEY</td>\n",
       "      <td>0596-0</td>\n",
       "      <td>DEPUTY CITY ATTORNEY III</td>\n",
       "      <td>FULL_TIME</td>\n",
       "      <td>ACTIVE</td>\n",
       "      <td>29.0</td>\n",
       "      <td>DEPUTY CITY ATTORNEYS</td>\n",
       "      <td>97718.40</td>\n",
       "      <td>0.00</td>\n",
       "      <td>9771.84</td>\n",
       "      <td>107490.24</td>\n",
       "      <td>28983.28</td>\n",
       "      <td>10095.96</td>\n",
       "      <td>MALE</td>\n",
       "      <td>NaN</td>\n",
       "    </tr>\n",
       "    <tr>\n",
       "      <th>663665</th>\n",
       "      <td>3335343633</td>\n",
       "      <td>2022</td>\n",
       "      <td>86</td>\n",
       "      <td>PUBLIC WORKS - STREET SERVICES</td>\n",
       "      <td>4152-1</td>\n",
       "      <td>STREET SERVICES SUPERVISOR I</td>\n",
       "      <td>FULL_TIME</td>\n",
       "      <td>ACTIVE</td>\n",
       "      <td>12.0</td>\n",
       "      <td>SUPERVISORY BLUE COLLAR</td>\n",
       "      <td>51991.42</td>\n",
       "      <td>3352.00</td>\n",
       "      <td>2776.32</td>\n",
       "      <td>58119.74</td>\n",
       "      <td>15420.66</td>\n",
       "      <td>10317.36</td>\n",
       "      <td>MALE</td>\n",
       "      <td>NaN</td>\n",
       "    </tr>\n",
       "    <tr>\n",
       "      <th>683757</th>\n",
       "      <td>3938323836</td>\n",
       "      <td>2022</td>\n",
       "      <td>82</td>\n",
       "      <td>PUBLIC WORKS - SANITATION</td>\n",
       "      <td>7871-2</td>\n",
       "      <td>ENVIRONMENTAL ENGINEERING ASSOCIATE II</td>\n",
       "      <td>FULL_TIME</td>\n",
       "      <td>ACTIVE</td>\n",
       "      <td>8.0</td>\n",
       "      <td>PROFESSIONAL ENGINEERING AND SCIENTIFIC</td>\n",
       "      <td>52665.60</td>\n",
       "      <td>5431.14</td>\n",
       "      <td>2771.96</td>\n",
       "      <td>60868.70</td>\n",
       "      <td>15620.62</td>\n",
       "      <td>10521.00</td>\n",
       "      <td>MALE</td>\n",
       "      <td>NaN</td>\n",
       "    </tr>\n",
       "    <tr>\n",
       "      <th>...</th>\n",
       "      <td>...</td>\n",
       "      <td>...</td>\n",
       "      <td>...</td>\n",
       "      <td>...</td>\n",
       "      <td>...</td>\n",
       "      <td>...</td>\n",
       "      <td>...</td>\n",
       "      <td>...</td>\n",
       "      <td>...</td>\n",
       "      <td>...</td>\n",
       "      <td>...</td>\n",
       "      <td>...</td>\n",
       "      <td>...</td>\n",
       "      <td>...</td>\n",
       "      <td>...</td>\n",
       "      <td>...</td>\n",
       "      <td>...</td>\n",
       "      <td>...</td>\n",
       "    </tr>\n",
       "    <tr>\n",
       "      <th>327597</th>\n",
       "      <td>X992463064</td>\n",
       "      <td>2015</td>\n",
       "      <td>98</td>\n",
       "      <td>WATER AND POWER</td>\n",
       "      <td>7515</td>\n",
       "      <td>SENIOR ELECTRICAL TESTER</td>\n",
       "      <td>FULL_TIME</td>\n",
       "      <td>ACTIVE</td>\n",
       "      <td>8</td>\n",
       "      <td>OPERATING MAINTENANCE AND SERVICE UNIT</td>\n",
       "      <td>13154.38</td>\n",
       "      <td>0.00</td>\n",
       "      <td>23676.75</td>\n",
       "      <td>36831.13</td>\n",
       "      <td>868.00</td>\n",
       "      <td>18755.63</td>\n",
       "      <td>NaN</td>\n",
       "      <td>NaN</td>\n",
       "    </tr>\n",
       "    <tr>\n",
       "      <th>258995</th>\n",
       "      <td>X992463064</td>\n",
       "      <td>2014</td>\n",
       "      <td>98</td>\n",
       "      <td>WATER AND POWER</td>\n",
       "      <td>7515</td>\n",
       "      <td>SENIOR ELECTRICAL TESTER</td>\n",
       "      <td>FULL_TIME</td>\n",
       "      <td>ACTIVE</td>\n",
       "      <td>8</td>\n",
       "      <td>OPERATING MAINTENANCE AND SERVICE UNIT</td>\n",
       "      <td>99180.20</td>\n",
       "      <td>4766.05</td>\n",
       "      <td>17953.69</td>\n",
       "      <td>121899.94</td>\n",
       "      <td>6546.00</td>\n",
       "      <td>18124.69</td>\n",
       "      <td>NaN</td>\n",
       "      <td>NaN</td>\n",
       "    </tr>\n",
       "    <tr>\n",
       "      <th>248355</th>\n",
       "      <td>X992463064</td>\n",
       "      <td>2013</td>\n",
       "      <td>98</td>\n",
       "      <td>WATER AND POWER</td>\n",
       "      <td>7515</td>\n",
       "      <td>SENIOR ELECTRICAL TESTER</td>\n",
       "      <td>FULL_TIME</td>\n",
       "      <td>ACTIVE</td>\n",
       "      <td>8</td>\n",
       "      <td>OPERATING MAINTENANCE AND SERVICE UNIT</td>\n",
       "      <td>99134.39</td>\n",
       "      <td>6146.04</td>\n",
       "      <td>19046.50</td>\n",
       "      <td>124326.93</td>\n",
       "      <td>6543.00</td>\n",
       "      <td>17111.02</td>\n",
       "      <td>NaN</td>\n",
       "      <td>NaN</td>\n",
       "    </tr>\n",
       "    <tr>\n",
       "      <th>327598</th>\n",
       "      <td>X999958886</td>\n",
       "      <td>2015</td>\n",
       "      <td>98</td>\n",
       "      <td>WATER AND POWER</td>\n",
       "      <td>1358</td>\n",
       "      <td>CLERK TYPIST</td>\n",
       "      <td>FULL_TIME</td>\n",
       "      <td>NOT_ACTIVE</td>\n",
       "      <td>7</td>\n",
       "      <td>CLERICAL UNIT</td>\n",
       "      <td>2496.48</td>\n",
       "      <td>0.00</td>\n",
       "      <td>25.00</td>\n",
       "      <td>2521.48</td>\n",
       "      <td>165.00</td>\n",
       "      <td>18755.63</td>\n",
       "      <td>NaN</td>\n",
       "      <td>NaN</td>\n",
       "    </tr>\n",
       "    <tr>\n",
       "      <th>258996</th>\n",
       "      <td>X999958886</td>\n",
       "      <td>2014</td>\n",
       "      <td>98</td>\n",
       "      <td>WATER AND POWER</td>\n",
       "      <td>1358</td>\n",
       "      <td>CLERK TYPIST</td>\n",
       "      <td>FULL_TIME</td>\n",
       "      <td>ACTIVE</td>\n",
       "      <td>7</td>\n",
       "      <td>CLERICAL UNIT</td>\n",
       "      <td>5171.28</td>\n",
       "      <td>83.59</td>\n",
       "      <td>25.00</td>\n",
       "      <td>5279.87</td>\n",
       "      <td>341.00</td>\n",
       "      <td>18124.69</td>\n",
       "      <td>NaN</td>\n",
       "      <td>NaN</td>\n",
       "    </tr>\n",
       "  </tbody>\n",
       "</table>\n",
       "<p>4212 rows × 18 columns</p>\n",
       "</div>"
      ],
      "text/plain": [
       "        RECORD_NBR  PAY_YEAR  DEPARTMENT_NO                DEPARTMENT_TITLE  \\\n",
       "481259  3134373339      2016             94                  TRANSPORTATION   \n",
       "68681   3134373339      2013             94                  TRANSPORTATION   \n",
       "653262  3234373331      2022             12                   CITY ATTORNEY   \n",
       "663665  3335343633      2022             86  PUBLIC WORKS - STREET SERVICES   \n",
       "683757  3938323836      2022             82       PUBLIC WORKS - SANITATION   \n",
       "...            ...       ...            ...                             ...   \n",
       "327597  X992463064      2015             98                 WATER AND POWER   \n",
       "258995  X992463064      2014             98                 WATER AND POWER   \n",
       "248355  X992463064      2013             98                 WATER AND POWER   \n",
       "327598  X999958886      2015             98                 WATER AND POWER   \n",
       "258996  X999958886      2014             98                 WATER AND POWER   \n",
       "\n",
       "       JOB_CLASS_PGRADE                               JOB_TITLE  \\\n",
       "481259           3180-2                          CROSSING GUARD   \n",
       "68681            3180-2                          CROSSING GUARD   \n",
       "653262           0596-0                DEPUTY CITY ATTORNEY III   \n",
       "663665           4152-1            STREET SERVICES SUPERVISOR I   \n",
       "683757           7871-2  ENVIRONMENTAL ENGINEERING ASSOCIATE II   \n",
       "...                 ...                                     ...   \n",
       "327597             7515                SENIOR ELECTRICAL TESTER   \n",
       "258995             7515                SENIOR ELECTRICAL TESTER   \n",
       "248355             7515                SENIOR ELECTRICAL TESTER   \n",
       "327598             1358                            CLERK TYPIST   \n",
       "258996             1358                            CLERK TYPIST   \n",
       "\n",
       "       EMPLOYMENT_TYPE  JOB_STATUS   MOU  \\\n",
       "481259       PART_TIME  NOT_ACTIVE  34.0   \n",
       "68681        PART_TIME  NOT_ACTIVE  34.0   \n",
       "653262       FULL_TIME      ACTIVE  29.0   \n",
       "663665       FULL_TIME      ACTIVE  12.0   \n",
       "683757       FULL_TIME      ACTIVE   8.0   \n",
       "...                ...         ...   ...   \n",
       "327597       FULL_TIME      ACTIVE     8   \n",
       "258995       FULL_TIME      ACTIVE     8   \n",
       "248355       FULL_TIME      ACTIVE     8   \n",
       "327598       FULL_TIME  NOT_ACTIVE     7   \n",
       "258996       FULL_TIME      ACTIVE     7   \n",
       "\n",
       "                                      MOU_TITLE  REGULAR_PAY  OVERTIME_PAY  \\\n",
       "481259                          CROSSING GUARDS         0.00          0.00   \n",
       "68681                           CROSSING GUARDS      4416.30          0.00   \n",
       "653262                    DEPUTY CITY ATTORNEYS     97718.40          0.00   \n",
       "663665                  SUPERVISORY BLUE COLLAR     51991.42       3352.00   \n",
       "683757  PROFESSIONAL ENGINEERING AND SCIENTIFIC     52665.60       5431.14   \n",
       "...                                         ...          ...           ...   \n",
       "327597   OPERATING MAINTENANCE AND SERVICE UNIT     13154.38          0.00   \n",
       "258995   OPERATING MAINTENANCE AND SERVICE UNIT     99180.20       4766.05   \n",
       "248355   OPERATING MAINTENANCE AND SERVICE UNIT     99134.39       6146.04   \n",
       "327598                            CLERICAL UNIT      2496.48          0.00   \n",
       "258996                            CLERICAL UNIT      5171.28         83.59   \n",
       "\n",
       "        ALL_OTHER_PAY  TOTAL_PAY  CITY_RETIREMENT_CONTRIBUTIONS  BENEFIT_PAY  \\\n",
       "481259          28.48      28.48                           0.00         0.00   \n",
       "68681         2676.99    7093.29                           0.00         0.00   \n",
       "653262        9771.84  107490.24                       28983.28     10095.96   \n",
       "663665        2776.32   58119.74                       15420.66     10317.36   \n",
       "683757        2771.96   60868.70                       15620.62     10521.00   \n",
       "...               ...        ...                            ...          ...   \n",
       "327597       23676.75   36831.13                         868.00     18755.63   \n",
       "258995       17953.69  121899.94                        6546.00     18124.69   \n",
       "248355       19046.50  124326.93                        6543.00     17111.02   \n",
       "327598          25.00    2521.48                         165.00     18755.63   \n",
       "258996          25.00    5279.87                         341.00     18124.69   \n",
       "\n",
       "        GENDER ETHNICITY  \n",
       "481259  FEMALE       NaN  \n",
       "68681   FEMALE       NaN  \n",
       "653262    MALE       NaN  \n",
       "663665    MALE       NaN  \n",
       "683757    MALE       NaN  \n",
       "...        ...       ...  \n",
       "327597     NaN       NaN  \n",
       "258995     NaN       NaN  \n",
       "248355     NaN       NaN  \n",
       "327598     NaN       NaN  \n",
       "258996     NaN       NaN  \n",
       "\n",
       "[4212 rows x 18 columns]"
      ]
     },
     "execution_count": 32,
     "metadata": {},
     "output_type": "execute_result"
    }
   ],
   "source": [
    "eth_nulas_filter"
   ]
  },
  {
   "cell_type": "code",
   "execution_count": 33,
   "metadata": {},
   "outputs": [
    {
     "data": {
      "text/html": [
       "<div>\n",
       "<style scoped>\n",
       "    .dataframe tbody tr th:only-of-type {\n",
       "        vertical-align: middle;\n",
       "    }\n",
       "\n",
       "    .dataframe tbody tr th {\n",
       "        vertical-align: top;\n",
       "    }\n",
       "\n",
       "    .dataframe thead th {\n",
       "        text-align: right;\n",
       "    }\n",
       "</style>\n",
       "<table border=\"1\" class=\"dataframe\">\n",
       "  <thead>\n",
       "    <tr style=\"text-align: right;\">\n",
       "      <th></th>\n",
       "      <th>RECORD_NBR</th>\n",
       "      <th>PAY_YEAR</th>\n",
       "      <th>DEPARTMENT_NO</th>\n",
       "      <th>DEPARTMENT_TITLE</th>\n",
       "      <th>JOB_CLASS_PGRADE</th>\n",
       "      <th>JOB_TITLE</th>\n",
       "      <th>EMPLOYMENT_TYPE</th>\n",
       "      <th>JOB_STATUS</th>\n",
       "      <th>MOU</th>\n",
       "      <th>MOU_TITLE</th>\n",
       "      <th>REGULAR_PAY</th>\n",
       "      <th>OVERTIME_PAY</th>\n",
       "      <th>ALL_OTHER_PAY</th>\n",
       "      <th>TOTAL_PAY</th>\n",
       "      <th>CITY_RETIREMENT_CONTRIBUTIONS</th>\n",
       "      <th>BENEFIT_PAY</th>\n",
       "      <th>GENDER</th>\n",
       "      <th>ETHNICITY</th>\n",
       "    </tr>\n",
       "  </thead>\n",
       "  <tbody>\n",
       "    <tr>\n",
       "      <th>0</th>\n",
       "      <td>3134373339</td>\n",
       "      <td>2016</td>\n",
       "      <td>94</td>\n",
       "      <td>TRANSPORTATION</td>\n",
       "      <td>3180-2</td>\n",
       "      <td>CROSSING GUARD</td>\n",
       "      <td>PART_TIME</td>\n",
       "      <td>NOT_ACTIVE</td>\n",
       "      <td>34.0</td>\n",
       "      <td>CROSSING GUARDS</td>\n",
       "      <td>0.00</td>\n",
       "      <td>0.00</td>\n",
       "      <td>28.48</td>\n",
       "      <td>28.48</td>\n",
       "      <td>0.00</td>\n",
       "      <td>0.00</td>\n",
       "      <td>FEMALE</td>\n",
       "      <td>None</td>\n",
       "    </tr>\n",
       "    <tr>\n",
       "      <th>1</th>\n",
       "      <td>3234373331</td>\n",
       "      <td>2022</td>\n",
       "      <td>12</td>\n",
       "      <td>CITY ATTORNEY</td>\n",
       "      <td>0596-0</td>\n",
       "      <td>DEPUTY CITY ATTORNEY III</td>\n",
       "      <td>FULL_TIME</td>\n",
       "      <td>ACTIVE</td>\n",
       "      <td>29.0</td>\n",
       "      <td>DEPUTY CITY ATTORNEYS</td>\n",
       "      <td>97718.40</td>\n",
       "      <td>0.00</td>\n",
       "      <td>9771.84</td>\n",
       "      <td>107490.24</td>\n",
       "      <td>28983.28</td>\n",
       "      <td>10095.96</td>\n",
       "      <td>MALE</td>\n",
       "      <td>None</td>\n",
       "    </tr>\n",
       "    <tr>\n",
       "      <th>2</th>\n",
       "      <td>3335343633</td>\n",
       "      <td>2022</td>\n",
       "      <td>86</td>\n",
       "      <td>PUBLIC WORKS - STREET SERVICES</td>\n",
       "      <td>4152-1</td>\n",
       "      <td>STREET SERVICES SUPERVISOR I</td>\n",
       "      <td>FULL_TIME</td>\n",
       "      <td>ACTIVE</td>\n",
       "      <td>12.0</td>\n",
       "      <td>SUPERVISORY BLUE COLLAR</td>\n",
       "      <td>51991.42</td>\n",
       "      <td>3352.00</td>\n",
       "      <td>2776.32</td>\n",
       "      <td>58119.74</td>\n",
       "      <td>15420.66</td>\n",
       "      <td>10317.36</td>\n",
       "      <td>MALE</td>\n",
       "      <td>None</td>\n",
       "    </tr>\n",
       "    <tr>\n",
       "      <th>3</th>\n",
       "      <td>3938323836</td>\n",
       "      <td>2022</td>\n",
       "      <td>82</td>\n",
       "      <td>PUBLIC WORKS - SANITATION</td>\n",
       "      <td>7871-2</td>\n",
       "      <td>ENVIRONMENTAL ENGINEERING ASSOCIATE II</td>\n",
       "      <td>FULL_TIME</td>\n",
       "      <td>ACTIVE</td>\n",
       "      <td>8.0</td>\n",
       "      <td>PROFESSIONAL ENGINEERING AND SCIENTIFIC</td>\n",
       "      <td>52665.60</td>\n",
       "      <td>5431.14</td>\n",
       "      <td>2771.96</td>\n",
       "      <td>60868.70</td>\n",
       "      <td>15620.62</td>\n",
       "      <td>10521.00</td>\n",
       "      <td>MALE</td>\n",
       "      <td>None</td>\n",
       "    </tr>\n",
       "    <tr>\n",
       "      <th>4</th>\n",
       "      <td>303033303035</td>\n",
       "      <td>2022</td>\n",
       "      <td>88</td>\n",
       "      <td>RECREATION AND PARKS</td>\n",
       "      <td>2421-B</td>\n",
       "      <td>RESIDENTIAL CAMP COUNSELOR</td>\n",
       "      <td>PART_TIME</td>\n",
       "      <td>ACTIVE</td>\n",
       "      <td>0.0</td>\n",
       "      <td>NON-REPRESENTED</td>\n",
       "      <td>31.72</td>\n",
       "      <td>0.00</td>\n",
       "      <td>0.00</td>\n",
       "      <td>31.72</td>\n",
       "      <td>0.00</td>\n",
       "      <td>0.00</td>\n",
       "      <td>UNKNOWN</td>\n",
       "      <td>None</td>\n",
       "    </tr>\n",
       "    <tr>\n",
       "      <th>...</th>\n",
       "      <td>...</td>\n",
       "      <td>...</td>\n",
       "      <td>...</td>\n",
       "      <td>...</td>\n",
       "      <td>...</td>\n",
       "      <td>...</td>\n",
       "      <td>...</td>\n",
       "      <td>...</td>\n",
       "      <td>...</td>\n",
       "      <td>...</td>\n",
       "      <td>...</td>\n",
       "      <td>...</td>\n",
       "      <td>...</td>\n",
       "      <td>...</td>\n",
       "      <td>...</td>\n",
       "      <td>...</td>\n",
       "      <td>...</td>\n",
       "      <td>...</td>\n",
       "    </tr>\n",
       "    <tr>\n",
       "      <th>2390</th>\n",
       "      <td>X987896762</td>\n",
       "      <td>2015</td>\n",
       "      <td>98</td>\n",
       "      <td>WATER AND POWER</td>\n",
       "      <td>3755</td>\n",
       "      <td>UTILITY SERVICES SPECIALIST</td>\n",
       "      <td>FULL_TIME</td>\n",
       "      <td>ACTIVE</td>\n",
       "      <td>2</td>\n",
       "      <td>TECHNICAL REPRESENTATION UNIT</td>\n",
       "      <td>0.00</td>\n",
       "      <td>0.00</td>\n",
       "      <td>1180.44</td>\n",
       "      <td>1180.44</td>\n",
       "      <td>0.00</td>\n",
       "      <td>18755.63</td>\n",
       "      <td>None</td>\n",
       "      <td>None</td>\n",
       "    </tr>\n",
       "    <tr>\n",
       "      <th>2391</th>\n",
       "      <td>X989612606</td>\n",
       "      <td>2014</td>\n",
       "      <td>98</td>\n",
       "      <td>WATER AND POWER</td>\n",
       "      <td>1505</td>\n",
       "      <td>STUDENT TRAINEE WORKER</td>\n",
       "      <td>PART_TIME</td>\n",
       "      <td>NOT_ACTIVE</td>\n",
       "      <td>U</td>\n",
       "      <td>UNREPRESENTED UNIT - NON MANAGEMENT BENEFITS</td>\n",
       "      <td>4978.93</td>\n",
       "      <td>NaN</td>\n",
       "      <td>NaN</td>\n",
       "      <td>4978.93</td>\n",
       "      <td>0.00</td>\n",
       "      <td>0.00</td>\n",
       "      <td>None</td>\n",
       "      <td>None</td>\n",
       "    </tr>\n",
       "    <tr>\n",
       "      <th>2392</th>\n",
       "      <td>X990527692</td>\n",
       "      <td>2013</td>\n",
       "      <td>98</td>\n",
       "      <td>WATER AND POWER</td>\n",
       "      <td>1358</td>\n",
       "      <td>CLERK TYPIST</td>\n",
       "      <td>FULL_TIME</td>\n",
       "      <td>NOT_ACTIVE</td>\n",
       "      <td>7</td>\n",
       "      <td>CLERICAL UNIT</td>\n",
       "      <td>2463.52</td>\n",
       "      <td>0.00</td>\n",
       "      <td>345.99</td>\n",
       "      <td>2809.51</td>\n",
       "      <td>163.00</td>\n",
       "      <td>17111.02</td>\n",
       "      <td>None</td>\n",
       "      <td>None</td>\n",
       "    </tr>\n",
       "    <tr>\n",
       "      <th>2393</th>\n",
       "      <td>X992463064</td>\n",
       "      <td>2015</td>\n",
       "      <td>98</td>\n",
       "      <td>WATER AND POWER</td>\n",
       "      <td>7515</td>\n",
       "      <td>SENIOR ELECTRICAL TESTER</td>\n",
       "      <td>FULL_TIME</td>\n",
       "      <td>ACTIVE</td>\n",
       "      <td>8</td>\n",
       "      <td>OPERATING MAINTENANCE AND SERVICE UNIT</td>\n",
       "      <td>13154.38</td>\n",
       "      <td>0.00</td>\n",
       "      <td>23676.75</td>\n",
       "      <td>36831.13</td>\n",
       "      <td>868.00</td>\n",
       "      <td>18755.63</td>\n",
       "      <td>None</td>\n",
       "      <td>None</td>\n",
       "    </tr>\n",
       "    <tr>\n",
       "      <th>2394</th>\n",
       "      <td>X999958886</td>\n",
       "      <td>2015</td>\n",
       "      <td>98</td>\n",
       "      <td>WATER AND POWER</td>\n",
       "      <td>1358</td>\n",
       "      <td>CLERK TYPIST</td>\n",
       "      <td>FULL_TIME</td>\n",
       "      <td>NOT_ACTIVE</td>\n",
       "      <td>7</td>\n",
       "      <td>CLERICAL UNIT</td>\n",
       "      <td>2496.48</td>\n",
       "      <td>0.00</td>\n",
       "      <td>25.00</td>\n",
       "      <td>2521.48</td>\n",
       "      <td>165.00</td>\n",
       "      <td>18755.63</td>\n",
       "      <td>None</td>\n",
       "      <td>None</td>\n",
       "    </tr>\n",
       "  </tbody>\n",
       "</table>\n",
       "<p>2395 rows × 18 columns</p>\n",
       "</div>"
      ],
      "text/plain": [
       "        RECORD_NBR  PAY_YEAR  DEPARTMENT_NO                DEPARTMENT_TITLE  \\\n",
       "0       3134373339      2016             94                  TRANSPORTATION   \n",
       "1       3234373331      2022             12                   CITY ATTORNEY   \n",
       "2       3335343633      2022             86  PUBLIC WORKS - STREET SERVICES   \n",
       "3       3938323836      2022             82       PUBLIC WORKS - SANITATION   \n",
       "4     303033303035      2022             88            RECREATION AND PARKS   \n",
       "...            ...       ...            ...                             ...   \n",
       "2390    X987896762      2015             98                 WATER AND POWER   \n",
       "2391    X989612606      2014             98                 WATER AND POWER   \n",
       "2392    X990527692      2013             98                 WATER AND POWER   \n",
       "2393    X992463064      2015             98                 WATER AND POWER   \n",
       "2394    X999958886      2015             98                 WATER AND POWER   \n",
       "\n",
       "     JOB_CLASS_PGRADE                               JOB_TITLE EMPLOYMENT_TYPE  \\\n",
       "0              3180-2                          CROSSING GUARD       PART_TIME   \n",
       "1              0596-0                DEPUTY CITY ATTORNEY III       FULL_TIME   \n",
       "2              4152-1            STREET SERVICES SUPERVISOR I       FULL_TIME   \n",
       "3              7871-2  ENVIRONMENTAL ENGINEERING ASSOCIATE II       FULL_TIME   \n",
       "4              2421-B              RESIDENTIAL CAMP COUNSELOR       PART_TIME   \n",
       "...               ...                                     ...             ...   \n",
       "2390             3755             UTILITY SERVICES SPECIALIST       FULL_TIME   \n",
       "2391             1505                  STUDENT TRAINEE WORKER       PART_TIME   \n",
       "2392             1358                            CLERK TYPIST       FULL_TIME   \n",
       "2393             7515                SENIOR ELECTRICAL TESTER       FULL_TIME   \n",
       "2394             1358                            CLERK TYPIST       FULL_TIME   \n",
       "\n",
       "      JOB_STATUS   MOU                                     MOU_TITLE  \\\n",
       "0     NOT_ACTIVE  34.0                               CROSSING GUARDS   \n",
       "1         ACTIVE  29.0                         DEPUTY CITY ATTORNEYS   \n",
       "2         ACTIVE  12.0                       SUPERVISORY BLUE COLLAR   \n",
       "3         ACTIVE   8.0       PROFESSIONAL ENGINEERING AND SCIENTIFIC   \n",
       "4         ACTIVE   0.0                               NON-REPRESENTED   \n",
       "...          ...   ...                                           ...   \n",
       "2390      ACTIVE     2                 TECHNICAL REPRESENTATION UNIT   \n",
       "2391  NOT_ACTIVE     U  UNREPRESENTED UNIT - NON MANAGEMENT BENEFITS   \n",
       "2392  NOT_ACTIVE     7                                 CLERICAL UNIT   \n",
       "2393      ACTIVE     8        OPERATING MAINTENANCE AND SERVICE UNIT   \n",
       "2394  NOT_ACTIVE     7                                 CLERICAL UNIT   \n",
       "\n",
       "      REGULAR_PAY  OVERTIME_PAY  ALL_OTHER_PAY  TOTAL_PAY  \\\n",
       "0            0.00          0.00          28.48      28.48   \n",
       "1        97718.40          0.00        9771.84  107490.24   \n",
       "2        51991.42       3352.00        2776.32   58119.74   \n",
       "3        52665.60       5431.14        2771.96   60868.70   \n",
       "4           31.72          0.00           0.00      31.72   \n",
       "...           ...           ...            ...        ...   \n",
       "2390         0.00          0.00        1180.44    1180.44   \n",
       "2391      4978.93           NaN            NaN    4978.93   \n",
       "2392      2463.52          0.00         345.99    2809.51   \n",
       "2393     13154.38          0.00       23676.75   36831.13   \n",
       "2394      2496.48          0.00          25.00    2521.48   \n",
       "\n",
       "      CITY_RETIREMENT_CONTRIBUTIONS  BENEFIT_PAY   GENDER ETHNICITY  \n",
       "0                              0.00         0.00   FEMALE      None  \n",
       "1                          28983.28     10095.96     MALE      None  \n",
       "2                          15420.66     10317.36     MALE      None  \n",
       "3                          15620.62     10521.00     MALE      None  \n",
       "4                              0.00         0.00  UNKNOWN      None  \n",
       "...                             ...          ...      ...       ...  \n",
       "2390                           0.00     18755.63     None      None  \n",
       "2391                           0.00         0.00     None      None  \n",
       "2392                         163.00     17111.02     None      None  \n",
       "2393                         868.00     18755.63     None      None  \n",
       "2394                         165.00     18755.63     None      None  \n",
       "\n",
       "[2395 rows x 18 columns]"
      ]
     },
     "execution_count": 33,
     "metadata": {},
     "output_type": "execute_result"
    }
   ],
   "source": [
    "eth_last_recorded"
   ]
  },
  {
   "cell_type": "code",
   "execution_count": 34,
   "metadata": {},
   "outputs": [
    {
     "data": {
      "text/html": [
       "<div>\n",
       "<style scoped>\n",
       "    .dataframe tbody tr th:only-of-type {\n",
       "        vertical-align: middle;\n",
       "    }\n",
       "\n",
       "    .dataframe tbody tr th {\n",
       "        vertical-align: top;\n",
       "    }\n",
       "\n",
       "    .dataframe thead th {\n",
       "        text-align: right;\n",
       "    }\n",
       "</style>\n",
       "<table border=\"1\" class=\"dataframe\">\n",
       "  <thead>\n",
       "    <tr style=\"text-align: right;\">\n",
       "      <th></th>\n",
       "      <th>RECORD_NBR</th>\n",
       "      <th>PAY_YEAR</th>\n",
       "      <th>DEPARTMENT_NO</th>\n",
       "      <th>DEPARTMENT_TITLE</th>\n",
       "      <th>JOB_CLASS_PGRADE</th>\n",
       "      <th>JOB_TITLE</th>\n",
       "      <th>EMPLOYMENT_TYPE</th>\n",
       "      <th>JOB_STATUS</th>\n",
       "      <th>MOU</th>\n",
       "      <th>MOU_TITLE</th>\n",
       "      <th>REGULAR_PAY</th>\n",
       "      <th>OVERTIME_PAY</th>\n",
       "      <th>ALL_OTHER_PAY</th>\n",
       "      <th>TOTAL_PAY</th>\n",
       "      <th>CITY_RETIREMENT_CONTRIBUTIONS</th>\n",
       "      <th>BENEFIT_PAY</th>\n",
       "      <th>GENDER</th>\n",
       "      <th>ETHNICITY</th>\n",
       "    </tr>\n",
       "  </thead>\n",
       "  <tbody>\n",
       "    <tr>\n",
       "      <th>74091</th>\n",
       "      <td>3234373331</td>\n",
       "      <td>2013</td>\n",
       "      <td>12</td>\n",
       "      <td>CITY ATTORNEY</td>\n",
       "      <td>0552-G</td>\n",
       "      <td>DEPUTY CITY ATTORNEY III</td>\n",
       "      <td>FULL_TIME</td>\n",
       "      <td>NOT_ACTIVE</td>\n",
       "      <td>29.0</td>\n",
       "      <td>DEPUTY CITY ATTORNEYS</td>\n",
       "      <td>154695.47</td>\n",
       "      <td>0.0</td>\n",
       "      <td>16373.95</td>\n",
       "      <td>171069.42</td>\n",
       "      <td>45882.68</td>\n",
       "      <td>14210.64</td>\n",
       "      <td>MALE</td>\n",
       "      <td>CAUCASIAN</td>\n",
       "    </tr>\n",
       "    <tr>\n",
       "      <th>127603</th>\n",
       "      <td>3234373331</td>\n",
       "      <td>2014</td>\n",
       "      <td>12</td>\n",
       "      <td>CITY ATTORNEY</td>\n",
       "      <td>0552-G</td>\n",
       "      <td>DEPUTY CITY ATTORNEY III</td>\n",
       "      <td>FULL_TIME</td>\n",
       "      <td>NOT_ACTIVE</td>\n",
       "      <td>29</td>\n",
       "      <td>DEPUTY CITY ATTORNEYS</td>\n",
       "      <td>166550.80</td>\n",
       "      <td>0.0</td>\n",
       "      <td>22811.68</td>\n",
       "      <td>189362.48</td>\n",
       "      <td>49398.97</td>\n",
       "      <td>14472.72</td>\n",
       "      <td>MALE</td>\n",
       "      <td>CAUCASIAN</td>\n",
       "    </tr>\n",
       "    <tr>\n",
       "      <th>182253</th>\n",
       "      <td>3234373331</td>\n",
       "      <td>2015</td>\n",
       "      <td>12</td>\n",
       "      <td>CITY ATTORNEY</td>\n",
       "      <td>0552-G</td>\n",
       "      <td>DEPUTY CITY ATTORNEY III</td>\n",
       "      <td>FULL_TIME</td>\n",
       "      <td>NOT_ACTIVE</td>\n",
       "      <td>29</td>\n",
       "      <td>DEPUTY CITY ATTORNEYS</td>\n",
       "      <td>166550.80</td>\n",
       "      <td>0.0</td>\n",
       "      <td>22811.68</td>\n",
       "      <td>189362.48</td>\n",
       "      <td>49398.97</td>\n",
       "      <td>15064.56</td>\n",
       "      <td>MALE</td>\n",
       "      <td>CAUCASIAN</td>\n",
       "    </tr>\n",
       "    <tr>\n",
       "      <th>342418</th>\n",
       "      <td>3234373331</td>\n",
       "      <td>2020</td>\n",
       "      <td>12</td>\n",
       "      <td>CITY ATTORNEY</td>\n",
       "      <td>0596-0</td>\n",
       "      <td>DEPUTY CITY ATTORNEY III</td>\n",
       "      <td>FULL_TIME</td>\n",
       "      <td>ACTIVE</td>\n",
       "      <td>29.0</td>\n",
       "      <td>DEPUTY CITY ATTORNEYS</td>\n",
       "      <td>212639.12</td>\n",
       "      <td>0.0</td>\n",
       "      <td>9489.68</td>\n",
       "      <td>222128.80</td>\n",
       "      <td>63068.76</td>\n",
       "      <td>19387.49</td>\n",
       "      <td>MALE</td>\n",
       "      <td>CAUCASIAN</td>\n",
       "    </tr>\n",
       "    <tr>\n",
       "      <th>457544</th>\n",
       "      <td>3234373331</td>\n",
       "      <td>2019</td>\n",
       "      <td>12</td>\n",
       "      <td>CITY ATTORNEY</td>\n",
       "      <td>0596-0</td>\n",
       "      <td>DEPUTY CITY ATTORNEY III</td>\n",
       "      <td>FULL_TIME</td>\n",
       "      <td>ACTIVE</td>\n",
       "      <td>29.0</td>\n",
       "      <td>DEPUTY CITY ATTORNEYS</td>\n",
       "      <td>194384.00</td>\n",
       "      <td>0.0</td>\n",
       "      <td>4490.40</td>\n",
       "      <td>198874.40</td>\n",
       "      <td>57654.29</td>\n",
       "      <td>17380.56</td>\n",
       "      <td>MALE</td>\n",
       "      <td>CAUCASIAN</td>\n",
       "    </tr>\n",
       "    <tr>\n",
       "      <th>487315</th>\n",
       "      <td>3234373331</td>\n",
       "      <td>2016</td>\n",
       "      <td>12</td>\n",
       "      <td>CITY ATTORNEY</td>\n",
       "      <td>0552-G</td>\n",
       "      <td>DEPUTY CITY ATTORNEY III</td>\n",
       "      <td>FULL_TIME</td>\n",
       "      <td>NOT_ACTIVE</td>\n",
       "      <td>29.0</td>\n",
       "      <td>DEPUTY CITY ATTORNEYS</td>\n",
       "      <td>166550.80</td>\n",
       "      <td>0.0</td>\n",
       "      <td>10118.48</td>\n",
       "      <td>176669.28</td>\n",
       "      <td>49398.97</td>\n",
       "      <td>16648.08</td>\n",
       "      <td>MALE</td>\n",
       "      <td>CAUCASIAN</td>\n",
       "    </tr>\n",
       "    <tr>\n",
       "      <th>653262</th>\n",
       "      <td>3234373331</td>\n",
       "      <td>2022</td>\n",
       "      <td>12</td>\n",
       "      <td>CITY ATTORNEY</td>\n",
       "      <td>0596-0</td>\n",
       "      <td>DEPUTY CITY ATTORNEY III</td>\n",
       "      <td>FULL_TIME</td>\n",
       "      <td>ACTIVE</td>\n",
       "      <td>29.0</td>\n",
       "      <td>DEPUTY CITY ATTORNEYS</td>\n",
       "      <td>97718.40</td>\n",
       "      <td>0.0</td>\n",
       "      <td>9771.84</td>\n",
       "      <td>107490.24</td>\n",
       "      <td>28983.28</td>\n",
       "      <td>10095.96</td>\n",
       "      <td>MALE</td>\n",
       "      <td>NaN</td>\n",
       "    </tr>\n",
       "  </tbody>\n",
       "</table>\n",
       "</div>"
      ],
      "text/plain": [
       "        RECORD_NBR  PAY_YEAR  DEPARTMENT_NO DEPARTMENT_TITLE JOB_CLASS_PGRADE  \\\n",
       "74091   3234373331      2013             12    CITY ATTORNEY           0552-G   \n",
       "127603  3234373331      2014             12    CITY ATTORNEY           0552-G   \n",
       "182253  3234373331      2015             12    CITY ATTORNEY           0552-G   \n",
       "342418  3234373331      2020             12    CITY ATTORNEY           0596-0   \n",
       "457544  3234373331      2019             12    CITY ATTORNEY           0596-0   \n",
       "487315  3234373331      2016             12    CITY ATTORNEY           0552-G   \n",
       "653262  3234373331      2022             12    CITY ATTORNEY           0596-0   \n",
       "\n",
       "                       JOB_TITLE EMPLOYMENT_TYPE  JOB_STATUS   MOU  \\\n",
       "74091   DEPUTY CITY ATTORNEY III       FULL_TIME  NOT_ACTIVE  29.0   \n",
       "127603  DEPUTY CITY ATTORNEY III       FULL_TIME  NOT_ACTIVE    29   \n",
       "182253  DEPUTY CITY ATTORNEY III       FULL_TIME  NOT_ACTIVE    29   \n",
       "342418  DEPUTY CITY ATTORNEY III       FULL_TIME      ACTIVE  29.0   \n",
       "457544  DEPUTY CITY ATTORNEY III       FULL_TIME      ACTIVE  29.0   \n",
       "487315  DEPUTY CITY ATTORNEY III       FULL_TIME  NOT_ACTIVE  29.0   \n",
       "653262  DEPUTY CITY ATTORNEY III       FULL_TIME      ACTIVE  29.0   \n",
       "\n",
       "                    MOU_TITLE  REGULAR_PAY  OVERTIME_PAY  ALL_OTHER_PAY  \\\n",
       "74091   DEPUTY CITY ATTORNEYS    154695.47           0.0       16373.95   \n",
       "127603  DEPUTY CITY ATTORNEYS    166550.80           0.0       22811.68   \n",
       "182253  DEPUTY CITY ATTORNEYS    166550.80           0.0       22811.68   \n",
       "342418  DEPUTY CITY ATTORNEYS    212639.12           0.0        9489.68   \n",
       "457544  DEPUTY CITY ATTORNEYS    194384.00           0.0        4490.40   \n",
       "487315  DEPUTY CITY ATTORNEYS    166550.80           0.0       10118.48   \n",
       "653262  DEPUTY CITY ATTORNEYS     97718.40           0.0        9771.84   \n",
       "\n",
       "        TOTAL_PAY  CITY_RETIREMENT_CONTRIBUTIONS  BENEFIT_PAY GENDER  \\\n",
       "74091   171069.42                       45882.68     14210.64   MALE   \n",
       "127603  189362.48                       49398.97     14472.72   MALE   \n",
       "182253  189362.48                       49398.97     15064.56   MALE   \n",
       "342418  222128.80                       63068.76     19387.49   MALE   \n",
       "457544  198874.40                       57654.29     17380.56   MALE   \n",
       "487315  176669.28                       49398.97     16648.08   MALE   \n",
       "653262  107490.24                       28983.28     10095.96   MALE   \n",
       "\n",
       "        ETHNICITY  \n",
       "74091   CAUCASIAN  \n",
       "127603  CAUCASIAN  \n",
       "182253  CAUCASIAN  \n",
       "342418  CAUCASIAN  \n",
       "457544  CAUCASIAN  \n",
       "487315  CAUCASIAN  \n",
       "653262        NaN  "
      ]
     },
     "execution_count": 34,
     "metadata": {},
     "output_type": "execute_result"
    }
   ],
   "source": [
    "bd[bd[\"RECORD_NBR\"] == 3234373331]"
   ]
  },
  {
   "cell_type": "markdown",
   "metadata": {},
   "source": [
    "Foi possivel constatar, que alguns dos registro que estão incompletos são apenas inconsistencias dentro do banco de dados, visto que alguns registros tem os valores corretos preenchidos em outras ocorrencias. Um tratamento para preencher os valores destes tipos de registro será feito posteriormente para continuação da EDA."
   ]
  },
  {
   "cell_type": "markdown",
   "metadata": {},
   "source": [
    "## Métricas"
   ]
  },
  {
   "cell_type": "markdown",
   "metadata": {},
   "source": [
    "### Quantidade de empregados"
   ]
  },
  {
   "cell_type": "code",
   "execution_count": 35,
   "metadata": {},
   "outputs": [],
   "source": [
    "unique_employes = len(bd[\"RECORD_NBR\"].unique())"
   ]
  },
  {
   "cell_type": "code",
   "execution_count": 36,
   "metadata": {},
   "outputs": [
    {
     "name": "stdout",
     "output_type": "stream",
     "text": [
      "Total de empregados em 2013: 59239 empregados\n",
      "Total de empregados em 2014: 58578 empregados\n",
      "Total de empregados em 2015: 61226 empregados\n",
      "Total de empregados em 2016: 61987 empregados\n",
      "Total de empregados em 2017: 63331 empregados\n",
      "Total de empregados em 2018: 72177 empregados\n",
      "Total de empregados em 2019: 66599 empregados\n",
      "Total de empregados em 2020: 67536 empregados\n",
      "Total de empregados em 2021: 63476 empregados\n",
      "Total de empregados em 2022: 47002 empregados\n"
     ]
    }
   ],
   "source": [
    "years = sorted(list(bd[\"PAY_YEAR\"].unique()))\n",
    "for year in years:\n",
    "    filter = bd[bd[\"PAY_YEAR\"] == year]\n",
    "    employe_year = len(filter[\"RECORD_NBR\"].unique())\n",
    "    print(f'Total de empregados em {year}: {employe_year} empregados')"
   ]
  },
  {
   "cell_type": "code",
   "execution_count": 37,
   "metadata": {},
   "outputs": [
    {
     "name": "stdout",
     "output_type": "stream",
     "text": [
      "2013 para 2014 = 8494\n",
      "2014 para 2015 = 6706\n",
      "2015 para 2016 = 6590\n",
      "2016 para 2017 = 49100\n",
      "2017 para 2018 = 37160\n",
      "2018 para 2019 = 51673\n",
      "2019 para 2020 = 9127\n",
      "2020 para 2021 = 30921\n",
      "2021 para 2022 = 18885\n"
     ]
    }
   ],
   "source": [
    "for i in range(len(years)-1):\n",
    "    employees_year_actual = bd[bd[\"PAY_YEAR\"] == years[i]]\n",
    "    employees_year_next = bd[bd[\"PAY_YEAR\"] == years[i+1]]\n",
    "    employees_year_actual = employees_year_actual[\"RECORD_NBR\"].unique()\n",
    "    employees_year_next = employees_year_next[\"RECORD_NBR\"].unique()\n",
    "    uniques = set(employees_year_next).difference(set(employees_year_actual))\n",
    "    print(f'{years[i]} para {years[i+1]} = {len(uniques)}')\n",
    "    "
   ]
  },
  {
   "cell_type": "markdown",
   "metadata": {},
   "source": [
    "### Variação salarial"
   ]
  },
  {
   "cell_type": "code",
   "execution_count": 38,
   "metadata": {},
   "outputs": [
    {
     "name": "stdout",
     "output_type": "stream",
     "text": [
      "Média salarial: $ 61570.36\n",
      "Mediana: $ 61441.44\n",
      "Desvio padrão: $ 45964.11\n"
     ]
    }
   ],
   "source": [
    "mean_payment = bd[\"REGULAR_PAY\"].mean()\n",
    "median_payment = bd[\"REGULAR_PAY\"].median()\n",
    "std_payment = bd[\"REGULAR_PAY\"].std()\n",
    "\n",
    "print(f'Média salarial: $ {mean_payment:.2f}\\nMediana: $ {median_payment:.2f}\\nDesvio padrão: $ {std_payment:.2f}')"
   ]
  },
  {
   "cell_type": "code",
   "execution_count": 39,
   "metadata": {},
   "outputs": [
    {
     "name": "stdout",
     "output_type": "stream",
     "text": [
      "Maior salario: $ 462502.96\n",
      "Menor Salário: $ -14952.00\n"
     ]
    }
   ],
   "source": [
    "max_payment = bd[\"REGULAR_PAY\"].max()\n",
    "min_payment = bd[\"REGULAR_PAY\"].min()\n",
    "\n",
    "print(f'Maior salario: $ {max_payment:.2f}\\nMenor Salário: $ {min_payment:.2f}')"
   ]
  },
  {
   "cell_type": "code",
   "execution_count": 40,
   "metadata": {},
   "outputs": [
    {
     "data": {
      "text/html": [
       "<div>\n",
       "<style scoped>\n",
       "    .dataframe tbody tr th:only-of-type {\n",
       "        vertical-align: middle;\n",
       "    }\n",
       "\n",
       "    .dataframe tbody tr th {\n",
       "        vertical-align: top;\n",
       "    }\n",
       "\n",
       "    .dataframe thead th {\n",
       "        text-align: right;\n",
       "    }\n",
       "</style>\n",
       "<table border=\"1\" class=\"dataframe\">\n",
       "  <thead>\n",
       "    <tr style=\"text-align: right;\">\n",
       "      <th></th>\n",
       "      <th>RECORD_NBR</th>\n",
       "      <th>PAY_YEAR</th>\n",
       "      <th>DEPARTMENT_NO</th>\n",
       "      <th>DEPARTMENT_TITLE</th>\n",
       "      <th>JOB_CLASS_PGRADE</th>\n",
       "      <th>JOB_TITLE</th>\n",
       "      <th>EMPLOYMENT_TYPE</th>\n",
       "      <th>JOB_STATUS</th>\n",
       "      <th>MOU</th>\n",
       "      <th>MOU_TITLE</th>\n",
       "      <th>REGULAR_PAY</th>\n",
       "      <th>OVERTIME_PAY</th>\n",
       "      <th>ALL_OTHER_PAY</th>\n",
       "      <th>TOTAL_PAY</th>\n",
       "      <th>CITY_RETIREMENT_CONTRIBUTIONS</th>\n",
       "      <th>BENEFIT_PAY</th>\n",
       "      <th>GENDER</th>\n",
       "      <th>ETHNICITY</th>\n",
       "    </tr>\n",
       "  </thead>\n",
       "  <tbody>\n",
       "    <tr>\n",
       "      <th>510</th>\n",
       "      <td>3033393734</td>\n",
       "      <td>2017</td>\n",
       "      <td>98</td>\n",
       "      <td>WATER AND POWER</td>\n",
       "      <td>7525-5</td>\n",
       "      <td>ELTL ENGR ASSOC</td>\n",
       "      <td>FULL_TIME</td>\n",
       "      <td>ACTIVE</td>\n",
       "      <td>3</td>\n",
       "      <td>PROFESSIONAL UNIT</td>\n",
       "      <td>-727.74</td>\n",
       "      <td>0.0</td>\n",
       "      <td>80163.24</td>\n",
       "      <td>79435.50</td>\n",
       "      <td>-48.0</td>\n",
       "      <td>0.00</td>\n",
       "      <td>MALE</td>\n",
       "      <td>FILIPINO</td>\n",
       "    </tr>\n",
       "    <tr>\n",
       "      <th>3476</th>\n",
       "      <td>323932303032</td>\n",
       "      <td>2017</td>\n",
       "      <td>98</td>\n",
       "      <td>WATER AND POWER</td>\n",
       "      <td>3686-5</td>\n",
       "      <td>COMMUNIC ELTN</td>\n",
       "      <td>FULL_TIME</td>\n",
       "      <td>NOT_ACTIVE</td>\n",
       "      <td>8</td>\n",
       "      <td>OPERATING MAINTENANCE AND SERVICE UNIT</td>\n",
       "      <td>-1574.40</td>\n",
       "      <td>0.0</td>\n",
       "      <td>59090.49</td>\n",
       "      <td>57516.09</td>\n",
       "      <td>-104.0</td>\n",
       "      <td>0.00</td>\n",
       "      <td>MALE</td>\n",
       "      <td>FILIPINO</td>\n",
       "    </tr>\n",
       "    <tr>\n",
       "      <th>4955</th>\n",
       "      <td>3431393837</td>\n",
       "      <td>2017</td>\n",
       "      <td>98</td>\n",
       "      <td>WATER AND POWER</td>\n",
       "      <td>7854-5</td>\n",
       "      <td>LABY TCHN</td>\n",
       "      <td>FULL_TIME</td>\n",
       "      <td>NOT_ACTIVE</td>\n",
       "      <td>2</td>\n",
       "      <td>TECHNICAL REPRESENTATION UNIT</td>\n",
       "      <td>-109.65</td>\n",
       "      <td>0.0</td>\n",
       "      <td>42240.93</td>\n",
       "      <td>42131.28</td>\n",
       "      <td>-7.0</td>\n",
       "      <td>0.00</td>\n",
       "      <td>MALE</td>\n",
       "      <td>HISPANIC</td>\n",
       "    </tr>\n",
       "    <tr>\n",
       "      <th>5331</th>\n",
       "      <td>3435323932</td>\n",
       "      <td>2017</td>\n",
       "      <td>98</td>\n",
       "      <td>WATER AND POWER</td>\n",
       "      <td>3525-5</td>\n",
       "      <td>EQUIPMENT OPERATOR</td>\n",
       "      <td>FULL_TIME</td>\n",
       "      <td>NOT_ACTIVE</td>\n",
       "      <td>8</td>\n",
       "      <td>OPERATING MAINTENANCE AND SERVICE UNIT</td>\n",
       "      <td>-180.54</td>\n",
       "      <td>0.0</td>\n",
       "      <td>373.95</td>\n",
       "      <td>193.41</td>\n",
       "      <td>-12.0</td>\n",
       "      <td>0.00</td>\n",
       "      <td>MALE</td>\n",
       "      <td>HISPANIC</td>\n",
       "    </tr>\n",
       "    <tr>\n",
       "      <th>7083</th>\n",
       "      <td>363039333233</td>\n",
       "      <td>2017</td>\n",
       "      <td>98</td>\n",
       "      <td>WATER AND POWER</td>\n",
       "      <td>7525-5</td>\n",
       "      <td>ELTL ENGR ASSOC</td>\n",
       "      <td>FULL_TIME</td>\n",
       "      <td>NOT_ACTIVE</td>\n",
       "      <td>3</td>\n",
       "      <td>PROFESSIONAL UNIT</td>\n",
       "      <td>-2049.60</td>\n",
       "      <td>0.0</td>\n",
       "      <td>37279.03</td>\n",
       "      <td>35229.43</td>\n",
       "      <td>-135.0</td>\n",
       "      <td>0.00</td>\n",
       "      <td>MALE</td>\n",
       "      <td>BLACK</td>\n",
       "    </tr>\n",
       "    <tr>\n",
       "      <th>...</th>\n",
       "      <td>...</td>\n",
       "      <td>...</td>\n",
       "      <td>...</td>\n",
       "      <td>...</td>\n",
       "      <td>...</td>\n",
       "      <td>...</td>\n",
       "      <td>...</td>\n",
       "      <td>...</td>\n",
       "      <td>...</td>\n",
       "      <td>...</td>\n",
       "      <td>...</td>\n",
       "      <td>...</td>\n",
       "      <td>...</td>\n",
       "      <td>...</td>\n",
       "      <td>...</td>\n",
       "      <td>...</td>\n",
       "      <td>...</td>\n",
       "      <td>...</td>\n",
       "    </tr>\n",
       "    <tr>\n",
       "      <th>668982</th>\n",
       "      <td>363735353933</td>\n",
       "      <td>2022</td>\n",
       "      <td>88</td>\n",
       "      <td>RECREATION AND PARKS</td>\n",
       "      <td>2418-1</td>\n",
       "      <td>ASSISTANT PARK SERVICES ATTENDANT I</td>\n",
       "      <td>PART_TIME</td>\n",
       "      <td>NOT_ACTIVE</td>\n",
       "      <td>3.0</td>\n",
       "      <td>CLERICAL</td>\n",
       "      <td>-133.52</td>\n",
       "      <td>0.0</td>\n",
       "      <td>515.16</td>\n",
       "      <td>381.64</td>\n",
       "      <td>0.0</td>\n",
       "      <td>36.72</td>\n",
       "      <td>MALE</td>\n",
       "      <td>HISPANIC</td>\n",
       "    </tr>\n",
       "    <tr>\n",
       "      <th>670828</th>\n",
       "      <td>3731323733</td>\n",
       "      <td>2022</td>\n",
       "      <td>88</td>\n",
       "      <td>RECREATION AND PARKS</td>\n",
       "      <td>3141-0</td>\n",
       "      <td>GARDENER CARETAKER</td>\n",
       "      <td>FULL_TIME</td>\n",
       "      <td>ACTIVE</td>\n",
       "      <td>4.0</td>\n",
       "      <td>EQUIPMENT OPERATION AND LABOR</td>\n",
       "      <td>-6022.90</td>\n",
       "      <td>0.0</td>\n",
       "      <td>7485.99</td>\n",
       "      <td>1463.09</td>\n",
       "      <td>0.0</td>\n",
       "      <td>404.25</td>\n",
       "      <td>MALE</td>\n",
       "      <td>CAUCASIAN</td>\n",
       "    </tr>\n",
       "    <tr>\n",
       "      <th>679313</th>\n",
       "      <td>383833313034</td>\n",
       "      <td>2022</td>\n",
       "      <td>4</td>\n",
       "      <td>AIRPORTS</td>\n",
       "      <td>3181-0</td>\n",
       "      <td>SECURITY OFFICER</td>\n",
       "      <td>FULL_TIME</td>\n",
       "      <td>ACTIVE</td>\n",
       "      <td>18.0</td>\n",
       "      <td>SAFETY / SECURITY</td>\n",
       "      <td>-2019.51</td>\n",
       "      <td>0.0</td>\n",
       "      <td>3476.63</td>\n",
       "      <td>1457.12</td>\n",
       "      <td>0.0</td>\n",
       "      <td>358.21</td>\n",
       "      <td>MALE</td>\n",
       "      <td>HISPANIC</td>\n",
       "    </tr>\n",
       "    <tr>\n",
       "      <th>679660</th>\n",
       "      <td>383930393732</td>\n",
       "      <td>2022</td>\n",
       "      <td>4</td>\n",
       "      <td>AIRPORTS</td>\n",
       "      <td>1961-0</td>\n",
       "      <td>SENIOR REAL ESTATE OFFICER</td>\n",
       "      <td>FULL_TIME</td>\n",
       "      <td>NOT_ACTIVE</td>\n",
       "      <td>19.0</td>\n",
       "      <td>SUPERVISORY TECHNICAL</td>\n",
       "      <td>-5048.00</td>\n",
       "      <td>0.0</td>\n",
       "      <td>20832.64</td>\n",
       "      <td>15784.64</td>\n",
       "      <td>0.0</td>\n",
       "      <td>0.00</td>\n",
       "      <td>MALE</td>\n",
       "      <td>CAUCASIAN</td>\n",
       "    </tr>\n",
       "    <tr>\n",
       "      <th>679720</th>\n",
       "      <td>383433393433</td>\n",
       "      <td>2022</td>\n",
       "      <td>4</td>\n",
       "      <td>AIRPORTS</td>\n",
       "      <td>3181-0</td>\n",
       "      <td>SECURITY OFFICER</td>\n",
       "      <td>FULL_TIME</td>\n",
       "      <td>ACTIVE</td>\n",
       "      <td>18.0</td>\n",
       "      <td>SAFETY / SECURITY</td>\n",
       "      <td>-2784.60</td>\n",
       "      <td>0.0</td>\n",
       "      <td>4717.97</td>\n",
       "      <td>1933.37</td>\n",
       "      <td>0.0</td>\n",
       "      <td>0.00</td>\n",
       "      <td>FEMALE</td>\n",
       "      <td>BLACK</td>\n",
       "    </tr>\n",
       "  </tbody>\n",
       "</table>\n",
       "<p>230 rows × 18 columns</p>\n",
       "</div>"
      ],
      "text/plain": [
       "          RECORD_NBR  PAY_YEAR  DEPARTMENT_NO      DEPARTMENT_TITLE  \\\n",
       "510       3033393734      2017             98       WATER AND POWER   \n",
       "3476    323932303032      2017             98       WATER AND POWER   \n",
       "4955      3431393837      2017             98       WATER AND POWER   \n",
       "5331      3435323932      2017             98       WATER AND POWER   \n",
       "7083    363039333233      2017             98       WATER AND POWER   \n",
       "...              ...       ...            ...                   ...   \n",
       "668982  363735353933      2022             88  RECREATION AND PARKS   \n",
       "670828    3731323733      2022             88  RECREATION AND PARKS   \n",
       "679313  383833313034      2022              4              AIRPORTS   \n",
       "679660  383930393732      2022              4              AIRPORTS   \n",
       "679720  383433393433      2022              4              AIRPORTS   \n",
       "\n",
       "       JOB_CLASS_PGRADE                            JOB_TITLE EMPLOYMENT_TYPE  \\\n",
       "510              7525-5                      ELTL ENGR ASSOC       FULL_TIME   \n",
       "3476             3686-5                        COMMUNIC ELTN       FULL_TIME   \n",
       "4955             7854-5                            LABY TCHN       FULL_TIME   \n",
       "5331             3525-5                   EQUIPMENT OPERATOR       FULL_TIME   \n",
       "7083             7525-5                      ELTL ENGR ASSOC       FULL_TIME   \n",
       "...                 ...                                  ...             ...   \n",
       "668982           2418-1  ASSISTANT PARK SERVICES ATTENDANT I       PART_TIME   \n",
       "670828           3141-0                   GARDENER CARETAKER       FULL_TIME   \n",
       "679313           3181-0                     SECURITY OFFICER       FULL_TIME   \n",
       "679660           1961-0           SENIOR REAL ESTATE OFFICER       FULL_TIME   \n",
       "679720           3181-0                     SECURITY OFFICER       FULL_TIME   \n",
       "\n",
       "        JOB_STATUS   MOU                               MOU_TITLE  REGULAR_PAY  \\\n",
       "510         ACTIVE     3                       PROFESSIONAL UNIT      -727.74   \n",
       "3476    NOT_ACTIVE     8  OPERATING MAINTENANCE AND SERVICE UNIT     -1574.40   \n",
       "4955    NOT_ACTIVE     2           TECHNICAL REPRESENTATION UNIT      -109.65   \n",
       "5331    NOT_ACTIVE     8  OPERATING MAINTENANCE AND SERVICE UNIT      -180.54   \n",
       "7083    NOT_ACTIVE     3                       PROFESSIONAL UNIT     -2049.60   \n",
       "...            ...   ...                                     ...          ...   \n",
       "668982  NOT_ACTIVE   3.0                                CLERICAL      -133.52   \n",
       "670828      ACTIVE   4.0           EQUIPMENT OPERATION AND LABOR     -6022.90   \n",
       "679313      ACTIVE  18.0                       SAFETY / SECURITY     -2019.51   \n",
       "679660  NOT_ACTIVE  19.0                   SUPERVISORY TECHNICAL     -5048.00   \n",
       "679720      ACTIVE  18.0                       SAFETY / SECURITY     -2784.60   \n",
       "\n",
       "        OVERTIME_PAY  ALL_OTHER_PAY  TOTAL_PAY  CITY_RETIREMENT_CONTRIBUTIONS  \\\n",
       "510              0.0       80163.24   79435.50                          -48.0   \n",
       "3476             0.0       59090.49   57516.09                         -104.0   \n",
       "4955             0.0       42240.93   42131.28                           -7.0   \n",
       "5331             0.0         373.95     193.41                          -12.0   \n",
       "7083             0.0       37279.03   35229.43                         -135.0   \n",
       "...              ...            ...        ...                            ...   \n",
       "668982           0.0         515.16     381.64                            0.0   \n",
       "670828           0.0        7485.99    1463.09                            0.0   \n",
       "679313           0.0        3476.63    1457.12                            0.0   \n",
       "679660           0.0       20832.64   15784.64                            0.0   \n",
       "679720           0.0        4717.97    1933.37                            0.0   \n",
       "\n",
       "        BENEFIT_PAY  GENDER  ETHNICITY  \n",
       "510            0.00    MALE   FILIPINO  \n",
       "3476           0.00    MALE   FILIPINO  \n",
       "4955           0.00    MALE   HISPANIC  \n",
       "5331           0.00    MALE   HISPANIC  \n",
       "7083           0.00    MALE      BLACK  \n",
       "...             ...     ...        ...  \n",
       "668982        36.72    MALE   HISPANIC  \n",
       "670828       404.25    MALE  CAUCASIAN  \n",
       "679313       358.21    MALE   HISPANIC  \n",
       "679660         0.00    MALE  CAUCASIAN  \n",
       "679720         0.00  FEMALE      BLACK  \n",
       "\n",
       "[230 rows x 18 columns]"
      ]
     },
     "execution_count": 40,
     "metadata": {},
     "output_type": "execute_result"
    }
   ],
   "source": [
    "negative_payments = bd[bd[\"REGULAR_PAY\"] < 0]\n",
    "negative_payments"
   ]
  },
  {
   "cell_type": "markdown",
   "metadata": {},
   "source": [
    "### Demissões"
   ]
  },
  {
   "cell_type": "code",
   "execution_count": 41,
   "metadata": {},
   "outputs": [
    {
     "name": "stdout",
     "output_type": "stream",
     "text": [
      "Total de desligamentos em 2013: 40061 demissões\n",
      "Total de desligamentos em 2014: 38657 demissões\n",
      "Total de desligamentos em 2015: 39341 demissões\n",
      "Total de desligamentos em 2016: 41203 demissões\n",
      "Total de desligamentos em 2017: 36108 demissões\n",
      "Total de desligamentos em 2018: 36071 demissões\n",
      "Total de desligamentos em 2019: 21848 demissões\n",
      "Total de desligamentos em 2020: 16569 demissões\n",
      "Total de desligamentos em 2021: 12361 demissões\n",
      "Total de desligamentos em 2022: 5673 demissões\n"
     ]
    }
   ],
   "source": [
    "for year in years:\n",
    "    filter = bd[bd[\"PAY_YEAR\"] == year]\n",
    "    employe_year = len(filter[filter[\"JOB_STATUS\"] == \"NOT_ACTIVE\"])\n",
    "    print(f'Total de desligamentos em {year}: {employe_year} demissões')\n"
   ]
  },
  {
   "cell_type": "markdown",
   "metadata": {},
   "source": [
    "### Pagamentos por departamento "
   ]
  },
  {
   "cell_type": "code",
   "execution_count": 42,
   "metadata": {},
   "outputs": [],
   "source": [
    "payments_departments = bd.groupby([\"DEPARTMENT_NO\",\"DEPARTMENT_TITLE\"])[\"TOTAL_PAY\"].sum().reset_index()\n",
    "data2 = payments_departments.sort_values(by=\"TOTAL_PAY\",ascending=False)"
   ]
  },
  {
   "cell_type": "markdown",
   "metadata": {},
   "source": [
    "### Funcionários por departamento"
   ]
  },
  {
   "cell_type": "code",
   "execution_count": 43,
   "metadata": {},
   "outputs": [],
   "source": [
    "employees_departments = bd.groupby([\"DEPARTMENT_NO\",\"DEPARTMENT_TITLE\"])[\"RECORD_NBR\"].count().reset_index()\n",
    "data1 = employees_departments.sort_values(by=\"RECORD_NBR\",ascending=False)"
   ]
  },
  {
   "cell_type": "code",
   "execution_count": 44,
   "metadata": {},
   "outputs": [
    {
     "data": {
      "image/png": "[encoded data removed]",
      "text/plain": [
       "<Figure size 640x480 with 2 Axes>"
      ]
     },
     "metadata": {},
     "output_type": "display_data"
    }
   ],
   "source": [
    "func_employee = data1.merge(data2)\n",
    "func_employee[\"TOTAL_PAY\"] = func_employee[\"TOTAL_PAY\"].astype(float) \n",
    "fig = pyploy.subplot()\n",
    "fig.bar(func_employee[\"DEPARTMENT_TITLE\"],func_employee[\"TOTAL_PAY\"], color = \"r\", label = \"teste\")\n",
    "fig2 = fig.twinx()\n",
    "fig2.scatter(func_employee[\"DEPARTMENT_TITLE\"],func_employee[\"RECORD_NBR\"], color = \"g\", label = \"teste\")\n",
    "fig.set_xticklabels([])\n",
    "fig2.xaxis.label.set_visible(False)\n",
    "pyploy.title(\"Relação Salários x Funcionarios por departamento\")\n",
    "pyploy.show()"
   ]
  },
  {
   "cell_type": "code",
   "execution_count": 54,
   "metadata": {},
   "outputs": [
    {
     "data": {
      "text/html": [
       "<div>\n",
       "<style scoped>\n",
       "    .dataframe tbody tr th:only-of-type {\n",
       "        vertical-align: middle;\n",
       "    }\n",
       "\n",
       "    .dataframe tbody tr th {\n",
       "        vertical-align: top;\n",
       "    }\n",
       "\n",
       "    .dataframe thead th {\n",
       "        text-align: right;\n",
       "    }\n",
       "</style>\n",
       "<table border=\"1\" class=\"dataframe\">\n",
       "  <thead>\n",
       "    <tr style=\"text-align: right;\">\n",
       "      <th></th>\n",
       "      <th>DEPARTMENT_NO</th>\n",
       "      <th>DEPARTMENT_TITLE</th>\n",
       "      <th>RECORD_NBR</th>\n",
       "      <th>TOTAL_PAY</th>\n",
       "    </tr>\n",
       "  </thead>\n",
       "  <tbody>\n",
       "    <tr>\n",
       "      <th>34</th>\n",
       "      <td>74</td>\n",
       "      <td>PUBLIC WORKS - BOARD OF PUBLIC WORKS</td>\n",
       "      <td>1332</td>\n",
       "      <td>83851407.10</td>\n",
       "    </tr>\n",
       "    <tr>\n",
       "      <th>35</th>\n",
       "      <td>48</td>\n",
       "      <td>LOS ANGELES DEPARTMENT OF CONVENTION AND TOURI...</td>\n",
       "      <td>1025</td>\n",
       "      <td>22925673.41</td>\n",
       "    </tr>\n",
       "    <tr>\n",
       "      <th>36</th>\n",
       "      <td>47</td>\n",
       "      <td>NEIGHBORHOOD EMPOWERMENT</td>\n",
       "      <td>479</td>\n",
       "      <td>21394643.94</td>\n",
       "    </tr>\n",
       "    <tr>\n",
       "      <th>37</th>\n",
       "      <td>35</td>\n",
       "      <td>EMERGENCY MANAGEMENT</td>\n",
       "      <td>427</td>\n",
       "      <td>28110253.48</td>\n",
       "    </tr>\n",
       "    <tr>\n",
       "      <th>38</th>\n",
       "      <td>33</td>\n",
       "      <td>EL PUEBLO DE LOS ANGELES HISTORICAL MONUMENT A...</td>\n",
       "      <td>409</td>\n",
       "      <td>11975648.00</td>\n",
       "    </tr>\n",
       "    <tr>\n",
       "      <th>39</th>\n",
       "      <td>17</td>\n",
       "      <td>CITY ETHICS COMMISSION</td>\n",
       "      <td>392</td>\n",
       "      <td>25918634.11</td>\n",
       "    </tr>\n",
       "    <tr>\n",
       "      <th>40</th>\n",
       "      <td>65</td>\n",
       "      <td>DISABILITY</td>\n",
       "      <td>260</td>\n",
       "      <td>18266654.52</td>\n",
       "    </tr>\n",
       "    <tr>\n",
       "      <th>41</th>\n",
       "      <td>13</td>\n",
       "      <td>CANNABIS REGULATION</td>\n",
       "      <td>181</td>\n",
       "      <td>9120277.39</td>\n",
       "    </tr>\n",
       "    <tr>\n",
       "      <th>42</th>\n",
       "      <td>21</td>\n",
       "      <td>COMMUNITY INVESTMENT FOR FAMILIES DEPARTMENT</td>\n",
       "      <td>138</td>\n",
       "      <td>4547191.37</td>\n",
       "    </tr>\n",
       "    <tr>\n",
       "      <th>43</th>\n",
       "      <td>36</td>\n",
       "      <td>EMPLOYEE RELATIONS BOARD</td>\n",
       "      <td>89</td>\n",
       "      <td>3049001.79</td>\n",
       "    </tr>\n",
       "    <tr>\n",
       "      <th>44</th>\n",
       "      <td>15</td>\n",
       "      <td>CIVIL, HUMAN RIGHTS AND EQUITY DEPARTMENT</td>\n",
       "      <td>38</td>\n",
       "      <td>1646803.63</td>\n",
       "    </tr>\n",
       "    <tr>\n",
       "      <th>45</th>\n",
       "      <td>18</td>\n",
       "      <td>COLISEUM/SPORTS ARENA</td>\n",
       "      <td>36</td>\n",
       "      <td>1352149.09</td>\n",
       "    </tr>\n",
       "    <tr>\n",
       "      <th>46</th>\n",
       "      <td>11</td>\n",
       "      <td>PUBLIC ACCOUNTABILITY</td>\n",
       "      <td>30</td>\n",
       "      <td>4071928.36</td>\n",
       "    </tr>\n",
       "    <tr>\n",
       "      <th>47</th>\n",
       "      <td>48</td>\n",
       "      <td>LOS ANGELES CITY TOURISM DEPARTMENT</td>\n",
       "      <td>19</td>\n",
       "      <td>1944157.37</td>\n",
       "    </tr>\n",
       "    <tr>\n",
       "      <th>48</th>\n",
       "      <td>19</td>\n",
       "      <td>YOUTH DEVELOPMENT DEPARTMENT</td>\n",
       "      <td>11</td>\n",
       "      <td>276479.94</td>\n",
       "    </tr>\n",
       "    <tr>\n",
       "      <th>49</th>\n",
       "      <td>96</td>\n",
       "      <td>TREASURER</td>\n",
       "      <td>10</td>\n",
       "      <td>2749.53</td>\n",
       "    </tr>\n",
       "    <tr>\n",
       "      <th>50</th>\n",
       "      <td>27</td>\n",
       "      <td>COMMISSION ON CHILDREN, YOUTH AND THEIR FAMILIES</td>\n",
       "      <td>6</td>\n",
       "      <td>351.24</td>\n",
       "    </tr>\n",
       "    <tr>\n",
       "      <th>51</th>\n",
       "      <td>37</td>\n",
       "      <td>ENVIRONMENTAL AFFAIRS</td>\n",
       "      <td>4</td>\n",
       "      <td>559.18</td>\n",
       "    </tr>\n",
       "    <tr>\n",
       "      <th>52</th>\n",
       "      <td>49</td>\n",
       "      <td>HUMAN RELATIONS COMMISSION</td>\n",
       "      <td>2</td>\n",
       "      <td>100.17</td>\n",
       "    </tr>\n",
       "    <tr>\n",
       "      <th>53</th>\n",
       "      <td>20</td>\n",
       "      <td>COMMISSION ON THE STATUS OF WOMEN</td>\n",
       "      <td>2</td>\n",
       "      <td>52.38</td>\n",
       "    </tr>\n",
       "  </tbody>\n",
       "</table>\n",
       "</div>"
      ],
      "text/plain": [
       "    DEPARTMENT_NO                                   DEPARTMENT_TITLE  \\\n",
       "34             74               PUBLIC WORKS - BOARD OF PUBLIC WORKS   \n",
       "35             48  LOS ANGELES DEPARTMENT OF CONVENTION AND TOURI...   \n",
       "36             47                           NEIGHBORHOOD EMPOWERMENT   \n",
       "37             35                               EMERGENCY MANAGEMENT   \n",
       "38             33  EL PUEBLO DE LOS ANGELES HISTORICAL MONUMENT A...   \n",
       "39             17                             CITY ETHICS COMMISSION   \n",
       "40             65                                         DISABILITY   \n",
       "41             13                                CANNABIS REGULATION   \n",
       "42             21       COMMUNITY INVESTMENT FOR FAMILIES DEPARTMENT   \n",
       "43             36                           EMPLOYEE RELATIONS BOARD   \n",
       "44             15          CIVIL, HUMAN RIGHTS AND EQUITY DEPARTMENT   \n",
       "45             18                              COLISEUM/SPORTS ARENA   \n",
       "46             11                              PUBLIC ACCOUNTABILITY   \n",
       "47             48                LOS ANGELES CITY TOURISM DEPARTMENT   \n",
       "48             19                       YOUTH DEVELOPMENT DEPARTMENT   \n",
       "49             96                                          TREASURER   \n",
       "50             27   COMMISSION ON CHILDREN, YOUTH AND THEIR FAMILIES   \n",
       "51             37                              ENVIRONMENTAL AFFAIRS   \n",
       "52             49                         HUMAN RELATIONS COMMISSION   \n",
       "53             20                  COMMISSION ON THE STATUS OF WOMEN   \n",
       "\n",
       "    RECORD_NBR    TOTAL_PAY  \n",
       "34        1332  83851407.10  \n",
       "35        1025  22925673.41  \n",
       "36         479  21394643.94  \n",
       "37         427  28110253.48  \n",
       "38         409  11975648.00  \n",
       "39         392  25918634.11  \n",
       "40         260  18266654.52  \n",
       "41         181   9120277.39  \n",
       "42         138   4547191.37  \n",
       "43          89   3049001.79  \n",
       "44          38   1646803.63  \n",
       "45          36   1352149.09  \n",
       "46          30   4071928.36  \n",
       "47          19   1944157.37  \n",
       "48          11    276479.94  \n",
       "49          10      2749.53  \n",
       "50           6       351.24  \n",
       "51           4       559.18  \n",
       "52           2       100.17  \n",
       "53           2        52.38  "
      ]
     },
     "execution_count": 54,
     "metadata": {},
     "output_type": "execute_result"
    },
    {
     "data": {
      "image/png": "[encoded data removed]",
      "text/plain": [
       "<Figure size 640x480 with 1 Axes>"
      ]
     },
     "metadata": {},
     "output_type": "display_data"
    }
   ],
   "source": [
    "x = pyploy.subplot()\n",
    "f1 = func_employee.head(7)\n",
    "x.plot(f1[\"DEPARTMENT_TITLE\"],f1[\"RECORD_NBR\"])\n",
    "func_employee.tail(20)"
   ]
  },
  {
   "cell_type": "markdown",
   "metadata": {},
   "source": [
    "### Horas Extras"
   ]
  },
  {
   "cell_type": "code",
   "execution_count": 56,
   "metadata": {},
   "outputs": [],
   "source": [
    "employees_departments = bd.groupby([\"DEPARTMENT_NO\",\"DEPARTMENT_TITLE\"])[\"OVERTIME_PAY\"].sum().reset_index()\n",
    "data3 = employees_departments.sort_values(by=\"OVERTIME_PAY\",ascending=False)"
   ]
  },
  {
   "cell_type": "code",
   "execution_count": 57,
   "metadata": {},
   "outputs": [
    {
     "data": {
      "image/png": "[encoded data removed]",
      "text/plain": [
       "<Figure size 640x480 with 2 Axes>"
      ]
     },
     "metadata": {},
     "output_type": "display_data"
    }
   ],
   "source": [
    "over_employees = data3.merge(data1)\n",
    "fig = pyploy.subplot()\n",
    "fig.bar(over_employees[\"DEPARTMENT_TITLE\"],over_employees[\"OVERTIME_PAY\"], color = \"r\", label = \"teste\")\n",
    "fig2 = fig.twinx()\n",
    "fig2.scatter(over_employees[\"DEPARTMENT_TITLE\"],over_employees[\"RECORD_NBR\"], color = \"g\", label = \"teste\")\n",
    "fig.set_xticklabels([])\n",
    "fig2.xaxis.label.set_visible(False)\n",
    "pyploy.title(\"Relação Horas Extras x Funcionarios por departamento\")\n",
    "pyploy.show()"
   ]
  },
  {
   "cell_type": "markdown",
   "metadata": {},
   "source": [
    "### Funcionários por ano"
   ]
  },
  {
   "cell_type": "code",
   "execution_count": 58,
   "metadata": {},
   "outputs": [
    {
     "data": {
      "text/html": [
       "<div>\n",
       "<style scoped>\n",
       "    .dataframe tbody tr th:only-of-type {\n",
       "        vertical-align: middle;\n",
       "    }\n",
       "\n",
       "    .dataframe tbody tr th {\n",
       "        vertical-align: top;\n",
       "    }\n",
       "\n",
       "    .dataframe thead th {\n",
       "        text-align: right;\n",
       "    }\n",
       "</style>\n",
       "<table border=\"1\" class=\"dataframe\">\n",
       "  <thead>\n",
       "    <tr style=\"text-align: right;\">\n",
       "      <th></th>\n",
       "      <th>DEPARTMENT_NO</th>\n",
       "      <th>DEPARTMENT_TITLE</th>\n",
       "      <th>PAY_YEAR</th>\n",
       "      <th>Empregados</th>\n",
       "    </tr>\n",
       "  </thead>\n",
       "  <tbody>\n",
       "    <tr>\n",
       "      <th>269</th>\n",
       "      <td>48</td>\n",
       "      <td>LOS ANGELES DEPARTMENT OF CONVENTION AND TOURI...</td>\n",
       "      <td>2013</td>\n",
       "      <td>1</td>\n",
       "    </tr>\n",
       "    <tr>\n",
       "      <th>270</th>\n",
       "      <td>48</td>\n",
       "      <td>LOS ANGELES DEPARTMENT OF CONVENTION AND TOURI...</td>\n",
       "      <td>2014</td>\n",
       "      <td>2</td>\n",
       "    </tr>\n",
       "    <tr>\n",
       "      <th>257</th>\n",
       "      <td>47</td>\n",
       "      <td>NEIGHBORHOOD EMPOWERMENT</td>\n",
       "      <td>2013</td>\n",
       "      <td>2</td>\n",
       "    </tr>\n",
       "    <tr>\n",
       "      <th>177</th>\n",
       "      <td>36</td>\n",
       "      <td>EMPLOYEE RELATIONS BOARD</td>\n",
       "      <td>2013</td>\n",
       "      <td>2</td>\n",
       "    </tr>\n",
       "    <tr>\n",
       "      <th>258</th>\n",
       "      <td>47</td>\n",
       "      <td>NEIGHBORHOOD EMPOWERMENT</td>\n",
       "      <td>2014</td>\n",
       "      <td>2</td>\n",
       "    </tr>\n",
       "    <tr>\n",
       "      <th>...</th>\n",
       "      <td>...</td>\n",
       "      <td>...</td>\n",
       "      <td>...</td>\n",
       "      <td>...</td>\n",
       "    </tr>\n",
       "    <tr>\n",
       "      <th>425</th>\n",
       "      <td>98</td>\n",
       "      <td>WATER AND POWER</td>\n",
       "      <td>2021</td>\n",
       "      <td>11704</td>\n",
       "    </tr>\n",
       "    <tr>\n",
       "      <th>323</th>\n",
       "      <td>70</td>\n",
       "      <td>POLICE</td>\n",
       "      <td>2019</td>\n",
       "      <td>11723</td>\n",
       "    </tr>\n",
       "    <tr>\n",
       "      <th>326</th>\n",
       "      <td>70</td>\n",
       "      <td>POLICE</td>\n",
       "      <td>2022</td>\n",
       "      <td>11964</td>\n",
       "    </tr>\n",
       "    <tr>\n",
       "      <th>325</th>\n",
       "      <td>70</td>\n",
       "      <td>POLICE</td>\n",
       "      <td>2021</td>\n",
       "      <td>12221</td>\n",
       "    </tr>\n",
       "    <tr>\n",
       "      <th>324</th>\n",
       "      <td>70</td>\n",
       "      <td>POLICE</td>\n",
       "      <td>2020</td>\n",
       "      <td>12878</td>\n",
       "    </tr>\n",
       "  </tbody>\n",
       "</table>\n",
       "<p>426 rows × 4 columns</p>\n",
       "</div>"
      ],
      "text/plain": [
       "     DEPARTMENT_NO                                   DEPARTMENT_TITLE  \\\n",
       "269             48  LOS ANGELES DEPARTMENT OF CONVENTION AND TOURI...   \n",
       "270             48  LOS ANGELES DEPARTMENT OF CONVENTION AND TOURI...   \n",
       "257             47                           NEIGHBORHOOD EMPOWERMENT   \n",
       "177             36                           EMPLOYEE RELATIONS BOARD   \n",
       "258             47                           NEIGHBORHOOD EMPOWERMENT   \n",
       "..             ...                                                ...   \n",
       "425             98                                    WATER AND POWER   \n",
       "323             70                                             POLICE   \n",
       "326             70                                             POLICE   \n",
       "325             70                                             POLICE   \n",
       "324             70                                             POLICE   \n",
       "\n",
       "     PAY_YEAR  Empregados  \n",
       "269      2013           1  \n",
       "270      2014           2  \n",
       "257      2013           2  \n",
       "177      2013           2  \n",
       "258      2014           2  \n",
       "..        ...         ...  \n",
       "425      2021       11704  \n",
       "323      2019       11723  \n",
       "326      2022       11964  \n",
       "325      2021       12221  \n",
       "324      2020       12878  \n",
       "\n",
       "[426 rows x 4 columns]"
      ]
     },
     "execution_count": 58,
     "metadata": {},
     "output_type": "execute_result"
    }
   ],
   "source": [
    "active = bd[bd[\"JOB_STATUS\"] == \"ACTIVE\"]\n",
    "employe_dep_year = active.groupby([\"DEPARTMENT_NO\",\"DEPARTMENT_TITLE\",\"PAY_YEAR\"]).size().reset_index(name=\"Empregados\")\n",
    "employe_dep_year.sort_values(by=\"Empregados\", ascending=True)\n",
    "\n"
   ]
  },
  {
   "cell_type": "markdown",
   "metadata": {},
   "source": [
    "### Verificação se um departamento tem mais de um MOU"
   ]
  },
  {
   "cell_type": "code",
   "execution_count": 59,
   "metadata": {},
   "outputs": [
    {
     "data": {
      "text/plain": [
       "MOU\n",
       "24      62107\n",
       "24.0    50267\n",
       "03       8046\n",
       "3.0      6510\n",
       "18       3051\n",
       "18.0     2526\n",
       "01       2261\n",
       "1.0      1632\n",
       "20       1306\n",
       "14       1091\n",
       "12       1034\n",
       "20.0     1029\n",
       "14.0      886\n",
       "21        870\n",
       "12.0      837\n",
       "25        832\n",
       "08        766\n",
       "21.0      700\n",
       "25.0      683\n",
       "8.0       654\n",
       "00        464\n",
       "0.0       431\n",
       "28        251\n",
       "02        204\n",
       "2.0       183\n",
       "36        163\n",
       "28.0      146\n",
       "36.0      138\n",
       "17        128\n",
       "17.0      112\n",
       "19        103\n",
       "37         96\n",
       "37.0       95\n",
       "19.0       93\n",
       "10         80\n",
       "10.0       69\n",
       "04         56\n",
       "4.0        37\n",
       "13         14\n",
       "13.0       10\n",
       "64          8\n",
       "39.0        7\n",
       "64.0        6\n",
       "09          6\n",
       "15          6\n",
       "39          5\n",
       "9.0         4\n",
       "15.0        4\n",
       "Name: count, dtype: int64"
      ]
     },
     "execution_count": 59,
     "metadata": {},
     "output_type": "execute_result"
    }
   ],
   "source": [
    "bd[bd[\"DEPARTMENT_NO\"] == 70].value_counts(\"MOU\")"
   ]
  },
  {
   "cell_type": "markdown",
   "metadata": {},
   "source": [
    "Precisa tratar essa coluna para que os valores sejam padronizados"
   ]
  },
  {
   "cell_type": "code",
   "execution_count": 60,
   "metadata": {},
   "outputs": [],
   "source": [
    "def convert(x):\n",
    "    try:\n",
    "        return int(x)\n",
    "    except:\n",
    "        return x\n",
    "tratement = bd[\"MOU\"]\n",
    "tratement = tratement.apply(convert)\n",
    "bd[\"MOU\"] = tratement"
   ]
  },
  {
   "cell_type": "code",
   "execution_count": 61,
   "metadata": {},
   "outputs": [
    {
     "data": {
      "text/plain": [
       "MOU_TITLE\n",
       "POLICE OFFICERS, LIEUTENANT AND BELOW    112374\n",
       "Name: count, dtype: int64"
      ]
     },
     "execution_count": 61,
     "metadata": {},
     "output_type": "execute_result"
    }
   ],
   "source": [
    "bd[bd[\"MOU\"] == 24].value_counts(\"MOU_TITLE\")"
   ]
  },
  {
   "cell_type": "markdown",
   "metadata": {},
   "source": [
    "### Tratamento coluna Ethnicity"
   ]
  },
  {
   "cell_type": "code",
   "execution_count": 62,
   "metadata": {},
   "outputs": [
    {
     "name": "stdout",
     "output_type": "stream",
     "text": [
      "['HISPANIC' 'ASIAN AMERICAN' 'BLACK' 'CAUCASIAN' 'FILIPINO'\n",
      " 'NOT APPLICABLE' 'AMERICAN INDIAN/ALASKAN NATIVE' 'ASIAN' 'OTHER'\n",
      " 'AMERICAN INDIAN' 'UNKNOWN' 'TWO OR MORE RACES' 'PACIFIC ISLANDER' nan\n",
      " 'FILLIPINO' 'NATIVE_AMERICAN']\n"
     ]
    }
   ],
   "source": [
    "ethnicians = bd[\"ETHNICITY\"].unique()\n",
    "print(ethnicians)"
   ]
  },
  {
   "cell_type": "code",
   "execution_count": 63,
   "metadata": {},
   "outputs": [
    {
     "data": {
      "text/plain": [
       "ETHNICITY\n",
       "HISPANIC                          263490\n",
       "CAUCASIAN                         180719\n",
       "BLACK                             112328\n",
       "ASIAN                              59126\n",
       "FILIPINO                           27834\n",
       "OTHER                              22167\n",
       "ASIAN AMERICAN                      8830\n",
       "FILLIPINO                           1630\n",
       "AMERICAN INDIAN                     1448\n",
       "NOT APPLICABLE                      1270\n",
       "UNKNOWN                             1009\n",
       "TWO OR MORE RACES                    715\n",
       "AMERICAN INDIAN/ALASKAN NATIVE       452\n",
       "NATIVE_AMERICAN                      187\n",
       "PACIFIC ISLANDER                      44\n",
       "Name: count, dtype: int64"
      ]
     },
     "execution_count": 63,
     "metadata": {},
     "output_type": "execute_result"
    }
   ],
   "source": [
    "bd[\"ETHNICITY\"].value_counts()"
   ]
  },
  {
   "cell_type": "code",
   "execution_count": 64,
   "metadata": {},
   "outputs": [
    {
     "name": "stdout",
     "output_type": "stream",
     "text": [
      "1         ASIAN AMERICAN\n",
      "11541     ASIAN AMERICAN\n",
      "237916             ASIAN\n",
      "246368             ASIAN\n",
      "257394             ASIAN\n",
      "394480    ASIAN AMERICAN\n",
      "589888    ASIAN AMERICAN\n",
      "Name: ETHNICITY, dtype: object\n",
      "3         ASIAN AMERICAN\n",
      "11543     ASIAN AMERICAN\n",
      "237918             ASIAN\n",
      "246370             ASIAN\n",
      "257396             ASIAN\n",
      "394482    ASIAN AMERICAN\n",
      "589890    ASIAN AMERICAN\n",
      "Name: ETHNICITY, dtype: object\n",
      "12         FILIPINO\n",
      "11552      FILIPINO\n",
      "237926    FILLIPINO\n",
      "246378    FILLIPINO\n",
      "257405    FILLIPINO\n",
      "Name: ETHNICITY, dtype: object\n",
      "18        ASIAN AMERICAN\n",
      "11557     ASIAN AMERICAN\n",
      "237930             ASIAN\n",
      "246382             ASIAN\n",
      "257409             ASIAN\n",
      "275845             ASIAN\n",
      "394495    ASIAN AMERICAN\n",
      "589903    ASIAN AMERICAN\n",
      "Name: ETHNICITY, dtype: object\n",
      "28        ASIAN AMERICAN\n",
      "11567     ASIAN AMERICAN\n",
      "237939             ASIAN\n",
      "246391             ASIAN\n",
      "257419             ASIAN\n",
      "275892             ASIAN\n",
      "394506    ASIAN AMERICAN\n",
      "589914    ASIAN AMERICAN\n",
      "Name: ETHNICITY, dtype: object\n",
      "40         FILIPINO\n",
      "11583      FILIPINO\n",
      "237950    FILLIPINO\n",
      "246404    FILLIPINO\n",
      "257434    FILLIPINO\n",
      "394519     FILIPINO\n",
      "589926     FILIPINO\n",
      "Name: ETHNICITY, dtype: object\n",
      "46        ASIAN AMERICAN\n",
      "11590     ASIAN AMERICAN\n",
      "61021              ASIAN\n",
      "275996             ASIAN\n",
      "394524    ASIAN AMERICAN\n",
      "589930    ASIAN AMERICAN\n",
      "Name: ETHNICITY, dtype: object\n",
      "50        ASIAN AMERICAN\n",
      "11594     ASIAN AMERICAN\n",
      "237958             ASIAN\n",
      "246412             ASIAN\n",
      "257443             ASIAN\n",
      "276016             ASIAN\n",
      "394527    ASIAN AMERICAN\n",
      "589933    ASIAN AMERICAN\n",
      "Name: ETHNICITY, dtype: object\n",
      "62        ASIAN AMERICAN\n",
      "11605     ASIAN AMERICAN\n",
      "61092              ASIAN\n",
      "317951    ASIAN AMERICAN\n",
      "319514    ASIAN AMERICAN\n",
      "320625    ASIAN AMERICAN\n",
      "394540    ASIAN AMERICAN\n",
      "Name: ETHNICITY, dtype: object\n",
      "69        CAUCASIAN\n",
      "11612     CAUCASIAN\n",
      "237974    CAUCASIAN\n",
      "246428    CAUCASIAN\n",
      "257460    CAUCASIAN\n",
      "276138     HISPANIC\n",
      "394550    CAUCASIAN\n",
      "589951    CAUCASIAN\n",
      "Name: ETHNICITY, dtype: object\n",
      "71        NOT APPLICABLE\n",
      "11614     NOT APPLICABLE\n",
      "61130              ASIAN\n",
      "257461             ASIAN\n",
      "276151             ASIAN\n",
      "394551    ASIAN AMERICAN\n",
      "589952    ASIAN AMERICAN\n",
      "Name: ETHNICITY, dtype: object\n",
      "75        ASIAN AMERICAN\n",
      "11618     ASIAN AMERICAN\n",
      "257464             ASIAN\n",
      "394555    ASIAN AMERICAN\n",
      "589955    ASIAN AMERICAN\n",
      "Name: ETHNICITY, dtype: object\n",
      "77        ASIAN AMERICAN\n",
      "11620     ASIAN AMERICAN\n",
      "237977             ASIAN\n",
      "246431             ASIAN\n",
      "257465             ASIAN\n",
      "394557    ASIAN AMERICAN\n",
      "406874    ASIAN AMERICAN\n",
      "589957    ASIAN AMERICAN\n",
      "Name: ETHNICITY, dtype: object\n",
      "79        ASIAN AMERICAN\n",
      "11622     ASIAN AMERICAN\n",
      "237979             ASIAN\n",
      "246433             ASIAN\n",
      "257467             ASIAN\n",
      "276193             ASIAN\n",
      "319533    ASIAN AMERICAN\n",
      "320630    ASIAN AMERICAN\n",
      "394559    ASIAN AMERICAN\n",
      "589958    ASIAN AMERICAN\n",
      "Name: ETHNICITY, dtype: object\n",
      "81        ASIAN AMERICAN\n",
      "11624     ASIAN AMERICAN\n",
      "237981             ASIAN\n",
      "246435             ASIAN\n",
      "257469             ASIAN\n",
      "394561    ASIAN AMERICAN\n",
      "589959    ASIAN AMERICAN\n",
      "Name: ETHNICITY, dtype: object\n",
      "83         FILIPINO\n",
      "11625      FILIPINO\n",
      "23653      FILIPINO\n",
      "237982    FILLIPINO\n",
      "246436    FILLIPINO\n",
      "257470    FILLIPINO\n",
      "319872     FILIPINO\n",
      "320631     FILIPINO\n",
      "394563     FILIPINO\n",
      "406875     FILIPINO\n",
      "589961     FILIPINO\n",
      "Name: ETHNICITY, dtype: object\n",
      "85         FILIPINO\n",
      "11626      FILIPINO\n",
      "237983    FILLIPINO\n",
      "246437    FILLIPINO\n",
      "257471    FILLIPINO\n",
      "320769     FILIPINO\n",
      "394564     FILIPINO\n",
      "Name: ETHNICITY, dtype: object\n",
      "99        ASIAN AMERICAN\n",
      "11639     ASIAN AMERICAN\n",
      "237994             ASIAN\n",
      "246448             ASIAN\n",
      "257483             ASIAN\n",
      "394579    ASIAN AMERICAN\n",
      "589974    ASIAN AMERICAN\n",
      "Name: ETHNICITY, dtype: object\n",
      "110        FILIPINO\n",
      "11649      FILIPINO\n",
      "238002    FILLIPINO\n",
      "246456    FILLIPINO\n",
      "257492    FILLIPINO\n",
      "319890     FILIPINO\n",
      "320781     FILIPINO\n",
      "394587     FILIPINO\n",
      "589981     FILIPINO\n",
      "Name: ETHNICITY, dtype: object\n",
      "117       AMERICAN INDIAN/ALASKAN NATIVE\n",
      "11655     AMERICAN INDIAN/ALASKAN NATIVE\n",
      "238007                   NATIVE_AMERICAN\n",
      "246461                   NATIVE_AMERICAN\n",
      "257497                   NATIVE_AMERICAN\n",
      "394594    AMERICAN INDIAN/ALASKAN NATIVE\n",
      "589989    AMERICAN INDIAN/ALASKAN NATIVE\n",
      "Name: ETHNICITY, dtype: object\n",
      "122       ASIAN AMERICAN\n",
      "11659     ASIAN AMERICAN\n",
      "246465             ASIAN\n",
      "257501             ASIAN\n",
      "394598    ASIAN AMERICAN\n",
      "589993    ASIAN AMERICAN\n",
      "Name: ETHNICITY, dtype: object\n",
      "131       FILIPINO\n",
      "23954        ASIAN\n",
      "321129    FILIPINO\n",
      "323066    FILIPINO\n",
      "394608    FILIPINO\n",
      "406878    FILIPINO\n",
      "590002    FILIPINO\n",
      "Name: ETHNICITY, dtype: object\n"
     ]
    },
    {
     "ename": "KeyboardInterrupt",
     "evalue": "",
     "output_type": "error",
     "traceback": [
      "\u001b[1;31m---------------------------------------------------------------------------\u001b[0m",
      "\u001b[1;31mKeyboardInterrupt\u001b[0m                         Traceback (most recent call last)",
      "Cell \u001b[1;32mIn[64], line 3\u001b[0m\n\u001b[0;32m      1\u001b[0m all_employees \u001b[38;5;241m=\u001b[39m \u001b[38;5;28mlist\u001b[39m(bd[\u001b[38;5;124m\"\u001b[39m\u001b[38;5;124mRECORD_NBR\u001b[39m\u001b[38;5;124m\"\u001b[39m]\u001b[38;5;241m.\u001b[39munique())\n\u001b[0;32m      2\u001b[0m \u001b[38;5;28;01mfor\u001b[39;00m employee \u001b[38;5;129;01min\u001b[39;00m all_employees:\n\u001b[1;32m----> 3\u001b[0m     modify_eth \u001b[38;5;241m=\u001b[39m bd[\u001b[43mbd\u001b[49m\u001b[43m[\u001b[49m\u001b[38;5;124;43m\"\u001b[39;49m\u001b[38;5;124;43mRECORD_NBR\u001b[39;49m\u001b[38;5;124;43m\"\u001b[39;49m\u001b[43m]\u001b[49m\u001b[43m \u001b[49m\u001b[38;5;241;43m==\u001b[39;49m\u001b[43m \u001b[49m\u001b[43memployee\u001b[49m]\n\u001b[0;32m      4\u001b[0m     eth \u001b[38;5;241m=\u001b[39m modify_eth[\u001b[38;5;124m\"\u001b[39m\u001b[38;5;124mETHNICITY\u001b[39m\u001b[38;5;124m\"\u001b[39m]\u001b[38;5;241m.\u001b[39mnunique()\n\u001b[0;32m      5\u001b[0m     \u001b[38;5;28;01mif\u001b[39;00m eth \u001b[38;5;241m!=\u001b[39m \u001b[38;5;241m1\u001b[39m:\n",
      "File \u001b[1;32md:\\Projetos\\case dadosfera\\.venv\\Lib\\site-packages\\pandas\\core\\ops\\common.py:76\u001b[0m, in \u001b[0;36m_unpack_zerodim_and_defer.<locals>.new_method\u001b[1;34m(self, other)\u001b[0m\n\u001b[0;32m     72\u001b[0m             \u001b[38;5;28;01mreturn\u001b[39;00m \u001b[38;5;28mNotImplemented\u001b[39m\n\u001b[0;32m     74\u001b[0m other \u001b[38;5;241m=\u001b[39m item_from_zerodim(other)\n\u001b[1;32m---> 76\u001b[0m \u001b[38;5;28;01mreturn\u001b[39;00m \u001b[43mmethod\u001b[49m\u001b[43m(\u001b[49m\u001b[38;5;28;43mself\u001b[39;49m\u001b[43m,\u001b[49m\u001b[43m \u001b[49m\u001b[43mother\u001b[49m\u001b[43m)\u001b[49m\n",
      "File \u001b[1;32md:\\Projetos\\case dadosfera\\.venv\\Lib\\site-packages\\pandas\\core\\arraylike.py:40\u001b[0m, in \u001b[0;36mOpsMixin.__eq__\u001b[1;34m(self, other)\u001b[0m\n\u001b[0;32m     38\u001b[0m \u001b[38;5;129m@unpack_zerodim_and_defer\u001b[39m(\u001b[38;5;124m\"\u001b[39m\u001b[38;5;124m__eq__\u001b[39m\u001b[38;5;124m\"\u001b[39m)\n\u001b[0;32m     39\u001b[0m \u001b[38;5;28;01mdef\u001b[39;00m \u001b[38;5;21m__eq__\u001b[39m(\u001b[38;5;28mself\u001b[39m, other):\n\u001b[1;32m---> 40\u001b[0m     \u001b[38;5;28;01mreturn\u001b[39;00m \u001b[38;5;28;43mself\u001b[39;49m\u001b[38;5;241;43m.\u001b[39;49m\u001b[43m_cmp_method\u001b[49m\u001b[43m(\u001b[49m\u001b[43mother\u001b[49m\u001b[43m,\u001b[49m\u001b[43m \u001b[49m\u001b[43moperator\u001b[49m\u001b[38;5;241;43m.\u001b[39;49m\u001b[43meq\u001b[49m\u001b[43m)\u001b[49m\n",
      "File \u001b[1;32md:\\Projetos\\case dadosfera\\.venv\\Lib\\site-packages\\pandas\\core\\series.py:6119\u001b[0m, in \u001b[0;36mSeries._cmp_method\u001b[1;34m(self, other, op)\u001b[0m\n\u001b[0;32m   6116\u001b[0m lvalues \u001b[38;5;241m=\u001b[39m \u001b[38;5;28mself\u001b[39m\u001b[38;5;241m.\u001b[39m_values\n\u001b[0;32m   6117\u001b[0m rvalues \u001b[38;5;241m=\u001b[39m extract_array(other, extract_numpy\u001b[38;5;241m=\u001b[39m\u001b[38;5;28;01mTrue\u001b[39;00m, extract_range\u001b[38;5;241m=\u001b[39m\u001b[38;5;28;01mTrue\u001b[39;00m)\n\u001b[1;32m-> 6119\u001b[0m res_values \u001b[38;5;241m=\u001b[39m \u001b[43mops\u001b[49m\u001b[38;5;241;43m.\u001b[39;49m\u001b[43mcomparison_op\u001b[49m\u001b[43m(\u001b[49m\u001b[43mlvalues\u001b[49m\u001b[43m,\u001b[49m\u001b[43m \u001b[49m\u001b[43mrvalues\u001b[49m\u001b[43m,\u001b[49m\u001b[43m \u001b[49m\u001b[43mop\u001b[49m\u001b[43m)\u001b[49m\n\u001b[0;32m   6121\u001b[0m \u001b[38;5;28;01mreturn\u001b[39;00m \u001b[38;5;28mself\u001b[39m\u001b[38;5;241m.\u001b[39m_construct_result(res_values, name\u001b[38;5;241m=\u001b[39mres_name)\n",
      "File \u001b[1;32md:\\Projetos\\case dadosfera\\.venv\\Lib\\site-packages\\pandas\\core\\ops\\array_ops.py:344\u001b[0m, in \u001b[0;36mcomparison_op\u001b[1;34m(left, right, op)\u001b[0m\n\u001b[0;32m    341\u001b[0m     \u001b[38;5;28;01mreturn\u001b[39;00m invalid_comparison(lvalues, rvalues, op)\n\u001b[0;32m    343\u001b[0m \u001b[38;5;28;01melif\u001b[39;00m lvalues\u001b[38;5;241m.\u001b[39mdtype \u001b[38;5;241m==\u001b[39m \u001b[38;5;28mobject\u001b[39m \u001b[38;5;129;01mor\u001b[39;00m \u001b[38;5;28misinstance\u001b[39m(rvalues, \u001b[38;5;28mstr\u001b[39m):\n\u001b[1;32m--> 344\u001b[0m     res_values \u001b[38;5;241m=\u001b[39m \u001b[43mcomp_method_OBJECT_ARRAY\u001b[49m\u001b[43m(\u001b[49m\u001b[43mop\u001b[49m\u001b[43m,\u001b[49m\u001b[43m \u001b[49m\u001b[43mlvalues\u001b[49m\u001b[43m,\u001b[49m\u001b[43m \u001b[49m\u001b[43mrvalues\u001b[49m\u001b[43m)\u001b[49m\n\u001b[0;32m    346\u001b[0m \u001b[38;5;28;01melse\u001b[39;00m:\n\u001b[0;32m    347\u001b[0m     res_values \u001b[38;5;241m=\u001b[39m _na_arithmetic_op(lvalues, rvalues, op, is_cmp\u001b[38;5;241m=\u001b[39m\u001b[38;5;28;01mTrue\u001b[39;00m)\n",
      "File \u001b[1;32md:\\Projetos\\case dadosfera\\.venv\\Lib\\site-packages\\pandas\\core\\ops\\array_ops.py:130\u001b[0m, in \u001b[0;36mcomp_method_OBJECT_ARRAY\u001b[1;34m(op, x, y)\u001b[0m\n\u001b[0;32m    128\u001b[0m \u001b[38;5;28;01melse\u001b[39;00m:\n\u001b[0;32m    129\u001b[0m     result \u001b[38;5;241m=\u001b[39m libops\u001b[38;5;241m.\u001b[39mscalar_compare(x\u001b[38;5;241m.\u001b[39mravel(), y, op)\n\u001b[1;32m--> 130\u001b[0m \u001b[38;5;28;01mreturn\u001b[39;00m \u001b[43mresult\u001b[49m\u001b[38;5;241;43m.\u001b[39;49m\u001b[43mreshape\u001b[49m\u001b[43m(\u001b[49m\u001b[43mx\u001b[49m\u001b[38;5;241;43m.\u001b[39;49m\u001b[43mshape\u001b[49m\u001b[43m)\u001b[49m\n",
      "\u001b[1;31mKeyboardInterrupt\u001b[0m: "
     ]
    }
   ],
   "source": [
    "all_employees = list(bd[\"RECORD_NBR\"].unique())\n",
    "for employee in all_employees:\n",
    "    modify_eth = bd[bd[\"RECORD_NBR\"] == employee]\n",
    "    eth = modify_eth[\"ETHNICITY\"].nunique()\n",
    "    if eth != 1:\n",
    "            print(modify_eth[\"ETHNICITY\"])"
   ]
  },
  {
   "cell_type": "markdown",
   "metadata": {},
   "source": []
  },
  {
   "cell_type": "code",
   "execution_count": null,
   "metadata": {},
   "outputs": [],
   "source": []
  },
  {
   "cell_type": "code",
   "execution_count": null,
   "metadata": {},
   "outputs": [],
   "source": [
    "departments_free = list(payments_departments[payments_departments[\"TOTAL_PAY\"] <= 100][\"DEPARTMENT_NO\"])\n",
    "for department in departments_free:\n",
    "    listas = bd[bd[\"DEPARTMENT_NO\"] == department]\n",
    "    print(listas)"
   ]
  }
 ],
 "metadata": {
  "kernelspec": {
   "display_name": ".venv",
   "language": "python",
   "name": "python3"
  },
  "language_info": {
   "codemirror_mode": {
    "name": "ipython",
    "version": 3
   },
   "file_extension": ".py",
   "mimetype": "text/x-python",
   "name": "python",
   "nbconvert_exporter": "python",
   "pygments_lexer": "ipython3",
   "version": "3.12.0"
  }
 },
 "nbformat": 4,
 "nbformat_minor": 2
}
