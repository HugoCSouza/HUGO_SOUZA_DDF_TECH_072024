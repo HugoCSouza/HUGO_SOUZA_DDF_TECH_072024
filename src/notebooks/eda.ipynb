{
 "cells": [
  {
   "cell_type": "markdown",
   "metadata": {},
   "source": [
    "# Importações de bibliotecas"
   ]
  },
  {
   "cell_type": "code",
   "execution_count": 1,
   "metadata": {},
   "outputs": [],
   "source": [
    "import great_expectations as gx\n",
    "import pandas as pd\n",
    "import numpy as np"
   ]
  },
  {
   "cell_type": "markdown",
   "metadata": {},
   "source": [
    "# Importação de arquivos"
   ]
  },
  {
   "cell_type": "code",
   "execution_count": 2,
   "metadata": {},
   "outputs": [],
   "source": [
    "bd = pd.read_csv('../dataset/payroll/payroll.csv')"
   ]
  },
  {
   "cell_type": "markdown",
   "metadata": {},
   "source": [
    "# EDA"
   ]
  },
  {
   "cell_type": "markdown",
   "metadata": {},
   "source": [
    "## Verificação de colunas nulas"
   ]
  },
  {
   "cell_type": "code",
   "execution_count": 3,
   "metadata": {},
   "outputs": [
    {
     "name": "stdout",
     "output_type": "stream",
     "text": [
      "<class 'pandas.core.frame.DataFrame'>\n",
      "RangeIndex: 685461 entries, 0 to 685460\n",
      "Data columns (total 18 columns):\n",
      " #   Column                         Non-Null Count   Dtype  \n",
      "---  ------                         --------------   -----  \n",
      " 0   RECORD_NBR                     685461 non-null  object \n",
      " 1   PAY_YEAR                       685461 non-null  int64  \n",
      " 2   DEPARTMENT_NO                  685461 non-null  int64  \n",
      " 3   DEPARTMENT_TITLE               685461 non-null  object \n",
      " 4   JOB_CLASS_PGRADE               684919 non-null  object \n",
      " 5   JOB_TITLE                      684919 non-null  object \n",
      " 6   EMPLOYMENT_TYPE                685461 non-null  object \n",
      " 7   JOB_STATUS                     685461 non-null  object \n",
      " 8   MOU                            684777 non-null  object \n",
      " 9   MOU_TITLE                      684712 non-null  object \n",
      " 10  REGULAR_PAY                    685461 non-null  float64\n",
      " 11  OVERTIME_PAY                   685027 non-null  float64\n",
      " 12  ALL_OTHER_PAY                  685027 non-null  float64\n",
      " 13  TOTAL_PAY                      685461 non-null  float64\n",
      " 14  CITY_RETIREMENT_CONTRIBUTIONS  685461 non-null  float64\n",
      " 15  BENEFIT_PAY                    685461 non-null  float64\n",
      " 16  GENDER                         681600 non-null  object \n",
      " 17  ETHNICITY                      681249 non-null  object \n",
      "dtypes: float64(6), int64(2), object(10)\n",
      "memory usage: 94.1+ MB\n"
     ]
    }
   ],
   "source": [
    "bd.info()"
   ]
  },
  {
   "cell_type": "code",
   "execution_count": 4,
   "metadata": {},
   "outputs": [
    {
     "data": {
      "text/plain": [
       "RECORD_NBR                          0\n",
       "PAY_YEAR                            0\n",
       "DEPARTMENT_NO                       0\n",
       "DEPARTMENT_TITLE                    0\n",
       "JOB_CLASS_PGRADE                  542\n",
       "JOB_TITLE                         542\n",
       "EMPLOYMENT_TYPE                     0\n",
       "JOB_STATUS                          0\n",
       "MOU                               684\n",
       "MOU_TITLE                         749\n",
       "REGULAR_PAY                         0\n",
       "OVERTIME_PAY                      434\n",
       "ALL_OTHER_PAY                     434\n",
       "TOTAL_PAY                           0\n",
       "CITY_RETIREMENT_CONTRIBUTIONS       0\n",
       "BENEFIT_PAY                         0\n",
       "GENDER                           3861\n",
       "ETHNICITY                        4212\n",
       "dtype: int64"
      ]
     },
     "execution_count": 4,
     "metadata": {},
     "output_type": "execute_result"
    }
   ],
   "source": [
    "bd.isna().sum()"
   ]
  },
  {
   "cell_type": "markdown",
   "metadata": {},
   "source": [
    "## Análise das colunas nulas"
   ]
  },
  {
   "cell_type": "markdown",
   "metadata": {},
   "source": [
    "## Coluna \"JOB_CLASS_PGRADE\""
   ]
  },
  {
   "cell_type": "code",
   "execution_count": 5,
   "metadata": {},
   "outputs": [
    {
     "data": {
      "text/plain": [
       "EMPLOYMENT_TYPE\n",
       "PER_EVENT    542\n",
       "Name: count, dtype: int64"
      ]
     },
     "execution_count": 5,
     "metadata": {},
     "output_type": "execute_result"
    }
   ],
   "source": [
    "job_class_nulas = bd[bd['JOB_CLASS_PGRADE'].isna()]\n",
    "job_class_nulas['EMPLOYMENT_TYPE'].value_counts()"
   ]
  },
  {
   "cell_type": "markdown",
   "metadata": {},
   "source": [
    "Vemos que a informação que estão nulas na coluna de nivel de cargo são apenas referentes aos cargos contratados por evento. Ou seja, nos cargos referentes a contratado por um tempo"
   ]
  },
  {
   "cell_type": "markdown",
   "metadata": {},
   "source": [
    "## Coluna \"JOB_TITLE\""
   ]
  },
  {
   "cell_type": "code",
   "execution_count": 6,
   "metadata": {},
   "outputs": [
    {
     "data": {
      "text/plain": [
       "EMPLOYMENT_TYPE\n",
       "PER_EVENT    542\n",
       "Name: count, dtype: int64"
      ]
     },
     "execution_count": 6,
     "metadata": {},
     "output_type": "execute_result"
    }
   ],
   "source": [
    "job_title_nulas = bd[bd['JOB_TITLE'].isna()]\n",
    "job_title_nulas['EMPLOYMENT_TYPE'].value_counts()"
   ]
  },
  {
   "cell_type": "markdown",
   "metadata": {},
   "source": [
    "Esssa coluna do nome do cargo sofre do mesmo problema da \"JOB_CLASS_PGRADE\", sendo o titulo do cargo (provavelmente o nome de carreira do cargo, ex: analista I,II,III) inexistente apenas nos registros de trabalhadores contratados por evento, ou seja, durante um tempo determinado."
   ]
  },
  {
   "cell_type": "markdown",
   "metadata": {},
   "source": [
    "## Coluna \"MOU\""
   ]
  },
  {
   "cell_type": "code",
   "execution_count": 7,
   "metadata": {},
   "outputs": [
    {
     "data": {
      "text/plain": [
       "EMPLOYMENT_TYPE\n",
       "PER_EVENT    542\n",
       "FULL_TIME    141\n",
       "PART_TIME      1\n",
       "Name: count, dtype: int64"
      ]
     },
     "execution_count": 7,
     "metadata": {},
     "output_type": "execute_result"
    }
   ],
   "source": [
    "mou_nulas = bd[bd['MOU'].isna()]\n",
    "mou_nulas['EMPLOYMENT_TYPE'].value_counts()"
   ]
  },
  {
   "cell_type": "code",
   "execution_count": 14,
   "metadata": {},
   "outputs": [
    {
     "data": {
      "text/plain": [
       "DEPARTMENT_NO\n",
       "98    141\n",
       "Name: count, dtype: int64"
      ]
     },
     "execution_count": 14,
     "metadata": {},
     "output_type": "execute_result"
    }
   ],
   "source": [
    "mou_nulas_full = mou_nulas[mou_nulas[\"EMPLOYMENT_TYPE\"] == \"FULL_TIME\"]\n",
    "mou_nulas_full[\"DEPARTMENT_NO\"].value_counts()"
   ]
  },
  {
   "cell_type": "code",
   "execution_count": 16,
   "metadata": {},
   "outputs": [
    {
     "data": {
      "text/html": [
       "<div>\n",
       "<style scoped>\n",
       "    .dataframe tbody tr th:only-of-type {\n",
       "        vertical-align: middle;\n",
       "    }\n",
       "\n",
       "    .dataframe tbody tr th {\n",
       "        vertical-align: top;\n",
       "    }\n",
       "\n",
       "    .dataframe thead th {\n",
       "        text-align: right;\n",
       "    }\n",
       "</style>\n",
       "<table border=\"1\" class=\"dataframe\">\n",
       "  <thead>\n",
       "    <tr style=\"text-align: right;\">\n",
       "      <th></th>\n",
       "      <th>RECORD_NBR</th>\n",
       "      <th>PAY_YEAR</th>\n",
       "      <th>DEPARTMENT_NO</th>\n",
       "      <th>DEPARTMENT_TITLE</th>\n",
       "      <th>JOB_CLASS_PGRADE</th>\n",
       "      <th>JOB_TITLE</th>\n",
       "      <th>EMPLOYMENT_TYPE</th>\n",
       "      <th>JOB_STATUS</th>\n",
       "      <th>MOU</th>\n",
       "      <th>MOU_TITLE</th>\n",
       "      <th>REGULAR_PAY</th>\n",
       "      <th>OVERTIME_PAY</th>\n",
       "      <th>ALL_OTHER_PAY</th>\n",
       "      <th>TOTAL_PAY</th>\n",
       "      <th>CITY_RETIREMENT_CONTRIBUTIONS</th>\n",
       "      <th>BENEFIT_PAY</th>\n",
       "      <th>GENDER</th>\n",
       "      <th>ETHNICITY</th>\n",
       "    </tr>\n",
       "  </thead>\n",
       "  <tbody>\n",
       "    <tr>\n",
       "      <th>248344</th>\n",
       "      <td>X956177629</td>\n",
       "      <td>2013</td>\n",
       "      <td>98</td>\n",
       "      <td>WATER AND POWER</td>\n",
       "      <td>1535</td>\n",
       "      <td>ADMINISTRATIVE INTERN</td>\n",
       "      <td>PART_TIME</td>\n",
       "      <td>NOT_ACTIVE</td>\n",
       "      <td>NaN</td>\n",
       "      <td>NaN</td>\n",
       "      <td>11452.45</td>\n",
       "      <td>NaN</td>\n",
       "      <td>NaN</td>\n",
       "      <td>11452.45</td>\n",
       "      <td>0.0</td>\n",
       "      <td>0.0</td>\n",
       "      <td>NaN</td>\n",
       "      <td>NaN</td>\n",
       "    </tr>\n",
       "  </tbody>\n",
       "</table>\n",
       "</div>"
      ],
      "text/plain": [
       "        RECORD_NBR  PAY_YEAR  DEPARTMENT_NO DEPARTMENT_TITLE JOB_CLASS_PGRADE  \\\n",
       "248344  X956177629      2013             98  WATER AND POWER             1535   \n",
       "\n",
       "                    JOB_TITLE EMPLOYMENT_TYPE  JOB_STATUS  MOU MOU_TITLE  \\\n",
       "248344  ADMINISTRATIVE INTERN       PART_TIME  NOT_ACTIVE  NaN       NaN   \n",
       "\n",
       "        REGULAR_PAY  OVERTIME_PAY  ALL_OTHER_PAY  TOTAL_PAY  \\\n",
       "248344     11452.45           NaN            NaN   11452.45   \n",
       "\n",
       "        CITY_RETIREMENT_CONTRIBUTIONS  BENEFIT_PAY GENDER ETHNICITY  \n",
       "248344                            0.0          0.0    NaN       NaN  "
      ]
     },
     "execution_count": 16,
     "metadata": {},
     "output_type": "execute_result"
    }
   ],
   "source": [
    "mou_nulas_part = mou_nulas[mou_nulas[\"EMPLOYMENT_TYPE\"] == \"PART_TIME\"]\n",
    "mou_nulas_part"
   ]
  },
  {
   "cell_type": "code",
   "execution_count": 28,
   "metadata": {},
   "outputs": [
    {
     "data": {
      "text/plain": [
       "PAY_YEAR\n",
       "2013    67\n",
       "2014    40\n",
       "2015    35\n",
       "Name: count, dtype: int64"
      ]
     },
     "execution_count": 28,
     "metadata": {},
     "output_type": "execute_result"
    }
   ],
   "source": [
    "both_type = (mou_nulas[\"EMPLOYMENT_TYPE\"] == \"FULL_TIME\") | (mou_nulas[\"EMPLOYMENT_TYPE\"] == \"PART_TIME\")\n",
    "\n",
    "mou_nulas_both = mou_nulas[both_type]\n",
    "mou_nulas_both[\"PAY_YEAR\"].value_counts()"
   ]
  },
  {
   "cell_type": "code",
   "execution_count": 35,
   "metadata": {},
   "outputs": [
    {
     "data": {
      "text/plain": [
       "0"
      ]
     },
     "execution_count": 35,
     "metadata": {},
     "output_type": "execute_result"
    }
   ],
   "source": [
    "bd_more_2015 = bd[(bd[\"PAY_YEAR\"] > 2015) & (bd[\"DEPARTMENT_NO\"] == 98)]\n",
    "bd_more_2015[\"MOU\"].isna().sum()"
   ]
  },
  {
   "cell_type": "markdown",
   "metadata": {},
   "source": [
    "Há algumas análises a entender para o MOU. Como já explicado, MOU é uma espécie de acordo trabalhista entre as partes. Em relações temporárias, este acordo trabalhista pode não existir sendo que pode ser uma prestação de serviço sendo de pessoa juridica para pessoa juridica, o que bastante comum. Em todos os outros casos, a inexistencia do MOU se concentra no departamento 98 entre os anos de 2013 á 2015. Podemos pressupor que durante este tempo, houve uma movimentação dos trabalhadores deste departamento para se criar uma convenção de como seriam regidos os contratos de trabalho dos trabalhadores daquela área. Ou mesmo, pode ser um movimento da prefeitura em formalizar este acordo."
   ]
  },
  {
   "cell_type": "markdown",
   "metadata": {},
   "source": [
    "## Coluna \"MOU_TITLE\""
   ]
  },
  {
   "cell_type": "code",
   "execution_count": 39,
   "metadata": {},
   "outputs": [
    {
     "data": {
      "text/plain": [
       "EMPLOYMENT_TYPE\n",
       "PER_EVENT    542\n",
       "FULL_TIME    206\n",
       "PART_TIME      1\n",
       "Name: count, dtype: int64"
      ]
     },
     "execution_count": 39,
     "metadata": {},
     "output_type": "execute_result"
    }
   ],
   "source": [
    "mou_title_nulas = bd[bd['MOU_TITLE'].isna()]\n",
    "mou_title_nulas['EMPLOYMENT_TYPE'].value_counts()"
   ]
  },
  {
   "cell_type": "code",
   "execution_count": 57,
   "metadata": {},
   "outputs": [
    {
     "data": {
      "text/plain": [
       "65"
      ]
     },
     "execution_count": 57,
     "metadata": {},
     "output_type": "execute_result"
    }
   ],
   "source": [
    "not_dep_98 = (mou_title_nulas['DEPARTMENT_NO'] == 98) | (mou_title_nulas['EMPLOYMENT_TYPE'] == \"PER_EVENT\")\n",
    "mou_title_filtered = mou_title_nulas[~not_dep_98]\n",
    "\n",
    "mou_title_filtered[~not_dep_98].shape[0]"
   ]
  },
  {
   "cell_type": "code",
   "execution_count": 56,
   "metadata": {},
   "outputs": [
    {
     "data": {
      "text/plain": [
       "MOU\n",
       "65.0    45\n",
       "65      20\n",
       "Name: count, dtype: int64"
      ]
     },
     "execution_count": 56,
     "metadata": {},
     "output_type": "execute_result"
    }
   ],
   "source": [
    "mou_title_filtered['MOU'].value_counts()"
   ]
  },
  {
   "cell_type": "markdown",
   "metadata": {},
   "source": [
    "Retirando todos os registros em que o MOU não existe, os quais já discutimos no tópico anterior, é possível verificar que o MOU que não possue título é do mesmo MOU (65). Isso não causa inconsistência nos dados, visto que a ausência ou presenca afeterá todos os registro similares."
   ]
  },
  {
   "cell_type": "markdown",
   "metadata": {},
   "source": [
    "## Coluna \"OVERTIME_PAY\""
   ]
  },
  {
   "cell_type": "code",
   "execution_count": 58,
   "metadata": {},
   "outputs": [
    {
     "data": {
      "text/plain": [
       "EMPLOYMENT_TYPE\n",
       "PART_TIME    434\n",
       "Name: count, dtype: int64"
      ]
     },
     "execution_count": 58,
     "metadata": {},
     "output_type": "execute_result"
    }
   ],
   "source": [
    "over_pay_nulas = bd[bd['OVERTIME_PAY'].isna()]\n",
    "over_pay_nulas['EMPLOYMENT_TYPE'].value_counts()"
   ]
  },
  {
   "cell_type": "code",
   "execution_count": 60,
   "metadata": {},
   "outputs": [
    {
     "data": {
      "text/plain": [
       "DEPARTMENT_NO\n",
       "98    434\n",
       "Name: count, dtype: int64"
      ]
     },
     "execution_count": 60,
     "metadata": {},
     "output_type": "execute_result"
    }
   ],
   "source": [
    "over_pay_nulas[\"DEPARTMENT_NO\"].value_counts()"
   ]
  },
  {
   "cell_type": "code",
   "execution_count": 61,
   "metadata": {},
   "outputs": [
    {
     "data": {
      "text/plain": [
       "PAY_YEAR\n",
       "2015    158\n",
       "2014    154\n",
       "2013    122\n",
       "Name: count, dtype: int64"
      ]
     },
     "execution_count": 61,
     "metadata": {},
     "output_type": "execute_result"
    }
   ],
   "source": [
    "over_pay_nulas[\"PAY_YEAR\"].value_counts()"
   ]
  },
  {
   "cell_type": "markdown",
   "metadata": {},
   "source": [
    "A análise desta coluna se complementa as outras já analisadas. Partindo do pressuposto inferido nas análise das colunas \"MOU\" e \"MOU_TITLE\", é possivel enxergar que todos os pagamentos sobre horas extras encaem sobre os trabalhadores meio periodo que trabalhavam no departamento que durante o periodo que não possue registros de uma regulamentação trabalhista. Sendo assim, é possivel pressupor que não se existia pagamento de horas extras para trabalhadores meio periodo justamente pela ausência de regulamentação. Essa hipóteses carece de validação factual. "
   ]
  },
  {
   "cell_type": "markdown",
   "metadata": {},
   "source": [
    "## Coluna \"ALL_OTHER_PAY\""
   ]
  },
  {
   "cell_type": "code",
   "execution_count": 62,
   "metadata": {},
   "outputs": [
    {
     "data": {
      "text/plain": [
       "EMPLOYMENT_TYPE\n",
       "PART_TIME    434\n",
       "Name: count, dtype: int64"
      ]
     },
     "execution_count": 62,
     "metadata": {},
     "output_type": "execute_result"
    }
   ],
   "source": [
    "other_pay_nulas = bd[bd['ALL_OTHER_PAY'].isna()]\n",
    "other_pay_nulas['EMPLOYMENT_TYPE'].value_counts()"
   ]
  },
  {
   "cell_type": "code",
   "execution_count": 63,
   "metadata": {},
   "outputs": [
    {
     "data": {
      "text/plain": [
       "DEPARTMENT_NO\n",
       "98    434\n",
       "Name: count, dtype: int64"
      ]
     },
     "execution_count": 63,
     "metadata": {},
     "output_type": "execute_result"
    }
   ],
   "source": [
    "other_pay_nulas[\"DEPARTMENT_NO\"].value_counts()"
   ]
  },
  {
   "cell_type": "code",
   "execution_count": 64,
   "metadata": {},
   "outputs": [
    {
     "data": {
      "text/plain": [
       "PAY_YEAR\n",
       "2015    158\n",
       "2014    154\n",
       "2013    122\n",
       "Name: count, dtype: int64"
      ]
     },
     "execution_count": 64,
     "metadata": {},
     "output_type": "execute_result"
    }
   ],
   "source": [
    "other_pay_nulas[\"PAY_YEAR\"].value_counts()"
   ]
  },
  {
   "cell_type": "code",
   "execution_count": 65,
   "metadata": {},
   "outputs": [
    {
     "data": {
      "text/plain": [
       "434"
      ]
     },
     "execution_count": 65,
     "metadata": {},
     "output_type": "execute_result"
    }
   ],
   "source": [
    "both_pay = (bd['ALL_OTHER_PAY'].isna() |  bd['ALL_OTHER_PAY'].isna())\n",
    "bd[both_pay].shape[0]"
   ]
  },
  {
   "cell_type": "markdown",
   "metadata": {},
   "source": [
    "Esta analise complementa a anterior, verificando que, para os trabalhadores meio periodo do departamento 98, antes de se regulamentar a MOU, não era feito nenhum pagamento adicional. Todos os funcionarios que carecem de informações sobre pagamentos adicionais (possuem valores das colunas) são os mesmos quando se realiza uma mascara booleana."
   ]
  },
  {
   "cell_type": "markdown",
   "metadata": {},
   "source": [
    "## Coluna \"GENDER\""
   ]
  },
  {
   "cell_type": "code",
   "execution_count": 67,
   "metadata": {},
   "outputs": [
    {
     "data": {
      "text/plain": [
       "PAY_YEAR\n",
       "2013    1679\n",
       "2014    1383\n",
       "2015     798\n",
       "2016       1\n",
       "Name: count, dtype: int64"
      ]
     },
     "execution_count": 67,
     "metadata": {},
     "output_type": "execute_result"
    }
   ],
   "source": [
    "gender_nulas = bd[bd['GENDER'].isna()]\n",
    "gender_nulas['PAY_YEAR'].value_counts()"
   ]
  },
  {
   "cell_type": "code",
   "execution_count": 74,
   "metadata": {},
   "outputs": [
    {
     "data": {
      "text/plain": [
       "DEPARTMENT_NO\n",
       "98    3857\n",
       "17       4\n",
       "Name: count, dtype: int64"
      ]
     },
     "execution_count": 74,
     "metadata": {},
     "output_type": "execute_result"
    }
   ],
   "source": [
    "gender_nulas[\"DEPARTMENT_NO\"].value_counts()"
   ]
  },
  {
   "cell_type": "code",
   "execution_count": 100,
   "metadata": {},
   "outputs": [
    {
     "data": {
      "text/html": [
       "<div>\n",
       "<style scoped>\n",
       "    .dataframe tbody tr th:only-of-type {\n",
       "        vertical-align: middle;\n",
       "    }\n",
       "\n",
       "    .dataframe tbody tr th {\n",
       "        vertical-align: top;\n",
       "    }\n",
       "\n",
       "    .dataframe thead th {\n",
       "        text-align: right;\n",
       "    }\n",
       "</style>\n",
       "<table border=\"1\" class=\"dataframe\">\n",
       "  <thead>\n",
       "    <tr style=\"text-align: right;\">\n",
       "      <th></th>\n",
       "      <th>RECORD_NBR</th>\n",
       "      <th>PAY_YEAR</th>\n",
       "      <th>DEPARTMENT_NO</th>\n",
       "      <th>DEPARTMENT_TITLE</th>\n",
       "      <th>JOB_CLASS_PGRADE</th>\n",
       "      <th>JOB_TITLE</th>\n",
       "      <th>EMPLOYMENT_TYPE</th>\n",
       "      <th>JOB_STATUS</th>\n",
       "      <th>MOU</th>\n",
       "      <th>MOU_TITLE</th>\n",
       "      <th>REGULAR_PAY</th>\n",
       "      <th>OVERTIME_PAY</th>\n",
       "      <th>ALL_OTHER_PAY</th>\n",
       "      <th>TOTAL_PAY</th>\n",
       "      <th>CITY_RETIREMENT_CONTRIBUTIONS</th>\n",
       "      <th>BENEFIT_PAY</th>\n",
       "      <th>GENDER</th>\n",
       "      <th>ETHNICITY</th>\n",
       "    </tr>\n",
       "  </thead>\n",
       "  <tbody>\n",
       "    <tr>\n",
       "      <th>63196</th>\n",
       "      <td>303435303832</td>\n",
       "      <td>2013</td>\n",
       "      <td>17</td>\n",
       "      <td>CITY ETHICS COMMISSION</td>\n",
       "      <td>0015-0</td>\n",
       "      <td>ETHICS OFFICER I</td>\n",
       "      <td>FULL_TIME</td>\n",
       "      <td>NOT_ACTIVE</td>\n",
       "      <td>36</td>\n",
       "      <td>MANAGEMENT EMPLOYEES</td>\n",
       "      <td>102954.00</td>\n",
       "      <td>0.00</td>\n",
       "      <td>40.00</td>\n",
       "      <td>102994.00</td>\n",
       "      <td>30536.16</td>\n",
       "      <td>7925.00</td>\n",
       "      <td>NaN</td>\n",
       "      <td>NaN</td>\n",
       "    </tr>\n",
       "    <tr>\n",
       "      <th>116901</th>\n",
       "      <td>303435303832</td>\n",
       "      <td>2014</td>\n",
       "      <td>17</td>\n",
       "      <td>CITY ETHICS COMMISSION</td>\n",
       "      <td>0015-0</td>\n",
       "      <td>ETHICS OFFICER I</td>\n",
       "      <td>FULL_TIME</td>\n",
       "      <td>NOT_ACTIVE</td>\n",
       "      <td>36</td>\n",
       "      <td>MANAGEMENT EMPLOYEES</td>\n",
       "      <td>106998.57</td>\n",
       "      <td>0.00</td>\n",
       "      <td>2047.22</td>\n",
       "      <td>109045.79</td>\n",
       "      <td>31735.78</td>\n",
       "      <td>8429.76</td>\n",
       "      <td>NaN</td>\n",
       "      <td>NaN</td>\n",
       "    </tr>\n",
       "    <tr>\n",
       "      <th>170647</th>\n",
       "      <td>303435303832</td>\n",
       "      <td>2015</td>\n",
       "      <td>17</td>\n",
       "      <td>CITY ETHICS COMMISSION</td>\n",
       "      <td>0015-0</td>\n",
       "      <td>ETHICS OFFICER I</td>\n",
       "      <td>FULL_TIME</td>\n",
       "      <td>NOT_ACTIVE</td>\n",
       "      <td>36</td>\n",
       "      <td>MANAGEMENT EMPLOYEES</td>\n",
       "      <td>110868.28</td>\n",
       "      <td>0.00</td>\n",
       "      <td>447.48</td>\n",
       "      <td>111315.76</td>\n",
       "      <td>32883.53</td>\n",
       "      <td>9191.76</td>\n",
       "      <td>NaN</td>\n",
       "      <td>NaN</td>\n",
       "    </tr>\n",
       "    <tr>\n",
       "      <th>475052</th>\n",
       "      <td>303435303832</td>\n",
       "      <td>2016</td>\n",
       "      <td>17</td>\n",
       "      <td>CITY ETHICS COMMISSION</td>\n",
       "      <td>0015-0</td>\n",
       "      <td>ETHICS OFFICER I</td>\n",
       "      <td>FULL_TIME</td>\n",
       "      <td>NOT_ACTIVE</td>\n",
       "      <td>36.0</td>\n",
       "      <td>MANAGEMENT EMPLOYEES</td>\n",
       "      <td>43312.80</td>\n",
       "      <td>13.79</td>\n",
       "      <td>4854.76</td>\n",
       "      <td>48181.35</td>\n",
       "      <td>12846.58</td>\n",
       "      <td>3831.48</td>\n",
       "      <td>NaN</td>\n",
       "      <td>NaN</td>\n",
       "    </tr>\n",
       "  </tbody>\n",
       "</table>\n",
       "</div>"
      ],
      "text/plain": [
       "          RECORD_NBR  PAY_YEAR  DEPARTMENT_NO        DEPARTMENT_TITLE  \\\n",
       "63196   303435303832      2013             17  CITY ETHICS COMMISSION   \n",
       "116901  303435303832      2014             17  CITY ETHICS COMMISSION   \n",
       "170647  303435303832      2015             17  CITY ETHICS COMMISSION   \n",
       "475052  303435303832      2016             17  CITY ETHICS COMMISSION   \n",
       "\n",
       "       JOB_CLASS_PGRADE         JOB_TITLE EMPLOYMENT_TYPE  JOB_STATUS   MOU  \\\n",
       "63196            0015-0  ETHICS OFFICER I       FULL_TIME  NOT_ACTIVE    36   \n",
       "116901           0015-0  ETHICS OFFICER I       FULL_TIME  NOT_ACTIVE    36   \n",
       "170647           0015-0  ETHICS OFFICER I       FULL_TIME  NOT_ACTIVE    36   \n",
       "475052           0015-0  ETHICS OFFICER I       FULL_TIME  NOT_ACTIVE  36.0   \n",
       "\n",
       "                   MOU_TITLE  REGULAR_PAY  OVERTIME_PAY  ALL_OTHER_PAY  \\\n",
       "63196   MANAGEMENT EMPLOYEES    102954.00          0.00          40.00   \n",
       "116901  MANAGEMENT EMPLOYEES    106998.57          0.00        2047.22   \n",
       "170647  MANAGEMENT EMPLOYEES    110868.28          0.00         447.48   \n",
       "475052  MANAGEMENT EMPLOYEES     43312.80         13.79        4854.76   \n",
       "\n",
       "        TOTAL_PAY  CITY_RETIREMENT_CONTRIBUTIONS  BENEFIT_PAY GENDER ETHNICITY  \n",
       "63196   102994.00                       30536.16      7925.00    NaN       NaN  \n",
       "116901  109045.79                       31735.78      8429.76    NaN       NaN  \n",
       "170647  111315.76                       32883.53      9191.76    NaN       NaN  \n",
       "475052   48181.35                       12846.58      3831.48    NaN       NaN  "
      ]
     },
     "execution_count": 100,
     "metadata": {},
     "output_type": "execute_result"
    }
   ],
   "source": [
    "gn_dp17 = gender_nulas[gender_nulas['DEPARTMENT_NO'] == 17]\n",
    "gn_dp17"
   ]
  },
  {
   "cell_type": "code",
   "execution_count": 88,
   "metadata": {},
   "outputs": [
    {
     "data": {
      "text/plain": [
       "JOB_STATUS\n",
       "ACTIVE        2103\n",
       "NOT_ACTIVE    1754\n",
       "Name: count, dtype: int64"
      ]
     },
     "execution_count": 88,
     "metadata": {},
     "output_type": "execute_result"
    }
   ],
   "source": [
    "mask_dp = (gender_nulas['DEPARTMENT_NO'] == 98)\n",
    "\n",
    "gn_dp98 = gender_nulas[mask_dp]\n",
    "gn_dp98[\"JOB_STATUS\"].value_counts()"
   ]
  },
  {
   "cell_type": "code",
   "execution_count": null,
   "metadata": {},
   "outputs": [
    {
     "data": {
      "text/plain": [
       "JOB_STATUS\n",
       "NOT_ACTIVE    1635\n",
       "ACTIVE         543\n",
       "Name: count, dtype: int64"
      ]
     },
     "execution_count": 97,
     "metadata": {},
     "output_type": "execute_result"
    }
   ],
   "source": [
    "gn_dp98_order = gn_dp98.sort_values(by=[\"PAY_YEAR\", \"RECORD_NBR\"],ascending=[False, True])\n",
    "last_recorded = gn_dp98_order.groupby(\"RECORD_NBR\").first().reset_index()\n",
    "last_recorded[\"JOB_STATUS\"].value_counts()"
   ]
  },
  {
   "cell_type": "code",
   "execution_count": 111,
   "metadata": {},
   "outputs": [],
   "source": [
    "only_actives = last_recorded[last_recorded[\"JOB_STATUS\"] == \"ACTIVE\"]"
   ]
  },
  {
   "cell_type": "code",
   "execution_count": 115,
   "metadata": {},
   "outputs": [
    {
     "name": "stdout",
     "output_type": "stream",
     "text": [
      "270\n"
     ]
    }
   ],
   "source": [
    "employees = list(only_actives[\"RECORD_NBR\"])\n",
    "more_than_1 = []\n",
    "for employee in employees:\n",
    "    records = bd[bd[\"RECORD_NBR\"] == employee]\n",
    "    number_records = records.shape[0]\n",
    "    if number_records > 1:\n",
    "        more_than_1.append(employee)\n",
    "print(len(more_than_1))"
   ]
  },
  {
   "cell_type": "markdown",
   "metadata": {},
   "source": [
    "Ao analisarmos os membros sem o registro do gênero, encontramos um unico empregado que foi desligado em 2017 no departamento 17, e varios outros, registrados no departamento 98, que possuem vácuo de registros, não apresentando dentro da base de dados quando ou se, o seu desligamento ocorreu. Novamente, todas os valores faltantes se encontram no departamento 98 antes do ano de 2016, mas não são os mesmo que possuem ausencia de MOU. Estes dados devem ser tratados mais cautelosamente."
   ]
  },
  {
   "cell_type": "markdown",
   "metadata": {},
   "source": [
    "## Coluna \"ETHNICITY\""
   ]
  },
  {
   "cell_type": "code",
   "execution_count": 130,
   "metadata": {},
   "outputs": [
    {
     "data": {
      "text/plain": [
       "PAY_YEAR\n",
       "2013    1743\n",
       "2014    1455\n",
       "2015     885\n",
       "2022     126\n",
       "2016       2\n",
       "2018       1\n",
       "Name: count, dtype: int64"
      ]
     },
     "execution_count": 130,
     "metadata": {},
     "output_type": "execute_result"
    }
   ],
   "source": [
    "eth_nulas = bd[bd['ETHNICITY'].isna()]\n",
    "eth_nulas['PAY_YEAR'].value_counts()"
   ]
  },
  {
   "cell_type": "code",
   "execution_count": 131,
   "metadata": {},
   "outputs": [
    {
     "data": {
      "text/plain": [
       "JOB_STATUS\n",
       "ACTIVE        2447\n",
       "NOT_ACTIVE    1765\n",
       "Name: count, dtype: int64"
      ]
     },
     "execution_count": 131,
     "metadata": {},
     "output_type": "execute_result"
    }
   ],
   "source": [
    "eth_nulas[\"JOB_STATUS\"].value_counts()"
   ]
  },
  {
   "cell_type": "code",
   "execution_count": 137,
   "metadata": {},
   "outputs": [
    {
     "data": {
      "text/plain": [
       "JOB_STATUS\n",
       "NOT_ACTIVE    1640\n",
       "ACTIVE         755\n",
       "Name: count, dtype: int64"
      ]
     },
     "execution_count": 137,
     "metadata": {},
     "output_type": "execute_result"
    }
   ],
   "source": [
    "eth_nulas_filter = eth_nulas.sort_values(by=[\"RECORD_NBR\", \"PAY_YEAR\"],ascending=[True, False])\n",
    "eth_last_recorded = eth_nulas_filter.groupby(\"RECORD_NBR\").first().reset_index()\n",
    "eth_last_recorded[\"JOB_STATUS\"].value_counts()"
   ]
  },
  {
   "cell_type": "code",
   "execution_count": 136,
   "metadata": {},
   "outputs": [
    {
     "data": {
      "text/html": [
       "<div>\n",
       "<style scoped>\n",
       "    .dataframe tbody tr th:only-of-type {\n",
       "        vertical-align: middle;\n",
       "    }\n",
       "\n",
       "    .dataframe tbody tr th {\n",
       "        vertical-align: top;\n",
       "    }\n",
       "\n",
       "    .dataframe thead th {\n",
       "        text-align: right;\n",
       "    }\n",
       "</style>\n",
       "<table border=\"1\" class=\"dataframe\">\n",
       "  <thead>\n",
       "    <tr style=\"text-align: right;\">\n",
       "      <th></th>\n",
       "      <th>RECORD_NBR</th>\n",
       "      <th>PAY_YEAR</th>\n",
       "      <th>DEPARTMENT_NO</th>\n",
       "      <th>DEPARTMENT_TITLE</th>\n",
       "      <th>JOB_CLASS_PGRADE</th>\n",
       "      <th>JOB_TITLE</th>\n",
       "      <th>EMPLOYMENT_TYPE</th>\n",
       "      <th>JOB_STATUS</th>\n",
       "      <th>MOU</th>\n",
       "      <th>MOU_TITLE</th>\n",
       "      <th>REGULAR_PAY</th>\n",
       "      <th>OVERTIME_PAY</th>\n",
       "      <th>ALL_OTHER_PAY</th>\n",
       "      <th>TOTAL_PAY</th>\n",
       "      <th>CITY_RETIREMENT_CONTRIBUTIONS</th>\n",
       "      <th>BENEFIT_PAY</th>\n",
       "      <th>GENDER</th>\n",
       "      <th>ETHNICITY</th>\n",
       "    </tr>\n",
       "  </thead>\n",
       "  <tbody>\n",
       "    <tr>\n",
       "      <th>481259</th>\n",
       "      <td>3134373339</td>\n",
       "      <td>2016</td>\n",
       "      <td>94</td>\n",
       "      <td>TRANSPORTATION</td>\n",
       "      <td>3180-2</td>\n",
       "      <td>CROSSING GUARD</td>\n",
       "      <td>PART_TIME</td>\n",
       "      <td>NOT_ACTIVE</td>\n",
       "      <td>34.0</td>\n",
       "      <td>CROSSING GUARDS</td>\n",
       "      <td>0.00</td>\n",
       "      <td>0.00</td>\n",
       "      <td>28.48</td>\n",
       "      <td>28.48</td>\n",
       "      <td>0.00</td>\n",
       "      <td>0.00</td>\n",
       "      <td>FEMALE</td>\n",
       "      <td>NaN</td>\n",
       "    </tr>\n",
       "    <tr>\n",
       "      <th>68681</th>\n",
       "      <td>3134373339</td>\n",
       "      <td>2013</td>\n",
       "      <td>94</td>\n",
       "      <td>TRANSPORTATION</td>\n",
       "      <td>3180-2</td>\n",
       "      <td>CROSSING GUARD</td>\n",
       "      <td>PART_TIME</td>\n",
       "      <td>NOT_ACTIVE</td>\n",
       "      <td>34.0</td>\n",
       "      <td>CROSSING GUARDS</td>\n",
       "      <td>4416.30</td>\n",
       "      <td>0.00</td>\n",
       "      <td>2676.99</td>\n",
       "      <td>7093.29</td>\n",
       "      <td>0.00</td>\n",
       "      <td>0.00</td>\n",
       "      <td>FEMALE</td>\n",
       "      <td>NaN</td>\n",
       "    </tr>\n",
       "    <tr>\n",
       "      <th>653262</th>\n",
       "      <td>3234373331</td>\n",
       "      <td>2022</td>\n",
       "      <td>12</td>\n",
       "      <td>CITY ATTORNEY</td>\n",
       "      <td>0596-0</td>\n",
       "      <td>DEPUTY CITY ATTORNEY III</td>\n",
       "      <td>FULL_TIME</td>\n",
       "      <td>ACTIVE</td>\n",
       "      <td>29.0</td>\n",
       "      <td>DEPUTY CITY ATTORNEYS</td>\n",
       "      <td>97718.40</td>\n",
       "      <td>0.00</td>\n",
       "      <td>9771.84</td>\n",
       "      <td>107490.24</td>\n",
       "      <td>28983.28</td>\n",
       "      <td>10095.96</td>\n",
       "      <td>MALE</td>\n",
       "      <td>NaN</td>\n",
       "    </tr>\n",
       "    <tr>\n",
       "      <th>663665</th>\n",
       "      <td>3335343633</td>\n",
       "      <td>2022</td>\n",
       "      <td>86</td>\n",
       "      <td>PUBLIC WORKS - STREET SERVICES</td>\n",
       "      <td>4152-1</td>\n",
       "      <td>STREET SERVICES SUPERVISOR I</td>\n",
       "      <td>FULL_TIME</td>\n",
       "      <td>ACTIVE</td>\n",
       "      <td>12.0</td>\n",
       "      <td>SUPERVISORY BLUE COLLAR</td>\n",
       "      <td>51991.42</td>\n",
       "      <td>3352.00</td>\n",
       "      <td>2776.32</td>\n",
       "      <td>58119.74</td>\n",
       "      <td>15420.66</td>\n",
       "      <td>10317.36</td>\n",
       "      <td>MALE</td>\n",
       "      <td>NaN</td>\n",
       "    </tr>\n",
       "    <tr>\n",
       "      <th>683757</th>\n",
       "      <td>3938323836</td>\n",
       "      <td>2022</td>\n",
       "      <td>82</td>\n",
       "      <td>PUBLIC WORKS - SANITATION</td>\n",
       "      <td>7871-2</td>\n",
       "      <td>ENVIRONMENTAL ENGINEERING ASSOCIATE II</td>\n",
       "      <td>FULL_TIME</td>\n",
       "      <td>ACTIVE</td>\n",
       "      <td>8.0</td>\n",
       "      <td>PROFESSIONAL ENGINEERING AND SCIENTIFIC</td>\n",
       "      <td>52665.60</td>\n",
       "      <td>5431.14</td>\n",
       "      <td>2771.96</td>\n",
       "      <td>60868.70</td>\n",
       "      <td>15620.62</td>\n",
       "      <td>10521.00</td>\n",
       "      <td>MALE</td>\n",
       "      <td>NaN</td>\n",
       "    </tr>\n",
       "    <tr>\n",
       "      <th>...</th>\n",
       "      <td>...</td>\n",
       "      <td>...</td>\n",
       "      <td>...</td>\n",
       "      <td>...</td>\n",
       "      <td>...</td>\n",
       "      <td>...</td>\n",
       "      <td>...</td>\n",
       "      <td>...</td>\n",
       "      <td>...</td>\n",
       "      <td>...</td>\n",
       "      <td>...</td>\n",
       "      <td>...</td>\n",
       "      <td>...</td>\n",
       "      <td>...</td>\n",
       "      <td>...</td>\n",
       "      <td>...</td>\n",
       "      <td>...</td>\n",
       "      <td>...</td>\n",
       "    </tr>\n",
       "    <tr>\n",
       "      <th>327597</th>\n",
       "      <td>X992463064</td>\n",
       "      <td>2015</td>\n",
       "      <td>98</td>\n",
       "      <td>WATER AND POWER</td>\n",
       "      <td>7515</td>\n",
       "      <td>SENIOR ELECTRICAL TESTER</td>\n",
       "      <td>FULL_TIME</td>\n",
       "      <td>ACTIVE</td>\n",
       "      <td>8</td>\n",
       "      <td>OPERATING MAINTENANCE AND SERVICE UNIT</td>\n",
       "      <td>13154.38</td>\n",
       "      <td>0.00</td>\n",
       "      <td>23676.75</td>\n",
       "      <td>36831.13</td>\n",
       "      <td>868.00</td>\n",
       "      <td>18755.63</td>\n",
       "      <td>NaN</td>\n",
       "      <td>NaN</td>\n",
       "    </tr>\n",
       "    <tr>\n",
       "      <th>258995</th>\n",
       "      <td>X992463064</td>\n",
       "      <td>2014</td>\n",
       "      <td>98</td>\n",
       "      <td>WATER AND POWER</td>\n",
       "      <td>7515</td>\n",
       "      <td>SENIOR ELECTRICAL TESTER</td>\n",
       "      <td>FULL_TIME</td>\n",
       "      <td>ACTIVE</td>\n",
       "      <td>8</td>\n",
       "      <td>OPERATING MAINTENANCE AND SERVICE UNIT</td>\n",
       "      <td>99180.20</td>\n",
       "      <td>4766.05</td>\n",
       "      <td>17953.69</td>\n",
       "      <td>121899.94</td>\n",
       "      <td>6546.00</td>\n",
       "      <td>18124.69</td>\n",
       "      <td>NaN</td>\n",
       "      <td>NaN</td>\n",
       "    </tr>\n",
       "    <tr>\n",
       "      <th>248355</th>\n",
       "      <td>X992463064</td>\n",
       "      <td>2013</td>\n",
       "      <td>98</td>\n",
       "      <td>WATER AND POWER</td>\n",
       "      <td>7515</td>\n",
       "      <td>SENIOR ELECTRICAL TESTER</td>\n",
       "      <td>FULL_TIME</td>\n",
       "      <td>ACTIVE</td>\n",
       "      <td>8</td>\n",
       "      <td>OPERATING MAINTENANCE AND SERVICE UNIT</td>\n",
       "      <td>99134.39</td>\n",
       "      <td>6146.04</td>\n",
       "      <td>19046.50</td>\n",
       "      <td>124326.93</td>\n",
       "      <td>6543.00</td>\n",
       "      <td>17111.02</td>\n",
       "      <td>NaN</td>\n",
       "      <td>NaN</td>\n",
       "    </tr>\n",
       "    <tr>\n",
       "      <th>327598</th>\n",
       "      <td>X999958886</td>\n",
       "      <td>2015</td>\n",
       "      <td>98</td>\n",
       "      <td>WATER AND POWER</td>\n",
       "      <td>1358</td>\n",
       "      <td>CLERK TYPIST</td>\n",
       "      <td>FULL_TIME</td>\n",
       "      <td>NOT_ACTIVE</td>\n",
       "      <td>7</td>\n",
       "      <td>CLERICAL UNIT</td>\n",
       "      <td>2496.48</td>\n",
       "      <td>0.00</td>\n",
       "      <td>25.00</td>\n",
       "      <td>2521.48</td>\n",
       "      <td>165.00</td>\n",
       "      <td>18755.63</td>\n",
       "      <td>NaN</td>\n",
       "      <td>NaN</td>\n",
       "    </tr>\n",
       "    <tr>\n",
       "      <th>258996</th>\n",
       "      <td>X999958886</td>\n",
       "      <td>2014</td>\n",
       "      <td>98</td>\n",
       "      <td>WATER AND POWER</td>\n",
       "      <td>1358</td>\n",
       "      <td>CLERK TYPIST</td>\n",
       "      <td>FULL_TIME</td>\n",
       "      <td>ACTIVE</td>\n",
       "      <td>7</td>\n",
       "      <td>CLERICAL UNIT</td>\n",
       "      <td>5171.28</td>\n",
       "      <td>83.59</td>\n",
       "      <td>25.00</td>\n",
       "      <td>5279.87</td>\n",
       "      <td>341.00</td>\n",
       "      <td>18124.69</td>\n",
       "      <td>NaN</td>\n",
       "      <td>NaN</td>\n",
       "    </tr>\n",
       "  </tbody>\n",
       "</table>\n",
       "<p>4212 rows × 18 columns</p>\n",
       "</div>"
      ],
      "text/plain": [
       "        RECORD_NBR  PAY_YEAR  DEPARTMENT_NO                DEPARTMENT_TITLE  \\\n",
       "481259  3134373339      2016             94                  TRANSPORTATION   \n",
       "68681   3134373339      2013             94                  TRANSPORTATION   \n",
       "653262  3234373331      2022             12                   CITY ATTORNEY   \n",
       "663665  3335343633      2022             86  PUBLIC WORKS - STREET SERVICES   \n",
       "683757  3938323836      2022             82       PUBLIC WORKS - SANITATION   \n",
       "...            ...       ...            ...                             ...   \n",
       "327597  X992463064      2015             98                 WATER AND POWER   \n",
       "258995  X992463064      2014             98                 WATER AND POWER   \n",
       "248355  X992463064      2013             98                 WATER AND POWER   \n",
       "327598  X999958886      2015             98                 WATER AND POWER   \n",
       "258996  X999958886      2014             98                 WATER AND POWER   \n",
       "\n",
       "       JOB_CLASS_PGRADE                               JOB_TITLE  \\\n",
       "481259           3180-2                          CROSSING GUARD   \n",
       "68681            3180-2                          CROSSING GUARD   \n",
       "653262           0596-0                DEPUTY CITY ATTORNEY III   \n",
       "663665           4152-1            STREET SERVICES SUPERVISOR I   \n",
       "683757           7871-2  ENVIRONMENTAL ENGINEERING ASSOCIATE II   \n",
       "...                 ...                                     ...   \n",
       "327597             7515                SENIOR ELECTRICAL TESTER   \n",
       "258995             7515                SENIOR ELECTRICAL TESTER   \n",
       "248355             7515                SENIOR ELECTRICAL TESTER   \n",
       "327598             1358                            CLERK TYPIST   \n",
       "258996             1358                            CLERK TYPIST   \n",
       "\n",
       "       EMPLOYMENT_TYPE  JOB_STATUS   MOU  \\\n",
       "481259       PART_TIME  NOT_ACTIVE  34.0   \n",
       "68681        PART_TIME  NOT_ACTIVE  34.0   \n",
       "653262       FULL_TIME      ACTIVE  29.0   \n",
       "663665       FULL_TIME      ACTIVE  12.0   \n",
       "683757       FULL_TIME      ACTIVE   8.0   \n",
       "...                ...         ...   ...   \n",
       "327597       FULL_TIME      ACTIVE     8   \n",
       "258995       FULL_TIME      ACTIVE     8   \n",
       "248355       FULL_TIME      ACTIVE     8   \n",
       "327598       FULL_TIME  NOT_ACTIVE     7   \n",
       "258996       FULL_TIME      ACTIVE     7   \n",
       "\n",
       "                                      MOU_TITLE  REGULAR_PAY  OVERTIME_PAY  \\\n",
       "481259                          CROSSING GUARDS         0.00          0.00   \n",
       "68681                           CROSSING GUARDS      4416.30          0.00   \n",
       "653262                    DEPUTY CITY ATTORNEYS     97718.40          0.00   \n",
       "663665                  SUPERVISORY BLUE COLLAR     51991.42       3352.00   \n",
       "683757  PROFESSIONAL ENGINEERING AND SCIENTIFIC     52665.60       5431.14   \n",
       "...                                         ...          ...           ...   \n",
       "327597   OPERATING MAINTENANCE AND SERVICE UNIT     13154.38          0.00   \n",
       "258995   OPERATING MAINTENANCE AND SERVICE UNIT     99180.20       4766.05   \n",
       "248355   OPERATING MAINTENANCE AND SERVICE UNIT     99134.39       6146.04   \n",
       "327598                            CLERICAL UNIT      2496.48          0.00   \n",
       "258996                            CLERICAL UNIT      5171.28         83.59   \n",
       "\n",
       "        ALL_OTHER_PAY  TOTAL_PAY  CITY_RETIREMENT_CONTRIBUTIONS  BENEFIT_PAY  \\\n",
       "481259          28.48      28.48                           0.00         0.00   \n",
       "68681         2676.99    7093.29                           0.00         0.00   \n",
       "653262        9771.84  107490.24                       28983.28     10095.96   \n",
       "663665        2776.32   58119.74                       15420.66     10317.36   \n",
       "683757        2771.96   60868.70                       15620.62     10521.00   \n",
       "...               ...        ...                            ...          ...   \n",
       "327597       23676.75   36831.13                         868.00     18755.63   \n",
       "258995       17953.69  121899.94                        6546.00     18124.69   \n",
       "248355       19046.50  124326.93                        6543.00     17111.02   \n",
       "327598          25.00    2521.48                         165.00     18755.63   \n",
       "258996          25.00    5279.87                         341.00     18124.69   \n",
       "\n",
       "        GENDER ETHNICITY  \n",
       "481259  FEMALE       NaN  \n",
       "68681   FEMALE       NaN  \n",
       "653262    MALE       NaN  \n",
       "663665    MALE       NaN  \n",
       "683757    MALE       NaN  \n",
       "...        ...       ...  \n",
       "327597     NaN       NaN  \n",
       "258995     NaN       NaN  \n",
       "248355     NaN       NaN  \n",
       "327598     NaN       NaN  \n",
       "258996     NaN       NaN  \n",
       "\n",
       "[4212 rows x 18 columns]"
      ]
     },
     "execution_count": 136,
     "metadata": {},
     "output_type": "execute_result"
    }
   ],
   "source": [
    "eth_nulas_filter"
   ]
  },
  {
   "cell_type": "code",
   "execution_count": 138,
   "metadata": {},
   "outputs": [
    {
     "data": {
      "text/html": [
       "<div>\n",
       "<style scoped>\n",
       "    .dataframe tbody tr th:only-of-type {\n",
       "        vertical-align: middle;\n",
       "    }\n",
       "\n",
       "    .dataframe tbody tr th {\n",
       "        vertical-align: top;\n",
       "    }\n",
       "\n",
       "    .dataframe thead th {\n",
       "        text-align: right;\n",
       "    }\n",
       "</style>\n",
       "<table border=\"1\" class=\"dataframe\">\n",
       "  <thead>\n",
       "    <tr style=\"text-align: right;\">\n",
       "      <th></th>\n",
       "      <th>RECORD_NBR</th>\n",
       "      <th>PAY_YEAR</th>\n",
       "      <th>DEPARTMENT_NO</th>\n",
       "      <th>DEPARTMENT_TITLE</th>\n",
       "      <th>JOB_CLASS_PGRADE</th>\n",
       "      <th>JOB_TITLE</th>\n",
       "      <th>EMPLOYMENT_TYPE</th>\n",
       "      <th>JOB_STATUS</th>\n",
       "      <th>MOU</th>\n",
       "      <th>MOU_TITLE</th>\n",
       "      <th>REGULAR_PAY</th>\n",
       "      <th>OVERTIME_PAY</th>\n",
       "      <th>ALL_OTHER_PAY</th>\n",
       "      <th>TOTAL_PAY</th>\n",
       "      <th>CITY_RETIREMENT_CONTRIBUTIONS</th>\n",
       "      <th>BENEFIT_PAY</th>\n",
       "      <th>GENDER</th>\n",
       "      <th>ETHNICITY</th>\n",
       "    </tr>\n",
       "  </thead>\n",
       "  <tbody>\n",
       "    <tr>\n",
       "      <th>0</th>\n",
       "      <td>3134373339</td>\n",
       "      <td>2016</td>\n",
       "      <td>94</td>\n",
       "      <td>TRANSPORTATION</td>\n",
       "      <td>3180-2</td>\n",
       "      <td>CROSSING GUARD</td>\n",
       "      <td>PART_TIME</td>\n",
       "      <td>NOT_ACTIVE</td>\n",
       "      <td>34.0</td>\n",
       "      <td>CROSSING GUARDS</td>\n",
       "      <td>0.00</td>\n",
       "      <td>0.00</td>\n",
       "      <td>28.48</td>\n",
       "      <td>28.48</td>\n",
       "      <td>0.00</td>\n",
       "      <td>0.00</td>\n",
       "      <td>FEMALE</td>\n",
       "      <td>None</td>\n",
       "    </tr>\n",
       "    <tr>\n",
       "      <th>1</th>\n",
       "      <td>3234373331</td>\n",
       "      <td>2022</td>\n",
       "      <td>12</td>\n",
       "      <td>CITY ATTORNEY</td>\n",
       "      <td>0596-0</td>\n",
       "      <td>DEPUTY CITY ATTORNEY III</td>\n",
       "      <td>FULL_TIME</td>\n",
       "      <td>ACTIVE</td>\n",
       "      <td>29.0</td>\n",
       "      <td>DEPUTY CITY ATTORNEYS</td>\n",
       "      <td>97718.40</td>\n",
       "      <td>0.00</td>\n",
       "      <td>9771.84</td>\n",
       "      <td>107490.24</td>\n",
       "      <td>28983.28</td>\n",
       "      <td>10095.96</td>\n",
       "      <td>MALE</td>\n",
       "      <td>None</td>\n",
       "    </tr>\n",
       "    <tr>\n",
       "      <th>2</th>\n",
       "      <td>3335343633</td>\n",
       "      <td>2022</td>\n",
       "      <td>86</td>\n",
       "      <td>PUBLIC WORKS - STREET SERVICES</td>\n",
       "      <td>4152-1</td>\n",
       "      <td>STREET SERVICES SUPERVISOR I</td>\n",
       "      <td>FULL_TIME</td>\n",
       "      <td>ACTIVE</td>\n",
       "      <td>12.0</td>\n",
       "      <td>SUPERVISORY BLUE COLLAR</td>\n",
       "      <td>51991.42</td>\n",
       "      <td>3352.00</td>\n",
       "      <td>2776.32</td>\n",
       "      <td>58119.74</td>\n",
       "      <td>15420.66</td>\n",
       "      <td>10317.36</td>\n",
       "      <td>MALE</td>\n",
       "      <td>None</td>\n",
       "    </tr>\n",
       "    <tr>\n",
       "      <th>3</th>\n",
       "      <td>3938323836</td>\n",
       "      <td>2022</td>\n",
       "      <td>82</td>\n",
       "      <td>PUBLIC WORKS - SANITATION</td>\n",
       "      <td>7871-2</td>\n",
       "      <td>ENVIRONMENTAL ENGINEERING ASSOCIATE II</td>\n",
       "      <td>FULL_TIME</td>\n",
       "      <td>ACTIVE</td>\n",
       "      <td>8.0</td>\n",
       "      <td>PROFESSIONAL ENGINEERING AND SCIENTIFIC</td>\n",
       "      <td>52665.60</td>\n",
       "      <td>5431.14</td>\n",
       "      <td>2771.96</td>\n",
       "      <td>60868.70</td>\n",
       "      <td>15620.62</td>\n",
       "      <td>10521.00</td>\n",
       "      <td>MALE</td>\n",
       "      <td>None</td>\n",
       "    </tr>\n",
       "    <tr>\n",
       "      <th>4</th>\n",
       "      <td>303033303035</td>\n",
       "      <td>2022</td>\n",
       "      <td>88</td>\n",
       "      <td>RECREATION AND PARKS</td>\n",
       "      <td>2421-B</td>\n",
       "      <td>RESIDENTIAL CAMP COUNSELOR</td>\n",
       "      <td>PART_TIME</td>\n",
       "      <td>ACTIVE</td>\n",
       "      <td>0.0</td>\n",
       "      <td>NON-REPRESENTED</td>\n",
       "      <td>31.72</td>\n",
       "      <td>0.00</td>\n",
       "      <td>0.00</td>\n",
       "      <td>31.72</td>\n",
       "      <td>0.00</td>\n",
       "      <td>0.00</td>\n",
       "      <td>UNKNOWN</td>\n",
       "      <td>None</td>\n",
       "    </tr>\n",
       "    <tr>\n",
       "      <th>...</th>\n",
       "      <td>...</td>\n",
       "      <td>...</td>\n",
       "      <td>...</td>\n",
       "      <td>...</td>\n",
       "      <td>...</td>\n",
       "      <td>...</td>\n",
       "      <td>...</td>\n",
       "      <td>...</td>\n",
       "      <td>...</td>\n",
       "      <td>...</td>\n",
       "      <td>...</td>\n",
       "      <td>...</td>\n",
       "      <td>...</td>\n",
       "      <td>...</td>\n",
       "      <td>...</td>\n",
       "      <td>...</td>\n",
       "      <td>...</td>\n",
       "      <td>...</td>\n",
       "    </tr>\n",
       "    <tr>\n",
       "      <th>2390</th>\n",
       "      <td>X987896762</td>\n",
       "      <td>2015</td>\n",
       "      <td>98</td>\n",
       "      <td>WATER AND POWER</td>\n",
       "      <td>3755</td>\n",
       "      <td>UTILITY SERVICES SPECIALIST</td>\n",
       "      <td>FULL_TIME</td>\n",
       "      <td>ACTIVE</td>\n",
       "      <td>2</td>\n",
       "      <td>TECHNICAL REPRESENTATION UNIT</td>\n",
       "      <td>0.00</td>\n",
       "      <td>0.00</td>\n",
       "      <td>1180.44</td>\n",
       "      <td>1180.44</td>\n",
       "      <td>0.00</td>\n",
       "      <td>18755.63</td>\n",
       "      <td>None</td>\n",
       "      <td>None</td>\n",
       "    </tr>\n",
       "    <tr>\n",
       "      <th>2391</th>\n",
       "      <td>X989612606</td>\n",
       "      <td>2014</td>\n",
       "      <td>98</td>\n",
       "      <td>WATER AND POWER</td>\n",
       "      <td>1505</td>\n",
       "      <td>STUDENT TRAINEE WORKER</td>\n",
       "      <td>PART_TIME</td>\n",
       "      <td>NOT_ACTIVE</td>\n",
       "      <td>U</td>\n",
       "      <td>UNREPRESENTED UNIT - NON MANAGEMENT BENEFITS</td>\n",
       "      <td>4978.93</td>\n",
       "      <td>NaN</td>\n",
       "      <td>NaN</td>\n",
       "      <td>4978.93</td>\n",
       "      <td>0.00</td>\n",
       "      <td>0.00</td>\n",
       "      <td>None</td>\n",
       "      <td>None</td>\n",
       "    </tr>\n",
       "    <tr>\n",
       "      <th>2392</th>\n",
       "      <td>X990527692</td>\n",
       "      <td>2013</td>\n",
       "      <td>98</td>\n",
       "      <td>WATER AND POWER</td>\n",
       "      <td>1358</td>\n",
       "      <td>CLERK TYPIST</td>\n",
       "      <td>FULL_TIME</td>\n",
       "      <td>NOT_ACTIVE</td>\n",
       "      <td>7</td>\n",
       "      <td>CLERICAL UNIT</td>\n",
       "      <td>2463.52</td>\n",
       "      <td>0.00</td>\n",
       "      <td>345.99</td>\n",
       "      <td>2809.51</td>\n",
       "      <td>163.00</td>\n",
       "      <td>17111.02</td>\n",
       "      <td>None</td>\n",
       "      <td>None</td>\n",
       "    </tr>\n",
       "    <tr>\n",
       "      <th>2393</th>\n",
       "      <td>X992463064</td>\n",
       "      <td>2015</td>\n",
       "      <td>98</td>\n",
       "      <td>WATER AND POWER</td>\n",
       "      <td>7515</td>\n",
       "      <td>SENIOR ELECTRICAL TESTER</td>\n",
       "      <td>FULL_TIME</td>\n",
       "      <td>ACTIVE</td>\n",
       "      <td>8</td>\n",
       "      <td>OPERATING MAINTENANCE AND SERVICE UNIT</td>\n",
       "      <td>13154.38</td>\n",
       "      <td>0.00</td>\n",
       "      <td>23676.75</td>\n",
       "      <td>36831.13</td>\n",
       "      <td>868.00</td>\n",
       "      <td>18755.63</td>\n",
       "      <td>None</td>\n",
       "      <td>None</td>\n",
       "    </tr>\n",
       "    <tr>\n",
       "      <th>2394</th>\n",
       "      <td>X999958886</td>\n",
       "      <td>2015</td>\n",
       "      <td>98</td>\n",
       "      <td>WATER AND POWER</td>\n",
       "      <td>1358</td>\n",
       "      <td>CLERK TYPIST</td>\n",
       "      <td>FULL_TIME</td>\n",
       "      <td>NOT_ACTIVE</td>\n",
       "      <td>7</td>\n",
       "      <td>CLERICAL UNIT</td>\n",
       "      <td>2496.48</td>\n",
       "      <td>0.00</td>\n",
       "      <td>25.00</td>\n",
       "      <td>2521.48</td>\n",
       "      <td>165.00</td>\n",
       "      <td>18755.63</td>\n",
       "      <td>None</td>\n",
       "      <td>None</td>\n",
       "    </tr>\n",
       "  </tbody>\n",
       "</table>\n",
       "<p>2395 rows × 18 columns</p>\n",
       "</div>"
      ],
      "text/plain": [
       "        RECORD_NBR  PAY_YEAR  DEPARTMENT_NO                DEPARTMENT_TITLE  \\\n",
       "0       3134373339      2016             94                  TRANSPORTATION   \n",
       "1       3234373331      2022             12                   CITY ATTORNEY   \n",
       "2       3335343633      2022             86  PUBLIC WORKS - STREET SERVICES   \n",
       "3       3938323836      2022             82       PUBLIC WORKS - SANITATION   \n",
       "4     303033303035      2022             88            RECREATION AND PARKS   \n",
       "...            ...       ...            ...                             ...   \n",
       "2390    X987896762      2015             98                 WATER AND POWER   \n",
       "2391    X989612606      2014             98                 WATER AND POWER   \n",
       "2392    X990527692      2013             98                 WATER AND POWER   \n",
       "2393    X992463064      2015             98                 WATER AND POWER   \n",
       "2394    X999958886      2015             98                 WATER AND POWER   \n",
       "\n",
       "     JOB_CLASS_PGRADE                               JOB_TITLE EMPLOYMENT_TYPE  \\\n",
       "0              3180-2                          CROSSING GUARD       PART_TIME   \n",
       "1              0596-0                DEPUTY CITY ATTORNEY III       FULL_TIME   \n",
       "2              4152-1            STREET SERVICES SUPERVISOR I       FULL_TIME   \n",
       "3              7871-2  ENVIRONMENTAL ENGINEERING ASSOCIATE II       FULL_TIME   \n",
       "4              2421-B              RESIDENTIAL CAMP COUNSELOR       PART_TIME   \n",
       "...               ...                                     ...             ...   \n",
       "2390             3755             UTILITY SERVICES SPECIALIST       FULL_TIME   \n",
       "2391             1505                  STUDENT TRAINEE WORKER       PART_TIME   \n",
       "2392             1358                            CLERK TYPIST       FULL_TIME   \n",
       "2393             7515                SENIOR ELECTRICAL TESTER       FULL_TIME   \n",
       "2394             1358                            CLERK TYPIST       FULL_TIME   \n",
       "\n",
       "      JOB_STATUS   MOU                                     MOU_TITLE  \\\n",
       "0     NOT_ACTIVE  34.0                               CROSSING GUARDS   \n",
       "1         ACTIVE  29.0                         DEPUTY CITY ATTORNEYS   \n",
       "2         ACTIVE  12.0                       SUPERVISORY BLUE COLLAR   \n",
       "3         ACTIVE   8.0       PROFESSIONAL ENGINEERING AND SCIENTIFIC   \n",
       "4         ACTIVE   0.0                               NON-REPRESENTED   \n",
       "...          ...   ...                                           ...   \n",
       "2390      ACTIVE     2                 TECHNICAL REPRESENTATION UNIT   \n",
       "2391  NOT_ACTIVE     U  UNREPRESENTED UNIT - NON MANAGEMENT BENEFITS   \n",
       "2392  NOT_ACTIVE     7                                 CLERICAL UNIT   \n",
       "2393      ACTIVE     8        OPERATING MAINTENANCE AND SERVICE UNIT   \n",
       "2394  NOT_ACTIVE     7                                 CLERICAL UNIT   \n",
       "\n",
       "      REGULAR_PAY  OVERTIME_PAY  ALL_OTHER_PAY  TOTAL_PAY  \\\n",
       "0            0.00          0.00          28.48      28.48   \n",
       "1        97718.40          0.00        9771.84  107490.24   \n",
       "2        51991.42       3352.00        2776.32   58119.74   \n",
       "3        52665.60       5431.14        2771.96   60868.70   \n",
       "4           31.72          0.00           0.00      31.72   \n",
       "...           ...           ...            ...        ...   \n",
       "2390         0.00          0.00        1180.44    1180.44   \n",
       "2391      4978.93           NaN            NaN    4978.93   \n",
       "2392      2463.52          0.00         345.99    2809.51   \n",
       "2393     13154.38          0.00       23676.75   36831.13   \n",
       "2394      2496.48          0.00          25.00    2521.48   \n",
       "\n",
       "      CITY_RETIREMENT_CONTRIBUTIONS  BENEFIT_PAY   GENDER ETHNICITY  \n",
       "0                              0.00         0.00   FEMALE      None  \n",
       "1                          28983.28     10095.96     MALE      None  \n",
       "2                          15420.66     10317.36     MALE      None  \n",
       "3                          15620.62     10521.00     MALE      None  \n",
       "4                              0.00         0.00  UNKNOWN      None  \n",
       "...                             ...          ...      ...       ...  \n",
       "2390                           0.00     18755.63     None      None  \n",
       "2391                           0.00         0.00     None      None  \n",
       "2392                         163.00     17111.02     None      None  \n",
       "2393                         868.00     18755.63     None      None  \n",
       "2394                         165.00     18755.63     None      None  \n",
       "\n",
       "[2395 rows x 18 columns]"
      ]
     },
     "execution_count": 138,
     "metadata": {},
     "output_type": "execute_result"
    }
   ],
   "source": [
    "eth_last_recorded"
   ]
  },
  {
   "cell_type": "code",
   "execution_count": 149,
   "metadata": {},
   "outputs": [
    {
     "data": {
      "text/html": [
       "<div>\n",
       "<style scoped>\n",
       "    .dataframe tbody tr th:only-of-type {\n",
       "        vertical-align: middle;\n",
       "    }\n",
       "\n",
       "    .dataframe tbody tr th {\n",
       "        vertical-align: top;\n",
       "    }\n",
       "\n",
       "    .dataframe thead th {\n",
       "        text-align: right;\n",
       "    }\n",
       "</style>\n",
       "<table border=\"1\" class=\"dataframe\">\n",
       "  <thead>\n",
       "    <tr style=\"text-align: right;\">\n",
       "      <th></th>\n",
       "      <th>RECORD_NBR</th>\n",
       "      <th>PAY_YEAR</th>\n",
       "      <th>DEPARTMENT_NO</th>\n",
       "      <th>DEPARTMENT_TITLE</th>\n",
       "      <th>JOB_CLASS_PGRADE</th>\n",
       "      <th>JOB_TITLE</th>\n",
       "      <th>EMPLOYMENT_TYPE</th>\n",
       "      <th>JOB_STATUS</th>\n",
       "      <th>MOU</th>\n",
       "      <th>MOU_TITLE</th>\n",
       "      <th>REGULAR_PAY</th>\n",
       "      <th>OVERTIME_PAY</th>\n",
       "      <th>ALL_OTHER_PAY</th>\n",
       "      <th>TOTAL_PAY</th>\n",
       "      <th>CITY_RETIREMENT_CONTRIBUTIONS</th>\n",
       "      <th>BENEFIT_PAY</th>\n",
       "      <th>GENDER</th>\n",
       "      <th>ETHNICITY</th>\n",
       "    </tr>\n",
       "  </thead>\n",
       "  <tbody>\n",
       "    <tr>\n",
       "      <th>74091</th>\n",
       "      <td>3234373331</td>\n",
       "      <td>2013</td>\n",
       "      <td>12</td>\n",
       "      <td>CITY ATTORNEY</td>\n",
       "      <td>0552-G</td>\n",
       "      <td>DEPUTY CITY ATTORNEY III</td>\n",
       "      <td>FULL_TIME</td>\n",
       "      <td>NOT_ACTIVE</td>\n",
       "      <td>29.0</td>\n",
       "      <td>DEPUTY CITY ATTORNEYS</td>\n",
       "      <td>154695.47</td>\n",
       "      <td>0.0</td>\n",
       "      <td>16373.95</td>\n",
       "      <td>171069.42</td>\n",
       "      <td>45882.68</td>\n",
       "      <td>14210.64</td>\n",
       "      <td>MALE</td>\n",
       "      <td>CAUCASIAN</td>\n",
       "    </tr>\n",
       "    <tr>\n",
       "      <th>127603</th>\n",
       "      <td>3234373331</td>\n",
       "      <td>2014</td>\n",
       "      <td>12</td>\n",
       "      <td>CITY ATTORNEY</td>\n",
       "      <td>0552-G</td>\n",
       "      <td>DEPUTY CITY ATTORNEY III</td>\n",
       "      <td>FULL_TIME</td>\n",
       "      <td>NOT_ACTIVE</td>\n",
       "      <td>29</td>\n",
       "      <td>DEPUTY CITY ATTORNEYS</td>\n",
       "      <td>166550.80</td>\n",
       "      <td>0.0</td>\n",
       "      <td>22811.68</td>\n",
       "      <td>189362.48</td>\n",
       "      <td>49398.97</td>\n",
       "      <td>14472.72</td>\n",
       "      <td>MALE</td>\n",
       "      <td>CAUCASIAN</td>\n",
       "    </tr>\n",
       "    <tr>\n",
       "      <th>182253</th>\n",
       "      <td>3234373331</td>\n",
       "      <td>2015</td>\n",
       "      <td>12</td>\n",
       "      <td>CITY ATTORNEY</td>\n",
       "      <td>0552-G</td>\n",
       "      <td>DEPUTY CITY ATTORNEY III</td>\n",
       "      <td>FULL_TIME</td>\n",
       "      <td>NOT_ACTIVE</td>\n",
       "      <td>29</td>\n",
       "      <td>DEPUTY CITY ATTORNEYS</td>\n",
       "      <td>166550.80</td>\n",
       "      <td>0.0</td>\n",
       "      <td>22811.68</td>\n",
       "      <td>189362.48</td>\n",
       "      <td>49398.97</td>\n",
       "      <td>15064.56</td>\n",
       "      <td>MALE</td>\n",
       "      <td>CAUCASIAN</td>\n",
       "    </tr>\n",
       "    <tr>\n",
       "      <th>342418</th>\n",
       "      <td>3234373331</td>\n",
       "      <td>2020</td>\n",
       "      <td>12</td>\n",
       "      <td>CITY ATTORNEY</td>\n",
       "      <td>0596-0</td>\n",
       "      <td>DEPUTY CITY ATTORNEY III</td>\n",
       "      <td>FULL_TIME</td>\n",
       "      <td>ACTIVE</td>\n",
       "      <td>29.0</td>\n",
       "      <td>DEPUTY CITY ATTORNEYS</td>\n",
       "      <td>212639.12</td>\n",
       "      <td>0.0</td>\n",
       "      <td>9489.68</td>\n",
       "      <td>222128.80</td>\n",
       "      <td>63068.76</td>\n",
       "      <td>19387.49</td>\n",
       "      <td>MALE</td>\n",
       "      <td>CAUCASIAN</td>\n",
       "    </tr>\n",
       "    <tr>\n",
       "      <th>457544</th>\n",
       "      <td>3234373331</td>\n",
       "      <td>2019</td>\n",
       "      <td>12</td>\n",
       "      <td>CITY ATTORNEY</td>\n",
       "      <td>0596-0</td>\n",
       "      <td>DEPUTY CITY ATTORNEY III</td>\n",
       "      <td>FULL_TIME</td>\n",
       "      <td>ACTIVE</td>\n",
       "      <td>29.0</td>\n",
       "      <td>DEPUTY CITY ATTORNEYS</td>\n",
       "      <td>194384.00</td>\n",
       "      <td>0.0</td>\n",
       "      <td>4490.40</td>\n",
       "      <td>198874.40</td>\n",
       "      <td>57654.29</td>\n",
       "      <td>17380.56</td>\n",
       "      <td>MALE</td>\n",
       "      <td>CAUCASIAN</td>\n",
       "    </tr>\n",
       "    <tr>\n",
       "      <th>487315</th>\n",
       "      <td>3234373331</td>\n",
       "      <td>2016</td>\n",
       "      <td>12</td>\n",
       "      <td>CITY ATTORNEY</td>\n",
       "      <td>0552-G</td>\n",
       "      <td>DEPUTY CITY ATTORNEY III</td>\n",
       "      <td>FULL_TIME</td>\n",
       "      <td>NOT_ACTIVE</td>\n",
       "      <td>29.0</td>\n",
       "      <td>DEPUTY CITY ATTORNEYS</td>\n",
       "      <td>166550.80</td>\n",
       "      <td>0.0</td>\n",
       "      <td>10118.48</td>\n",
       "      <td>176669.28</td>\n",
       "      <td>49398.97</td>\n",
       "      <td>16648.08</td>\n",
       "      <td>MALE</td>\n",
       "      <td>CAUCASIAN</td>\n",
       "    </tr>\n",
       "    <tr>\n",
       "      <th>653262</th>\n",
       "      <td>3234373331</td>\n",
       "      <td>2022</td>\n",
       "      <td>12</td>\n",
       "      <td>CITY ATTORNEY</td>\n",
       "      <td>0596-0</td>\n",
       "      <td>DEPUTY CITY ATTORNEY III</td>\n",
       "      <td>FULL_TIME</td>\n",
       "      <td>ACTIVE</td>\n",
       "      <td>29.0</td>\n",
       "      <td>DEPUTY CITY ATTORNEYS</td>\n",
       "      <td>97718.40</td>\n",
       "      <td>0.0</td>\n",
       "      <td>9771.84</td>\n",
       "      <td>107490.24</td>\n",
       "      <td>28983.28</td>\n",
       "      <td>10095.96</td>\n",
       "      <td>MALE</td>\n",
       "      <td>NaN</td>\n",
       "    </tr>\n",
       "  </tbody>\n",
       "</table>\n",
       "</div>"
      ],
      "text/plain": [
       "        RECORD_NBR  PAY_YEAR  DEPARTMENT_NO DEPARTMENT_TITLE JOB_CLASS_PGRADE  \\\n",
       "74091   3234373331      2013             12    CITY ATTORNEY           0552-G   \n",
       "127603  3234373331      2014             12    CITY ATTORNEY           0552-G   \n",
       "182253  3234373331      2015             12    CITY ATTORNEY           0552-G   \n",
       "342418  3234373331      2020             12    CITY ATTORNEY           0596-0   \n",
       "457544  3234373331      2019             12    CITY ATTORNEY           0596-0   \n",
       "487315  3234373331      2016             12    CITY ATTORNEY           0552-G   \n",
       "653262  3234373331      2022             12    CITY ATTORNEY           0596-0   \n",
       "\n",
       "                       JOB_TITLE EMPLOYMENT_TYPE  JOB_STATUS   MOU  \\\n",
       "74091   DEPUTY CITY ATTORNEY III       FULL_TIME  NOT_ACTIVE  29.0   \n",
       "127603  DEPUTY CITY ATTORNEY III       FULL_TIME  NOT_ACTIVE    29   \n",
       "182253  DEPUTY CITY ATTORNEY III       FULL_TIME  NOT_ACTIVE    29   \n",
       "342418  DEPUTY CITY ATTORNEY III       FULL_TIME      ACTIVE  29.0   \n",
       "457544  DEPUTY CITY ATTORNEY III       FULL_TIME      ACTIVE  29.0   \n",
       "487315  DEPUTY CITY ATTORNEY III       FULL_TIME  NOT_ACTIVE  29.0   \n",
       "653262  DEPUTY CITY ATTORNEY III       FULL_TIME      ACTIVE  29.0   \n",
       "\n",
       "                    MOU_TITLE  REGULAR_PAY  OVERTIME_PAY  ALL_OTHER_PAY  \\\n",
       "74091   DEPUTY CITY ATTORNEYS    154695.47           0.0       16373.95   \n",
       "127603  DEPUTY CITY ATTORNEYS    166550.80           0.0       22811.68   \n",
       "182253  DEPUTY CITY ATTORNEYS    166550.80           0.0       22811.68   \n",
       "342418  DEPUTY CITY ATTORNEYS    212639.12           0.0        9489.68   \n",
       "457544  DEPUTY CITY ATTORNEYS    194384.00           0.0        4490.40   \n",
       "487315  DEPUTY CITY ATTORNEYS    166550.80           0.0       10118.48   \n",
       "653262  DEPUTY CITY ATTORNEYS     97718.40           0.0        9771.84   \n",
       "\n",
       "        TOTAL_PAY  CITY_RETIREMENT_CONTRIBUTIONS  BENEFIT_PAY GENDER  \\\n",
       "74091   171069.42                       45882.68     14210.64   MALE   \n",
       "127603  189362.48                       49398.97     14472.72   MALE   \n",
       "182253  189362.48                       49398.97     15064.56   MALE   \n",
       "342418  222128.80                       63068.76     19387.49   MALE   \n",
       "457544  198874.40                       57654.29     17380.56   MALE   \n",
       "487315  176669.28                       49398.97     16648.08   MALE   \n",
       "653262  107490.24                       28983.28     10095.96   MALE   \n",
       "\n",
       "        ETHNICITY  \n",
       "74091   CAUCASIAN  \n",
       "127603  CAUCASIAN  \n",
       "182253  CAUCASIAN  \n",
       "342418  CAUCASIAN  \n",
       "457544  CAUCASIAN  \n",
       "487315  CAUCASIAN  \n",
       "653262        NaN  "
      ]
     },
     "execution_count": 149,
     "metadata": {},
     "output_type": "execute_result"
    }
   ],
   "source": [
    "bd[bd[\"RECORD_NBR\"] == 3234373331]"
   ]
  },
  {
   "cell_type": "markdown",
   "metadata": {},
   "source": [
    "Foi possivel constatar, que alguns dos registro que estão incompletos são apenas inconsistencias dentro do banco de dados, visto que alguns registros tem os valores corretos preenchidos em outras ocorrencias. Um tratamento para preencher os valores destes tipos de registro será feito posteriormente para continuação da EDA."
   ]
  }
 ],
 "metadata": {
  "kernelspec": {
   "display_name": ".venv",
   "language": "python",
   "name": "python3"
  },
  "language_info": {
   "codemirror_mode": {
    "name": "ipython",
    "version": 3
   },
   "file_extension": ".py",
   "mimetype": "text/x-python",
   "name": "python",
   "nbconvert_exporter": "python",
   "pygments_lexer": "ipython3",
   "version": "3.12.0"
  }
 },
 "nbformat": 4,
 "nbformat_minor": 2
}
